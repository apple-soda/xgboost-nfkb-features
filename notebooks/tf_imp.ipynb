{
 "cells": [
  {
   "cell_type": "code",
   "execution_count": 1,
   "id": "fd010692-ab93-4f2e-83b3-df0f5d94b31a",
   "metadata": {},
   "outputs": [],
   "source": [
    "import sys\n",
    "sys.path.append('..')\n",
    "import xgboost as xgb\n",
    "import numpy as np\n",
    "import pandas as pd\n",
    "import seaborn as sns\n",
    "import matplotlib.pyplot as plt\n",
    "import sklearn\n",
    "from core.dataset import *\n",
    "from core.utils import *"
   ]
  },
  {
   "cell_type": "code",
   "execution_count": 2,
   "id": "56ce274c-db2e-4550-9fa0-bf9e59268cc9",
   "metadata": {},
   "outputs": [],
   "source": [
    "load_dir = 'D:/Data/hoffmanlab/featureselection/data/'\n",
    "ligands = ['CpG', 'FLA', 'FSL', 'LPS', 'P3K', 'PIC', 'R84', 'TNF']\n",
    "sheet_type = 'am'"
   ]
  },
  {
   "cell_type": "code",
   "execution_count": 3,
   "id": "1a389853-6a12-4fba-98ec-c5f09b11ac1d",
   "metadata": {},
   "outputs": [],
   "source": [
    "data = Data(load_dir, ligands, sheet_type, merge=True, numpy=False)"
   ]
  },
  {
   "cell_type": "code",
   "execution_count": 15,
   "id": "fd604751-f61a-41ba-ae1e-74efbe2f4696",
   "metadata": {},
   "outputs": [],
   "source": [
    "X, y = data.iloc[:, [np.random.randint(0, 984) for i in range(6)]].to_numpy(), data.iloc[:, [984]].to_numpy().reshape(-1, )"
   ]
  },
  {
   "cell_type": "code",
   "execution_count": 18,
   "id": "46f31b18-6e28-4f43-bf92-4c1cf15d454c",
   "metadata": {},
   "outputs": [],
   "source": [
    "X_train, X_val, y_train, y_val = sklearn.model_selection.train_test_split(X, y, test_size=0.1, random_state=42)"
   ]
  },
  {
   "cell_type": "code",
   "execution_count": 19,
   "id": "f483c9a2-18a2-4854-8378-dae17268b745",
   "metadata": {},
   "outputs": [],
   "source": [
    "model = xgb.XGBClassifier(tree_method='gpu_hist', use_label_encoder=False)"
   ]
  },
  {
   "cell_type": "code",
   "execution_count": 20,
   "id": "f0b38604-f46d-4030-9140-f39b0a6a9f6a",
   "metadata": {},
   "outputs": [
    {
     "name": "stdout",
     "output_type": "stream",
     "text": [
      "[14:17:07] WARNING: C:/Users/Administrator/workspace/xgboost-win64_release_1.5.1/src/learner.cc:1115: Starting in XGBoost 1.3.0, the default evaluation metric used with the objective 'multi:softprob' was changed from 'merror' to 'mlogloss'. Explicitly set eval_metric if you'd like to restore the old behavior.\n"
     ]
    },
    {
     "data": {
      "text/plain": [
       "XGBClassifier(base_score=0.5, booster='gbtree', colsample_bylevel=1,\n",
       "              colsample_bynode=1, colsample_bytree=1, enable_categorical=False,\n",
       "              gamma=0, gpu_id=0, importance_type=None,\n",
       "              interaction_constraints='', learning_rate=0.300000012,\n",
       "              max_delta_step=0, max_depth=6, min_child_weight=1, missing=nan,\n",
       "              monotone_constraints='()', n_estimators=100, n_jobs=16,\n",
       "              num_parallel_tree=1, objective='multi:softprob', predictor='auto',\n",
       "              random_state=0, reg_alpha=0, reg_lambda=1, scale_pos_weight=None,\n",
       "              subsample=1, tree_method='gpu_hist', use_label_encoder=False,\n",
       "              validate_parameters=1, verbosity=None)"
      ]
     },
     "execution_count": 20,
     "metadata": {},
     "output_type": "execute_result"
    }
   ],
   "source": [
    "model.fit(X_train, y_train)"
   ]
  },
  {
   "cell_type": "code",
   "execution_count": 22,
   "id": "3f980beb-0b20-4d71-8a89-055fb24c1872",
   "metadata": {},
   "outputs": [],
   "source": [
    "y_pred = model.predict(X_val)"
   ]
  },
  {
   "cell_type": "code",
   "execution_count": 23,
   "id": "48ba5670-d62f-4cfb-8d7c-a07fff648b43",
   "metadata": {},
   "outputs": [],
   "source": [
    "cr = sklearn.metrics.classification_report(y_val, y_pred, target_names=ligands)"
   ]
  },
  {
   "cell_type": "code",
   "execution_count": 24,
   "id": "6edd261e-94b4-41ac-b047-58f7bc261b35",
   "metadata": {},
   "outputs": [
    {
     "name": "stdout",
     "output_type": "stream",
     "text": [
      "              precision    recall  f1-score   support\n",
      "\n",
      "         CpG       0.18      0.18      0.18       196\n",
      "         FLA       0.23      0.26      0.25       143\n",
      "         FSL       0.20      0.15      0.17       189\n",
      "         LPS       0.18      0.25      0.21       149\n",
      "         P3K       0.19      0.11      0.14       185\n",
      "         PIC       0.33      0.19      0.24       165\n",
      "         R84       0.31      0.45      0.37       249\n",
      "         TNF       0.24      0.24      0.24       162\n",
      "\n",
      "    accuracy                           0.24      1438\n",
      "   macro avg       0.23      0.23      0.22      1438\n",
      "weighted avg       0.23      0.24      0.23      1438\n",
      "\n"
     ]
    }
   ],
   "source": [
    "print(cr)"
   ]
  }
 ],
 "metadata": {
  "kernelspec": {
   "display_name": "Python 3 (ipykernel)",
   "language": "python",
   "name": "python3"
  },
  "language_info": {
   "codemirror_mode": {
    "name": "ipython",
    "version": 3
   },
   "file_extension": ".py",
   "mimetype": "text/x-python",
   "name": "python",
   "nbconvert_exporter": "python",
   "pygments_lexer": "ipython3",
   "version": "3.8.12"
  }
 },
 "nbformat": 4,
 "nbformat_minor": 5
}
