{
 "cells": [
  {
   "cell_type": "markdown",
   "id": "28421305-5e17-42fb-a90c-369d166dcacf",
   "metadata": {},
   "source": [
    "### Boosting:\n",
    "1. Fit a first model using the original data\n",
    "2. Fit a second model using the residuals of the first model\n",
    "3. Create a third model using the sums of the 1st and 2nd model"
   ]
  },
  {
   "cell_type": "markdown",
   "id": "0a14231c-c60b-4fd2-b065-0fbf706ecc07",
   "metadata": {},
   "source": [
    "* make initial prediction (0.5)\n",
    "* cover (min child weight) - important parameter\n",
    "    * threshold for whether xgboost will allow a certain leaf to exist or not\n",
    "        * sum of previously predicted probabilities * sum(1 - previously predicted probabilities) > cover\n",
    "* lambda reduces prediction sensitivity to isolated observations\n",
    "    * + lambda in denominator\n"
   ]
  },
  {
   "cell_type": "markdown",
   "id": "26cbdd3f-6384-40f4-aadd-bf35a2507abe",
   "metadata": {},
   "source": [
    "$$\\sum_{i=1} ^{n} L(y_i, p_i) + \\frac{1}{2}\\lambda O^2_{value}$$"
   ]
  },
  {
   "cell_type": "code",
   "execution_count": null,
   "id": "37e2b6bd-421b-4cc9-904c-4483fb55fdb5",
   "metadata": {},
   "outputs": [],
   "source": []
  }
 ],
 "metadata": {
  "kernelspec": {
   "display_name": "Python 3 (ipykernel)",
   "language": "python",
   "name": "python3"
  },
  "language_info": {
   "codemirror_mode": {
    "name": "ipython",
    "version": 3
   },
   "file_extension": ".py",
   "mimetype": "text/x-python",
   "name": "python",
   "nbconvert_exporter": "python",
   "pygments_lexer": "ipython3",
   "version": "3.8.12"
  }
 },
 "nbformat": 4,
 "nbformat_minor": 5
}
