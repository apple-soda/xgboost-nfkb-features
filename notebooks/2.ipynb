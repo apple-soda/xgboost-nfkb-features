{
 "cells": [
  {
   "cell_type": "markdown",
   "id": "c9300309-dd8b-4589-9ce8-438f851a30d6",
   "metadata": {},
   "source": [
    "### comparing xgboost model with 7 features vs all 985 features"
   ]
  },
  {
   "cell_type": "code",
   "execution_count": 1,
   "id": "f03e323d-8e4d-4a09-9eb4-fa2269c302e7",
   "metadata": {},
   "outputs": [],
   "source": [
    "import sys\n",
    "sys.path.append('..')"
   ]
  },
  {
   "cell_type": "code",
   "execution_count": 2,
   "id": "04cff4f1-5d6e-4a4a-982a-9ff0515ac181",
   "metadata": {},
   "outputs": [],
   "source": [
    "from core.dataset import *\n",
    "import seaborn as sns\n",
    "import numpy as np\n",
    "import pandas as pd\n",
    "import xgboost as xgb\n",
    "from sklearn.model_selection import train_test_split"
   ]
  },
  {
   "cell_type": "markdown",
   "id": "a381774f-bb5a-4d7b-9093-503164a80d54",
   "metadata": {},
   "source": [
    "#### identifying all feature columns corresponding to 7 selected features"
   ]
  },
  {
   "cell_type": "markdown",
   "id": "9b897739-3781-4e0d-a99e-e5deee48555a",
   "metadata": {},
   "source": [
    "0. max_value\n",
    "1. power\n",
    "2. ipt\n",
    "3. numpeaks\n",
    "4. valley_amps\n",
    "5. valley_times\n",
    "6. integrals_pos\n",
    "7. trough2peak"
   ]
  },
  {
   "cell_type": "markdown",
   "id": "28d30e28-c80c-4e64-9647-467384e1231a",
   "metadata": {},
   "source": [
    "##### Previously: ~ 62% accuracy when trained with all features"
   ]
  },
  {
   "cell_type": "code",
   "execution_count": 3,
   "id": "2a780835-ad3b-446f-be8f-276ebac351d6",
   "metadata": {},
   "outputs": [],
   "source": [
    "load_dir = 'D:/Data/hoffmanlab/featureselection/data/'\n",
    "ligands = ['CpG', 'FLA', 'FSL', 'LPS', 'P3K', 'PIC', 'R84', 'TNF']\n",
    "sheet_type = 'am'"
   ]
  },
  {
   "cell_type": "code",
   "execution_count": 4,
   "id": "1235a06b-69cf-4758-9d8a-ed411d8c4ea6",
   "metadata": {},
   "outputs": [],
   "source": [
    "dataset = Data(load_dir, ligands, sheet_type, merge=True, numpy=False)"
   ]
  },
  {
   "cell_type": "markdown",
   "id": "50ea75df-35a8-4b92-9a06-cd5a22e27928",
   "metadata": {},
   "source": [
    "##### Extract the 7 seven features from this dataset"
   ]
  },
  {
   "cell_type": "code",
   "execution_count": 5,
   "id": "0a26926f-0028-414e-b6c6-522ecadd464f",
   "metadata": {},
   "outputs": [
    {
     "data": {
      "text/plain": [
       "Index([  'time_series_1',   'time_series_2',   'time_series_3',\n",
       "         'time_series_4',   'time_series_5',   'time_series_6',\n",
       "         'time_series_7',   'time_series_8',   'time_series_9',\n",
       "        'time_series_10',\n",
       "       ...\n",
       "        'fold_change_92',  'fold_change_93',  'fold_change_94',\n",
       "        'fold_change_95',  'fold_change_96',  'fold_change_97',\n",
       "        'fold_change_98', 'max_fold_change',       'max_value',\n",
       "                       0],\n",
       "      dtype='object', length=985)"
      ]
     },
     "execution_count": 5,
     "metadata": {},
     "output_type": "execute_result"
    }
   ],
   "source": [
    "dataset.columns"
   ]
  },
  {
   "cell_type": "code",
   "execution_count": 6,
   "id": "dbc32d3e-b7bc-4c95-af3e-22a1a13bc984",
   "metadata": {},
   "outputs": [],
   "source": [
    "extracted_features = [dataset['integrals_pos_38'], dataset['min_trough2peak'], dataset['integrals_pos_11'], dataset['integrals_40'],\n",
    "                      dataset['integrals_pos_14'], dataset['time_series_2'], dataset['integrals_pos_12']]"
   ]
  },
  {
   "cell_type": "code",
   "execution_count": 7,
   "id": "c3930f75-2526-4817-8573-f9f23bd8b35d",
   "metadata": {},
   "outputs": [],
   "source": [
    "data = pd.DataFrame()"
   ]
  },
  {
   "cell_type": "code",
   "execution_count": 8,
   "id": "c43c23d1-166d-4940-b0f0-d2f0d80b6b70",
   "metadata": {},
   "outputs": [],
   "source": [
    "data = pd.concat(extracted_features, axis=1).to_numpy()\n",
    "labels = dataset.iloc[:, [984]].to_numpy()\n",
    "labels = np.reshape(labels, (-1, ))"
   ]
  },
  {
   "cell_type": "code",
   "execution_count": 13,
   "id": "68cef903-bee2-4af9-85aa-ff00dc11e2ce",
   "metadata": {},
   "outputs": [
    {
     "data": {
      "text/plain": [
       "(14376,)"
      ]
     },
     "execution_count": 13,
     "metadata": {},
     "output_type": "execute_result"
    }
   ],
   "source": [
    "labels.shape"
   ]
  },
  {
   "cell_type": "code",
   "execution_count": 14,
   "id": "82b79649-0a98-46d0-a1f7-4428f1e64b1e",
   "metadata": {},
   "outputs": [
    {
     "ename": "ValueError",
     "evalue": "all the input arrays must have same number of dimensions, but the array at index 0 has 2 dimension(s) and the array at index 1 has 1 dimension(s)",
     "output_type": "error",
     "traceback": [
      "\u001b[1;31m---------------------------------------------------------------------------\u001b[0m",
      "\u001b[1;31mValueError\u001b[0m                                Traceback (most recent call last)",
      "\u001b[1;32m~\\AppData\\Local\\Temp/ipykernel_23328/1838424034.py\u001b[0m in \u001b[0;36m<module>\u001b[1;34m\u001b[0m\n\u001b[1;32m----> 1\u001b[1;33m \u001b[0mX\u001b[0m \u001b[1;33m=\u001b[0m \u001b[0mnp\u001b[0m\u001b[1;33m.\u001b[0m\u001b[0mhstack\u001b[0m\u001b[1;33m(\u001b[0m\u001b[1;33m[\u001b[0m\u001b[0mdata\u001b[0m\u001b[1;33m,\u001b[0m \u001b[0mlabels\u001b[0m\u001b[1;33m.\u001b[0m\u001b[0mT\u001b[0m\u001b[1;33m]\u001b[0m\u001b[1;33m)\u001b[0m\u001b[1;33m\u001b[0m\u001b[1;33m\u001b[0m\u001b[0m\n\u001b[0m",
      "\u001b[1;32m<__array_function__ internals>\u001b[0m in \u001b[0;36mhstack\u001b[1;34m(*args, **kwargs)\u001b[0m\n",
      "\u001b[1;32m~\\miniconda3\\envs\\peep\\lib\\site-packages\\numpy\\core\\shape_base.py\u001b[0m in \u001b[0;36mhstack\u001b[1;34m(tup)\u001b[0m\n\u001b[0;32m    343\u001b[0m         \u001b[1;32mreturn\u001b[0m \u001b[0m_nx\u001b[0m\u001b[1;33m.\u001b[0m\u001b[0mconcatenate\u001b[0m\u001b[1;33m(\u001b[0m\u001b[0marrs\u001b[0m\u001b[1;33m,\u001b[0m \u001b[1;36m0\u001b[0m\u001b[1;33m)\u001b[0m\u001b[1;33m\u001b[0m\u001b[1;33m\u001b[0m\u001b[0m\n\u001b[0;32m    344\u001b[0m     \u001b[1;32melse\u001b[0m\u001b[1;33m:\u001b[0m\u001b[1;33m\u001b[0m\u001b[1;33m\u001b[0m\u001b[0m\n\u001b[1;32m--> 345\u001b[1;33m         \u001b[1;32mreturn\u001b[0m \u001b[0m_nx\u001b[0m\u001b[1;33m.\u001b[0m\u001b[0mconcatenate\u001b[0m\u001b[1;33m(\u001b[0m\u001b[0marrs\u001b[0m\u001b[1;33m,\u001b[0m \u001b[1;36m1\u001b[0m\u001b[1;33m)\u001b[0m\u001b[1;33m\u001b[0m\u001b[1;33m\u001b[0m\u001b[0m\n\u001b[0m\u001b[0;32m    346\u001b[0m \u001b[1;33m\u001b[0m\u001b[0m\n\u001b[0;32m    347\u001b[0m \u001b[1;33m\u001b[0m\u001b[0m\n",
      "\u001b[1;32m<__array_function__ internals>\u001b[0m in \u001b[0;36mconcatenate\u001b[1;34m(*args, **kwargs)\u001b[0m\n",
      "\u001b[1;31mValueError\u001b[0m: all the input arrays must have same number of dimensions, but the array at index 0 has 2 dimension(s) and the array at index 1 has 1 dimension(s)"
     ]
    }
   ],
   "source": [
    "X = np.hstack([data, labels.T])"
   ]
  },
  {
   "cell_type": "code",
   "execution_count": null,
   "id": "c59d5113-ddbf-4d75-af0f-46d2e6700ddf",
   "metadata": {},
   "outputs": [],
   "source": [
    "X.shape"
   ]
  },
  {
   "cell_type": "code",
   "execution_count": null,
   "id": "c0f48f9a-736b-42a4-9f1d-cf72793cf271",
   "metadata": {},
   "outputs": [],
   "source": [
    "X_train, X_val, y_train, y_val = train_test_split(data, labels, test_size=0.1, random_state=42)"
   ]
  },
  {
   "cell_type": "markdown",
   "id": "bd66c011-f003-4e6b-97e1-897b17046586",
   "metadata": {},
   "source": [
    "#### training the model on the top 7 features"
   ]
  },
  {
   "cell_type": "code",
   "execution_count": null,
   "id": "c108e2f2-5a92-4148-b3a4-5d96765f5ba9",
   "metadata": {},
   "outputs": [],
   "source": [
    "model = xgb.XGBClassifier()"
   ]
  },
  {
   "cell_type": "code",
   "execution_count": null,
   "id": "61e1f12b-d66f-48a4-9816-9f50ef6fb185",
   "metadata": {},
   "outputs": [],
   "source": [
    "model.fit(X_train, y_train)"
   ]
  },
  {
   "cell_type": "code",
   "execution_count": null,
   "id": "e5ded5ec-1bab-46ef-926a-0d4880664b7a",
   "metadata": {},
   "outputs": [],
   "source": [
    "pred = model.predict(X_val)"
   ]
  },
  {
   "cell_type": "code",
   "execution_count": null,
   "id": "52edc0db-536f-4416-ab3d-04c91b58a643",
   "metadata": {},
   "outputs": [],
   "source": [
    "pred"
   ]
  },
  {
   "cell_type": "code",
   "execution_count": null,
   "id": "edde6c09-400e-4468-bc51-b613bd28f01b",
   "metadata": {},
   "outputs": [],
   "source": [
    "acc = 0\n",
    "for i, j in zip(pred, y_val):\n",
    "    if i == j:\n",
    "        acc += 1\n",
    "print(f'Accuracy: {acc / len(y_val)}')"
   ]
  },
  {
   "cell_type": "markdown",
   "id": "2c65d1c5-2850-4a25-8971-e5b279cecaa1",
   "metadata": {},
   "source": [
    "#### Accuracy went from 62% -> 48% when trained on 7 features vs 985"
   ]
  },
  {
   "cell_type": "code",
   "execution_count": null,
   "id": "adf108c6-d10a-4d96-8009-ff22d2ab7513",
   "metadata": {},
   "outputs": [],
   "source": [
    "### ignore everything below this line for now"
   ]
  },
  {
   "cell_type": "code",
   "execution_count": null,
   "id": "a2126caa-4a29-495c-97e6-99d8f493c3ad",
   "metadata": {},
   "outputs": [],
   "source": [
    "# print(dataset.columns.get_loc('power_1'), dataset.columns.get_loc('power_125'))\n",
    "# power = dataset.iloc[:, [i for i in range(650, 775)]]\n",
    "# print(dataset.columns.get_loc('max_value'))\n",
    "# max_value = dataset.iloc[:, [983]]\n",
    "# print(dataset.columns.get_loc('ipt_1'), dataset.columns.get_loc('ipt_15'))\n",
    "# ipt = dataset.iloc[:, [i for i in range(449, 464)]]\n",
    "# print(dataset.columns.get_loc('num_peaks'))\n",
    "# num_peaks = dataset.iloc[:, [464]]\n",
    "# print(dataset.columns.get_loc('valley_amps_1'), )"
   ]
  }
 ],
 "metadata": {
  "kernelspec": {
   "display_name": "Python 3 (ipykernel)",
   "language": "python",
   "name": "python3"
  },
  "language_info": {
   "codemirror_mode": {
    "name": "ipython",
    "version": 3
   },
   "file_extension": ".py",
   "mimetype": "text/x-python",
   "name": "python",
   "nbconvert_exporter": "python",
   "pygments_lexer": "ipython3",
   "version": "3.8.12"
  }
 },
 "nbformat": 4,
 "nbformat_minor": 5
}
