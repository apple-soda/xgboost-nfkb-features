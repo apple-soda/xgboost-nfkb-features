{
 "cells": [
  {
   "cell_type": "code",
   "execution_count": 2,
   "id": "c09cbe61-878e-42dc-b659-0593deb20f99",
   "metadata": {},
   "outputs": [],
   "source": [
    "import sys\n",
    "sys.path.append('..')"
   ]
  },
  {
   "cell_type": "code",
   "execution_count": 11,
   "id": "4c8bccb4-b6ed-4a9a-bc1d-ba36cd651be9",
   "metadata": {},
   "outputs": [],
   "source": [
    "import numpy as np\n",
    "import pandas as pd\n",
    "import sklearn\n",
    "from core.dataset import *\n",
    "import xgboost as xgb"
   ]
  },
  {
   "cell_type": "code",
   "execution_count": 4,
   "id": "c0fb7d83-b1d9-407a-9323-c5774774f79d",
   "metadata": {},
   "outputs": [],
   "source": [
    "load_dir = 'D:/Data/hoffmanlab/featureselection/data/'\n",
    "ligands = ['CpG', 'FLA', 'FSL', 'LPS', 'P3K', 'PIC', 'R84', 'TNF']\n",
    "sheet_type = 'am'"
   ]
  },
  {
   "cell_type": "code",
   "execution_count": 8,
   "id": "2e0140eb-e9b6-4d45-ada4-0fdf5b2d757e",
   "metadata": {},
   "outputs": [],
   "source": [
    "dataset = Data(load_dir, ligands, sheet_type, merge=True)"
   ]
  },
  {
   "cell_type": "code",
   "execution_count": 10,
   "id": "751d0344-1415-43d2-8673-55f3086a146d",
   "metadata": {},
   "outputs": [
    {
     "data": {
      "text/plain": [
       "(14376, 985)"
      ]
     },
     "execution_count": 10,
     "metadata": {},
     "output_type": "execute_result"
    }
   ],
   "source": [
    "dataset.shape\n",
    "# 14376 entries, 984 features, last column is the corresponding class label"
   ]
  },
  {
   "cell_type": "code",
   "execution_count": 34,
   "id": "abff6e7a-36e3-4821-80ab-25d910adb354",
   "metadata": {},
   "outputs": [],
   "source": [
    "X = dataset[:, [i for i in range(984)]]\n",
    "y = dataset[:, [984]]"
   ]
  },
  {
   "cell_type": "code",
   "execution_count": 35,
   "id": "cf99ddd1-d8f6-4856-bb76-ec119e7695d0",
   "metadata": {},
   "outputs": [],
   "source": [
    "from sklearn.model_selection import train_test_split"
   ]
  },
  {
   "cell_type": "code",
   "execution_count": 36,
   "id": "acb41bea-b792-4724-b15e-da3c916f6dbf",
   "metadata": {},
   "outputs": [],
   "source": [
    "X_train, X_val, y_train, y_val = train_test_split(X, y, test_size=0.1, random_state=42)"
   ]
  },
  {
   "cell_type": "code",
   "execution_count": 37,
   "id": "f277d4e3-9884-47cc-ae65-07a799ac2911",
   "metadata": {},
   "outputs": [],
   "source": [
    "model = xgb.XGBClassifier()"
   ]
  },
  {
   "cell_type": "code",
   "execution_count": 38,
   "id": "0c8be443-a17c-42bc-bb51-1715e4128ebc",
   "metadata": {},
   "outputs": [
    {
     "name": "stdout",
     "output_type": "stream",
     "text": [
      "[17:04:35] WARNING: D:\\bld\\xgboost-split_1645118015404\\work\\src\\learner.cc:1115: Starting in XGBoost 1.3.0, the default evaluation metric used with the objective 'multi:softprob' was changed from 'merror' to 'mlogloss'. Explicitly set eval_metric if you'd like to restore the old behavior.\n"
     ]
    },
    {
     "data": {
      "text/plain": [
       "XGBClassifier(base_score=0.5, booster='gbtree', colsample_bylevel=1,\n",
       "              colsample_bynode=1, colsample_bytree=1, enable_categorical=False,\n",
       "              gamma=0, gpu_id=-1, importance_type=None,\n",
       "              interaction_constraints='', learning_rate=0.300000012,\n",
       "              max_delta_step=0, max_depth=6, min_child_weight=1, missing=nan,\n",
       "              monotone_constraints='()', n_estimators=100, n_jobs=16,\n",
       "              num_parallel_tree=1, objective='multi:softprob', predictor='auto',\n",
       "              random_state=0, reg_alpha=0, reg_lambda=1, scale_pos_weight=None,\n",
       "              subsample=1, tree_method='exact', validate_parameters=1,\n",
       "              verbosity=None)"
      ]
     },
     "execution_count": 38,
     "metadata": {},
     "output_type": "execute_result"
    }
   ],
   "source": [
    "model.fit(X_train, y_train)"
   ]
  },
  {
   "cell_type": "code",
   "execution_count": 52,
   "id": "1a72d34d-e7a3-4203-bd86-a6a1fe4d7482",
   "metadata": {},
   "outputs": [],
   "source": [
    "pred = model.predict(X_val)"
   ]
  },
  {
   "cell_type": "code",
   "execution_count": 44,
   "id": "11afc88b-9976-4fa4-9231-0933dd17e78d",
   "metadata": {},
   "outputs": [],
   "source": [
    "pred_df = pd.DataFrame(pred)\n",
    "y_val_df = pd.DataFrame(y_val)"
   ]
  },
  {
   "cell_type": "code",
   "execution_count": 54,
   "id": "48d1b1a8-a42b-4ef7-bb01-f03f420fb134",
   "metadata": {},
   "outputs": [],
   "source": [
    "acc = 0\n",
    "for x, y in zip(pred, y_val):\n",
    "    if x == y:\n",
    "        acc += 1"
   ]
  },
  {
   "cell_type": "code",
   "execution_count": 56,
   "id": "3906ff71-fed5-479c-9226-57c707ea079b",
   "metadata": {},
   "outputs": [
    {
     "data": {
      "text/plain": [
       "0.6467315716272601"
      ]
     },
     "execution_count": 56,
     "metadata": {},
     "output_type": "execute_result"
    }
   ],
   "source": [
    "print(f'Default accuracy: {acc / len(y_val)}"
   ]
  },
  {
   "cell_type": "code",
   "execution_count": null,
   "id": "418aab7b-0db3-4c4b-8f37-c9b517bd1ed2",
   "metadata": {},
   "outputs": [],
   "source": []
  }
 ],
 "metadata": {
  "kernelspec": {
   "display_name": "Python 3 (ipykernel)",
   "language": "python",
   "name": "python3"
  },
  "language_info": {
   "codemirror_mode": {
    "name": "ipython",
    "version": 3
   },
   "file_extension": ".py",
   "mimetype": "text/x-python",
   "name": "python",
   "nbconvert_exporter": "python",
   "pygments_lexer": "ipython3",
   "version": "3.8.12"
  }
 },
 "nbformat": 4,
 "nbformat_minor": 5
}
