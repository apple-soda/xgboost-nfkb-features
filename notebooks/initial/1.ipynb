{
 "cells": [
  {
   "cell_type": "code",
   "execution_count": 34,
   "id": "c09cbe61-878e-42dc-b659-0593deb20f99",
   "metadata": {},
   "outputs": [],
   "source": [
    "import sys\n",
    "sys.path.append('..')"
   ]
  },
  {
   "cell_type": "code",
   "execution_count": 35,
   "id": "4c8bccb4-b6ed-4a9a-bc1d-ba36cd651be9",
   "metadata": {},
   "outputs": [],
   "source": [
    "import numpy as np\n",
    "import pandas as pd\n",
    "import sklearn\n",
    "from core.dataset import *\n",
    "import xgboost as xgb\n",
    "import matplotlib.pyplot as plt"
   ]
  },
  {
   "cell_type": "code",
   "execution_count": 36,
   "id": "c0fb7d83-b1d9-407a-9323-c5774774f79d",
   "metadata": {},
   "outputs": [],
   "source": [
    "load_dir = 'D:/Data/hoffmanlab/featureselection/data/'\n",
    "ligands = ['CpG', 'FLA', 'FSL', 'LPS', 'P3K', 'PIC', 'R84', 'TNF']\n",
    "sheet_type = 'am'"
   ]
  },
  {
   "cell_type": "code",
   "execution_count": 37,
   "id": "2e0140eb-e9b6-4d45-ada4-0fdf5b2d757e",
   "metadata": {},
   "outputs": [],
   "source": [
    "dataset = Data(load_dir, ligands, sheet_type, merge=True)"
   ]
  },
  {
   "cell_type": "code",
   "execution_count": 38,
   "id": "751d0344-1415-43d2-8673-55f3086a146d",
   "metadata": {},
   "outputs": [
    {
     "data": {
      "text/plain": [
       "(14376, 985)"
      ]
     },
     "execution_count": 38,
     "metadata": {},
     "output_type": "execute_result"
    }
   ],
   "source": [
    "dataset.shape\n",
    "# 14376 entries, 984 features, last column is the corresponding class label"
   ]
  },
  {
   "cell_type": "code",
   "execution_count": 39,
   "id": "abff6e7a-36e3-4821-80ab-25d910adb354",
   "metadata": {},
   "outputs": [],
   "source": [
    "X = dataset.iloc[:, [i for i in range(984)]]\n",
    "y = dataset.iloc[:, [984]]"
   ]
  },
  {
   "cell_type": "code",
   "execution_count": 40,
   "id": "cf99ddd1-d8f6-4856-bb76-ec119e7695d0",
   "metadata": {},
   "outputs": [],
   "source": [
    "from sklearn.model_selection import train_test_split"
   ]
  },
  {
   "cell_type": "code",
   "execution_count": 41,
   "id": "acb41bea-b792-4724-b15e-da3c916f6dbf",
   "metadata": {},
   "outputs": [],
   "source": [
    "X_train, X_val, y_train, y_val = train_test_split(X, y, test_size=0.1, random_state=42)"
   ]
  },
  {
   "cell_type": "code",
   "execution_count": 42,
   "id": "f277d4e3-9884-47cc-ae65-07a799ac2911",
   "metadata": {},
   "outputs": [],
   "source": [
    "model = xgb.XGBClassifier(tree_method='gpu_hist', use_label_encoder=False, min_child_weight=0, max_depth=15)"
   ]
  },
  {
   "cell_type": "code",
   "execution_count": 43,
   "id": "0c8be443-a17c-42bc-bb51-1715e4128ebc",
   "metadata": {},
   "outputs": [
    {
     "name": "stdout",
     "output_type": "stream",
     "text": [
      "[18:28:04] WARNING: C:/Users/Administrator/workspace/xgboost-win64_release_1.5.1/src/learner.cc:1115: Starting in XGBoost 1.3.0, the default evaluation metric used with the objective 'multi:softprob' was changed from 'merror' to 'mlogloss'. Explicitly set eval_metric if you'd like to restore the old behavior.\n"
     ]
    },
    {
     "data": {
      "text/plain": [
       "XGBClassifier(base_score=0.5, booster='gbtree', colsample_bylevel=1,\n",
       "              colsample_bynode=1, colsample_bytree=1, enable_categorical=False,\n",
       "              gamma=0, gpu_id=0, importance_type=None,\n",
       "              interaction_constraints='', learning_rate=0.300000012,\n",
       "              max_delta_step=0, max_depth=15, min_child_weight=0, missing=nan,\n",
       "              monotone_constraints='()', n_estimators=100, n_jobs=16,\n",
       "              num_parallel_tree=1, objective='multi:softprob', predictor='auto',\n",
       "              random_state=0, reg_alpha=0, reg_lambda=1, scale_pos_weight=None,\n",
       "              subsample=1, tree_method='gpu_hist', use_label_encoder=False,\n",
       "              validate_parameters=1, verbosity=None)"
      ]
     },
     "execution_count": 43,
     "metadata": {},
     "output_type": "execute_result"
    }
   ],
   "source": [
    "model.fit(X_train, y_train)"
   ]
  },
  {
   "cell_type": "code",
   "execution_count": 49,
   "id": "1a72d34d-e7a3-4203-bd86-a6a1fe4d7482",
   "metadata": {},
   "outputs": [],
   "source": [
    "pred = model.predict(X_val)"
   ]
  },
  {
   "cell_type": "code",
   "execution_count": 50,
   "id": "11afc88b-9976-4fa4-9231-0933dd17e78d",
   "metadata": {},
   "outputs": [],
   "source": [
    "pred_df = pd.DataFrame(pred)\n",
    "y_val_df = pd.DataFrame(y_val)"
   ]
  },
  {
   "cell_type": "code",
   "execution_count": 51,
   "id": "f3231e5e-f67e-4c42-b898-c7698f95cd62",
   "metadata": {},
   "outputs": [],
   "source": [
    "from sklearn.metrics import classification_report"
   ]
  },
  {
   "cell_type": "code",
   "execution_count": 52,
   "id": "48d1b1a8-a42b-4ef7-bb01-f03f420fb134",
   "metadata": {},
   "outputs": [],
   "source": [
    "cr = classification_report(y_val, pred, target_names=ligands)"
   ]
  },
  {
   "cell_type": "code",
   "execution_count": 53,
   "id": "3906ff71-fed5-479c-9226-57c707ea079b",
   "metadata": {},
   "outputs": [
    {
     "name": "stdout",
     "output_type": "stream",
     "text": [
      "              precision    recall  f1-score   support\n",
      "\n",
      "         CpG       0.52      0.55      0.53       196\n",
      "         FLA       0.52      0.41      0.45       143\n",
      "         FSL       0.58      0.62      0.60       189\n",
      "         LPS       0.59      0.77      0.67       149\n",
      "         P3K       0.62      0.48      0.54       185\n",
      "         PIC       0.72      0.70      0.71       165\n",
      "         R84       0.77      0.82      0.79       249\n",
      "         TNF       0.73      0.69      0.71       162\n",
      "\n",
      "    accuracy                           0.64      1438\n",
      "   macro avg       0.63      0.63      0.63      1438\n",
      "weighted avg       0.64      0.64      0.64      1438\n",
      "\n"
     ]
    }
   ],
   "source": [
    "print(cr)"
   ]
  },
  {
   "cell_type": "code",
   "execution_count": 15,
   "id": "418aab7b-0db3-4c4b-8f37-c9b517bd1ed2",
   "metadata": {},
   "outputs": [
    {
     "data": {
      "text/plain": [
       "<AxesSubplot:title={'center':'Feature importance'}, xlabel='F score', ylabel='Features'>"
      ]
     },
     "execution_count": 15,
     "metadata": {},
     "output_type": "execute_result"
    },
    {
     "data": {
      "image/png": "[encoded data removed]",
      "text/plain": [
       "<Figure size 432x288 with 1 Axes>"
      ]
     },
     "metadata": {
      "needs_background": "light"
     },
     "output_type": "display_data"
    }
   ],
   "source": [
    "xgb.plot_importance(model)"
   ]
  },
  {
   "cell_type": "code",
   "execution_count": 16,
   "id": "505505d7-c54e-4c6e-9602-5e7d7045d5f5",
   "metadata": {},
   "outputs": [],
   "source": [
    "feature_importance = model.feature_importances_"
   ]
  },
  {
   "cell_type": "code",
   "execution_count": 17,
   "id": "6d1988c5-5ad4-4002-8fdf-8acfd6e0d700",
   "metadata": {},
   "outputs": [],
   "source": [
    "argsort = model.feature_importances_.argsort()"
   ]
  },
  {
   "cell_type": "code",
   "execution_count": 18,
   "id": "5eb39f44-a305-4f65-9378-40741868c0e3",
   "metadata": {},
   "outputs": [],
   "source": [
    "sorted_fi = argsort[::-1] # 10 most important features?"
   ]
  },
  {
   "cell_type": "markdown",
   "id": "9a7d26f9-f87a-41c1-96aa-d86cbc512d72",
   "metadata": {},
   "source": [
    "#### a lot of the features (sorted by importance) are sequential\n",
    "* 750ish - 800ish is power_xyz"
   ]
  },
  {
   "cell_type": "code",
   "execution_count": 19,
   "id": "dd412425-b5b2-47d7-aefa-df8c8a1597c8",
   "metadata": {},
   "outputs": [],
   "source": [
    "test = pd.read_csv(load_dir + 'CpG_am.csv') # just using this as a placeholder to extract columns for plotting"
   ]
  },
  {
   "cell_type": "code",
   "execution_count": 20,
   "id": "e48aabe5-803b-40c1-a751-7e6026703341",
   "metadata": {},
   "outputs": [],
   "source": [
    "import seaborn as sns"
   ]
  },
  {
   "cell_type": "code",
   "execution_count": 21,
   "id": "204c43c9-90a8-4f8c-954d-1ede0978aeaa",
   "metadata": {},
   "outputs": [
    {
     "data": {
      "text/plain": [
       "<AxesSubplot:>"
      ]
     },
     "execution_count": 21,
     "metadata": {},
     "output_type": "execute_result"
    },
    {
     "data": {
      "image/png": "[encoded data removed]",
      "text/plain": [
       "<Figure size 432x288 with 1 Axes>"
      ]
     },
     "metadata": {
      "needs_background": "light"
     },
     "output_type": "display_data"
    }
   ],
   "source": [
    "sns.barplot(x=feature_importance, y=test.columns)"
   ]
  },
  {
   "cell_type": "code",
   "execution_count": 22,
   "id": "78b44e11-88b3-4b82-b171-25bc5a43ceb4",
   "metadata": {},
   "outputs": [
    {
     "data": {
      "text/plain": [
       "<AxesSubplot:>"
      ]
     },
     "execution_count": 22,
     "metadata": {},
     "output_type": "execute_result"
    },
    {
     "data": {
      "image/png": "[encoded data removed]",
      "text/plain": [
       "<Figure size 432x288 with 1 Axes>"
      ]
     },
     "metadata": {
      "needs_background": "light"
     },
     "output_type": "display_data"
    }
   ],
   "source": [
    "sns.barplot(x=feature_importance[sorted_fi], y=test.columns[sorted_fi])"
   ]
  },
  {
   "cell_type": "markdown",
   "id": "e1a577de-aaee-4c0e-ad78-46bfebca7856",
   "metadata": {},
   "source": [
    "#### data plots are too cluttered due to size of features"
   ]
  },
  {
   "cell_type": "code",
   "execution_count": 23,
   "id": "d4997ff9-b991-4bc4-bdbe-664eaa6a3eff",
   "metadata": {},
   "outputs": [],
   "source": [
    "sorted_features = test.columns[sorted_fi]"
   ]
  },
  {
   "cell_type": "code",
   "execution_count": 24,
   "id": "7ae723de-3bb4-4edf-ae91-7bc648f1ef63",
   "metadata": {},
   "outputs": [],
   "source": [
    "df_sorted_features = pd.DataFrame(sorted_features)"
   ]
  },
  {
   "cell_type": "code",
   "execution_count": 25,
   "id": "cbcb31f7-c9b3-4433-a053-78190403c37b",
   "metadata": {},
   "outputs": [],
   "source": [
    "df_sorted_features.to_csv('C:/Users/minha/Research/hoffmanlab/featuresel/data/untuned_model_feature_importance5.csv', index=False)"
   ]
  },
  {
   "cell_type": "code",
   "execution_count": 26,
   "id": "967899a8-fb5f-454c-b414-1e2179893923",
   "metadata": {},
   "outputs": [
    {
     "data": {
      "text/plain": [
       "Index(['integrals_pos_12', 'time_series_2', 'integrals_pos_11', 'integrals_40',\n",
       "       'min_trough2peak', 'integrals_pos_14', 'integrals_10',\n",
       "       'integrals_pos_40', 'integrals_pos_36', 'envelope_3', 'envelope_2',\n",
       "       'fold_change_20', 'oscpower', 'integrals_22', 'integrals_13',\n",
       "       'integrals_60', 'valley_amps_6', 'time_series_6', 'valley_amps_3',\n",
       "       'integrals_pos_35', 'derivatives_1', 'integrals_pos_37',\n",
       "       'time2HalfMaxIntegral', 'fold_change_17', 'fold_change_3',\n",
       "       'integrals_4', 'derivatives_3', 'time_series_11', 'fold_change_21',\n",
       "       'oscbandwidth', 'integrals_89', 'valley_amps_5', 'valley_amps_2',\n",
       "       'time_series_10', 'peak2rms', 'intwin1_1', 'derivatives_2',\n",
       "       'integrals_pos_27', 'integrals_pos_67', 'fold_change_29',\n",
       "       'integrals_pos_49', 'integrals_pos_9', 'time_series_3', 'fold_change_2',\n",
       "       'integrals_29', 'integrals_30', 'fold_change_24', 'fold_change_31',\n",
       "       'peak_amps_1', 'integrals_pos_63', 'peak_times_1', 'integrals_31',\n",
       "       'psd_3', 'fold_change_12', 'mean_derivative', 'valley_amps_1',\n",
       "       'integrals_pos_5', 'envelope_14', 'fold_change_30', 'time_series_24',\n",
       "       'envelope_1', 'integrals_71', 'duration_15', 'valley_times_1',\n",
       "       'fold_change_9', 'mean_movvar', 'fold_change_32', 'integrals_9',\n",
       "       'integrals_pos_69', 'fold_change_8', 'integrals_73', 'integrals_56',\n",
       "       'oscfrac_4', 'integrals_pos_4', 'mean_movstd', 'min_derivative',\n",
       "       'integrals_34', 'integrals_38', 'envelope_8', 'integrals_96',\n",
       "       'integrals_pos_97', 'fold_change_16', 'integrals_pos_3',\n",
       "       'integrals_pos_61', 'cv_peak_amp', 'min_peak2trough', 'envelope_7',\n",
       "       'pk1_time', 'fold_change_15', 'fold_change_7', 'trough2peak_1',\n",
       "       'integrals_44', 'max_trough2peak', 'integrals_pos_8', 'max_derivative',\n",
       "       'time_series_23', 'time_series_9', 'mean_peak2trough', 'derivatives_15',\n",
       "       'integrals_pos_96'],\n",
       "      dtype='object')"
      ]
     },
     "execution_count": 26,
     "metadata": {},
     "output_type": "execute_result"
    }
   ],
   "source": [
    "sorted_features[:100] # 100 most important features"
   ]
  },
  {
   "cell_type": "code",
   "execution_count": 27,
   "id": "1d5eeb9a-82df-4257-9e5a-0ee31cb597ba",
   "metadata": {},
   "outputs": [],
   "source": [
    "numerically_sorted_features = sorted(feature_importance)"
   ]
  },
  {
   "cell_type": "code",
   "execution_count": 28,
   "id": "91796f4f-5899-48c0-9107-f542f478109d",
   "metadata": {},
   "outputs": [],
   "source": [
    "numerically_sorted_features = numerically_sorted_features[::-1]"
   ]
  },
  {
   "cell_type": "code",
   "execution_count": 29,
   "id": "96551567-1222-40d4-afab-6dc4f029c613",
   "metadata": {},
   "outputs": [
    {
     "data": {
      "text/plain": [
       "[0.029726757,\n",
       " 0.026820967,\n",
       " 0.026264776,\n",
       " 0.019964652,\n",
       " 0.019936968,\n",
       " 0.018649433,\n",
       " 0.0138979405,\n",
       " 0.013502658,\n",
       " 0.012825438,\n",
       " 0.011374371]"
      ]
     },
     "execution_count": 29,
     "metadata": {},
     "output_type": "execute_result"
    }
   ],
   "source": [
    "numerically_sorted_features[:10] # the most important features are 3x more important than the bottom of the 10"
   ]
  },
  {
   "cell_type": "markdown",
   "id": "e550d7c6-a6ad-4859-9b4f-f6301ce9d4b7",
   "metadata": {},
   "source": [
    "#### some basic takeaways:\n",
    "* some of the most important features include: integrals_pos, min_trough2peak, integrals, oscpower, envelope, time2halfmaxintegral, fold_change, derivatives\n",
    "* the 7 MOST important features: \n",
    "       'integrals_pos_38', 'min_trough2peak', 'integrals_pos_11',\n",
    "       'integrals_40', 'integrals_pos_14', 'time_series_2', 'integrals_pos_12'"
   ]
  }
 ],
 "metadata": {
  "kernelspec": {
   "display_name": "Python 3 (ipykernel)",
   "language": "python",
   "name": "python3"
  },
  "language_info": {
   "codemirror_mode": {
    "name": "ipython",
    "version": 3
   },
   "file_extension": ".py",
   "mimetype": "text/x-python",
   "name": "python",
   "nbconvert_exporter": "python",
   "pygments_lexer": "ipython3",
   "version": "3.8.12"
  }
 },
 "nbformat": 4,
 "nbformat_minor": 5
}
