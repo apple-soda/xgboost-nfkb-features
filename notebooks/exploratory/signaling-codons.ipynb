{
 "cells": [
  {
   "cell_type": "code",
   "execution_count": 1,
   "id": "9b5cbf34-be33-4f58-a0ba-b475d532a006",
   "metadata": {},
   "outputs": [],
   "source": [
    "import sys\n",
    "sys.path.append('..')"
   ]
  },
  {
   "cell_type": "code",
   "execution_count": 2,
   "id": "8b4f904b-41e5-46dc-bc79-68203bbca297",
   "metadata": {},
   "outputs": [],
   "source": [
    "from core.dataset import *\n",
    "from sklearn."
   ]
  },
  {
   "cell_type": "code",
   "execution_count": 4,
   "id": "0baeac7f-fe0f-410a-ab47-5541d800ca51",
   "metadata": {},
   "outputs": [],
   "source": [
    "load_dir = 'D:/Data/hoffmanlab/featureselection/data/'\n",
    "ligands = ['CpG', 'FLA', 'FSL', 'LPS', 'P3K', 'PIC', 'R84', 'TNF']\n",
    "sheet_type = 'sc'"
   ]
  },
  {
   "cell_type": "code",
   "execution_count": 10,
   "id": "e7accd23-9208-4c5e-b543-74c94e33b296",
   "metadata": {},
   "outputs": [],
   "source": [
    "data = Data(load_dir, ligands, sheet_type, merge=True)"
   ]
  },
  {
   "cell_type": "code",
   "execution_count": 13,
   "id": "e6b8ce70-5285-45ef-a43a-74be25806973",
   "metadata": {},
   "outputs": [],
   "source": [
    "from sklearn.model_selection import train_test_split"
   ]
  },
  {
   "cell_type": "code",
   "execution_count": 17,
   "id": "46b5c169-bbb5-4ae0-a555-fe2093fdfe4a",
   "metadata": {},
   "outputs": [],
   "source": [
    "Y = data.iloc[:, [6]]"
   ]
  },
  {
   "cell_type": "code",
   "execution_count": 19,
   "id": "7161751d-22fd-45b4-b0f1-358599ee8cc3",
   "metadata": {},
   "outputs": [],
   "source": [
    "X = data.iloc[:, [i for i in range(6)]]"
   ]
  },
  {
   "cell_type": "code",
   "execution_count": 21,
   "id": "25859aed-b73a-4f8a-ab17-d508eebbef30",
   "metadata": {},
   "outputs": [],
   "source": [
    "X_numpy, Y_numpy = X.to_numpy(), Y.to_numpy().reshape(-1, )"
   ]
  },
  {
   "cell_type": "code",
   "execution_count": 24,
   "id": "4f45bdec-1f0d-4eb7-ad7b-2b62641d7f6d",
   "metadata": {},
   "outputs": [],
   "source": [
    "X_train, X_val, y_train, y_val = train_test_split(X_numpy, Y_numpy, test_size=0.1)"
   ]
  },
  {
   "cell_type": "code",
   "execution_count": 25,
   "id": "5cea6d99-eb55-4db5-b5fe-6087eb2da67a",
   "metadata": {},
   "outputs": [],
   "source": [
    "import xgboost as xgb"
   ]
  },
  {
   "cell_type": "code",
   "execution_count": 28,
   "id": "73d62106-a72b-46d7-8044-e6b79634bde5",
   "metadata": {},
   "outputs": [],
   "source": [
    "model = xgb.XGBClassifier(use_label_encoder=False)"
   ]
  },
  {
   "cell_type": "code",
   "execution_count": 29,
   "id": "3323b01a-cedb-48c3-bcd1-2026ebdf39ca",
   "metadata": {},
   "outputs": [
    {
     "name": "stdout",
     "output_type": "stream",
     "text": [
      "[14:25:10] WARNING: C:/Users/Administrator/workspace/xgboost-win64_release_1.5.1/src/learner.cc:1115: Starting in XGBoost 1.3.0, the default evaluation metric used with the objective 'multi:softprob' was changed from 'merror' to 'mlogloss'. Explicitly set eval_metric if you'd like to restore the old behavior.\n"
     ]
    },
    {
     "data": {
      "text/plain": [
       "XGBClassifier(base_score=0.5, booster='gbtree', colsample_bylevel=1,\n",
       "              colsample_bynode=1, colsample_bytree=1, enable_categorical=False,\n",
       "              gamma=0, gpu_id=-1, importance_type=None,\n",
       "              interaction_constraints='', learning_rate=0.300000012,\n",
       "              max_delta_step=0, max_depth=6, min_child_weight=1, missing=nan,\n",
       "              monotone_constraints='()', n_estimators=100, n_jobs=16,\n",
       "              num_parallel_tree=1, objective='multi:softprob', predictor='auto',\n",
       "              random_state=0, reg_alpha=0, reg_lambda=1, scale_pos_weight=None,\n",
       "              subsample=1, tree_method='exact', use_label_encoder=False,\n",
       "              validate_parameters=1, verbosity=None)"
      ]
     },
     "execution_count": 29,
     "metadata": {},
     "output_type": "execute_result"
    }
   ],
   "source": [
    "model.fit(X_train, y_train)"
   ]
  },
  {
   "cell_type": "code",
   "execution_count": 30,
   "id": "864c5192-65b9-4a82-9783-897391a387d3",
   "metadata": {},
   "outputs": [],
   "source": [
    "pred = model.predict(X_val)"
   ]
  },
  {
   "cell_type": "code",
   "execution_count": 33,
   "id": "3c0cf0d4-88d1-4730-ae86-8a70cf787b60",
   "metadata": {},
   "outputs": [],
   "source": [
    "from sklearn.metrics import classification_report"
   ]
  },
  {
   "cell_type": "code",
   "execution_count": 34,
   "id": "d19b2baf-1c45-4964-9d1a-f9c99cc69a34",
   "metadata": {},
   "outputs": [],
   "source": [
    "cr = classification_report(pred, y_val, target_names=ligands)"
   ]
  },
  {
   "cell_type": "code",
   "execution_count": 35,
   "id": "6df6ff8b-c0a0-48dd-b4d6-f753633dbfa8",
   "metadata": {},
   "outputs": [
    {
     "name": "stdout",
     "output_type": "stream",
     "text": [
      "              precision    recall  f1-score   support\n",
      "\n",
      "         CpG       0.36      0.34      0.35       223\n",
      "         FLA       0.24      0.32      0.27       130\n",
      "         FSL       0.34      0.40      0.37       159\n",
      "         LPS       0.41      0.35      0.38       189\n",
      "         P3K       0.31      0.35      0.33       119\n",
      "         PIC       0.55      0.43      0.49       171\n",
      "         R84       0.60      0.56      0.58       306\n",
      "         TNF       0.49      0.53      0.51       141\n",
      "\n",
      "    accuracy                           0.42      1438\n",
      "   macro avg       0.41      0.41      0.41      1438\n",
      "weighted avg       0.44      0.42      0.43      1438\n",
      "\n"
     ]
    }
   ],
   "source": [
    "print(cr)"
   ]
  },
  {
   "cell_type": "code",
   "execution_count": null,
   "id": "1444f056-ba00-4bfb-915a-79f2eadd4b8c",
   "metadata": {},
   "outputs": [],
   "source": []
  }
 ],
 "metadata": {
  "kernelspec": {
   "display_name": "Python 3 (ipykernel)",
   "language": "python",
   "name": "python3"
  },
  "language_info": {
   "codemirror_mode": {
    "name": "ipython",
    "version": 3
   },
   "file_extension": ".py",
   "mimetype": "text/x-python",
   "name": "python",
   "nbconvert_exporter": "python",
   "pygments_lexer": "ipython3",
   "version": "3.8.12"
  }
 },
 "nbformat": 4,
 "nbformat_minor": 5
}
