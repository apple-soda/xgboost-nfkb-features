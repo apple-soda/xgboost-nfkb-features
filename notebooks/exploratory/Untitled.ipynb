{
 "cells": [
  {
   "cell_type": "code",
   "execution_count": 1,
   "id": "2eabed7a-1d7a-4337-aae0-3c9314b10629",
   "metadata": {},
   "outputs": [],
   "source": [
    "import sys\n",
    "sys.path.append('..')"
   ]
  },
  {
   "cell_type": "code",
   "execution_count": 2,
   "id": "065a1ecb-0837-4d91-8b9e-5cad8f2389e0",
   "metadata": {},
   "outputs": [],
   "source": [
    "from core.dataset import *\n",
    "from sklearn.model_selection import train_test_split\n",
    "from sklearn.metrics import classification_report\n",
    "import xgboost as xgb\n",
    "import numpy as np\n",
    "import matplotlib.pyplot as plt\n",
    "import seaborn as sns\n",
    "import pandas as pd"
   ]
  },
  {
   "cell_type": "code",
   "execution_count": 3,
   "id": "e59b2faf-8995-41d1-a6a7-5a8af1b3d7e4",
   "metadata": {},
   "outputs": [],
   "source": [
    "load_dir = 'D:/Data/hoffmanlab/featureselection/data/'\n",
    "ligands = ['CpG', 'FLA', 'FSL', 'LPS', 'P3K', 'PIC', 'R84', 'TNF']\n",
    "sheet_type = 'am'"
   ]
  },
  {
   "cell_type": "code",
   "execution_count": 4,
   "id": "0e4ed4b5-8697-4ee4-9942-4c29e3bf08a9",
   "metadata": {},
   "outputs": [],
   "source": [
    "trip1 = ['TNF', 'LPS', 'PIC']"
   ]
  },
  {
   "cell_type": "code",
   "execution_count": 5,
   "id": "afc05244-4432-46a4-bac8-673eb78cd13d",
   "metadata": {},
   "outputs": [],
   "source": [
    "t1_data = Data(load_dir, trip1, sheet_type, merge=True)"
   ]
  },
  {
   "cell_type": "code",
   "execution_count": 6,
   "id": "56cf34fe-fcdd-48f8-82c6-0c6f4d789485",
   "metadata": {},
   "outputs": [],
   "source": [
    "from core.optimizers import *"
   ]
  },
  {
   "cell_type": "code",
   "execution_count": 7,
   "id": "e8d7a34f-c3b4-42fc-8168-72d47f6d7ed8",
   "metadata": {},
   "outputs": [],
   "source": [
    "splits = [984, 500, 250, 125, 75, 40, 20, 10]\n",
    "features = list(t1_data.iloc[:, [i for i in range(984)]].columns)"
   ]
  },
  {
   "cell_type": "code",
   "execution_count": 9,
   "id": "2f3ddf64-814c-456e-b0c8-567d2582bfa4",
   "metadata": {},
   "outputs": [
    {
     "name": "stdout",
     "output_type": "stream",
     "text": [
      "[18:11:54] WARNING: C:/Users/Administrator/workspace/xgboost-win64_release_1.5.1/src/learner.cc:1115: Starting in XGBoost 1.3.0, the default evaluation metric used with the objective 'multi:softprob' was changed from 'merror' to 'mlogloss'. Explicitly set eval_metric if you'd like to restore the old behavior.\n",
      "              precision    recall  f1-score   support\n",
      "\n",
      "         TNF       0.90      0.89      0.89       158\n",
      "         LPS       0.89      0.90      0.90       181\n",
      "         PIC       0.85      0.85      0.85       137\n",
      "\n",
      "    accuracy                           0.88       476\n",
      "   macro avg       0.88      0.88      0.88       476\n",
      "weighted avg       0.88      0.88      0.88       476\n",
      "\n",
      "[18:12:01] WARNING: C:/Users/Administrator/workspace/xgboost-win64_release_1.5.1/src/learner.cc:1115: Starting in XGBoost 1.3.0, the default evaluation metric used with the objective 'multi:softprob' was changed from 'merror' to 'mlogloss'. Explicitly set eval_metric if you'd like to restore the old behavior.\n",
      "              precision    recall  f1-score   support\n",
      "\n",
      "         TNF       0.90      0.89      0.89       158\n",
      "         LPS       0.89      0.90      0.89       181\n",
      "         PIC       0.88      0.89      0.89       137\n",
      "\n",
      "    accuracy                           0.89       476\n",
      "   macro avg       0.89      0.89      0.89       476\n",
      "weighted avg       0.89      0.89      0.89       476\n",
      "\n",
      "[18:12:05] WARNING: C:/Users/Administrator/workspace/xgboost-win64_release_1.5.1/src/learner.cc:1115: Starting in XGBoost 1.3.0, the default evaluation metric used with the objective 'multi:softprob' was changed from 'merror' to 'mlogloss'. Explicitly set eval_metric if you'd like to restore the old behavior.\n",
      "              precision    recall  f1-score   support\n",
      "\n",
      "         TNF       0.89      0.90      0.89       158\n",
      "         LPS       0.89      0.88      0.88       181\n",
      "         PIC       0.87      0.87      0.87       137\n",
      "\n",
      "    accuracy                           0.88       476\n",
      "   macro avg       0.88      0.88      0.88       476\n",
      "weighted avg       0.88      0.88      0.88       476\n",
      "\n",
      "[18:12:08] WARNING: C:/Users/Administrator/workspace/xgboost-win64_release_1.5.1/src/learner.cc:1115: Starting in XGBoost 1.3.0, the default evaluation metric used with the objective 'multi:softprob' was changed from 'merror' to 'mlogloss'. Explicitly set eval_metric if you'd like to restore the old behavior.\n",
      "              precision    recall  f1-score   support\n",
      "\n",
      "         TNF       0.89      0.89      0.89       158\n",
      "         LPS       0.89      0.88      0.88       181\n",
      "         PIC       0.86      0.87      0.86       137\n",
      "\n",
      "    accuracy                           0.88       476\n",
      "   macro avg       0.88      0.88      0.88       476\n",
      "weighted avg       0.88      0.88      0.88       476\n",
      "\n",
      "[18:12:10] WARNING: C:/Users/Administrator/workspace/xgboost-win64_release_1.5.1/src/learner.cc:1115: Starting in XGBoost 1.3.0, the default evaluation metric used with the objective 'multi:softprob' was changed from 'merror' to 'mlogloss'. Explicitly set eval_metric if you'd like to restore the old behavior.\n",
      "              precision    recall  f1-score   support\n",
      "\n",
      "         TNF       0.89      0.91      0.90       158\n",
      "         LPS       0.88      0.87      0.88       181\n",
      "         PIC       0.85      0.85      0.85       137\n",
      "\n",
      "    accuracy                           0.88       476\n",
      "   macro avg       0.87      0.87      0.87       476\n",
      "weighted avg       0.88      0.88      0.88       476\n",
      "\n",
      "[18:12:12] WARNING: C:/Users/Administrator/workspace/xgboost-win64_release_1.5.1/src/learner.cc:1115: Starting in XGBoost 1.3.0, the default evaluation metric used with the objective 'multi:softprob' was changed from 'merror' to 'mlogloss'. Explicitly set eval_metric if you'd like to restore the old behavior.\n",
      "              precision    recall  f1-score   support\n",
      "\n",
      "         TNF       0.87      0.89      0.88       158\n",
      "         LPS       0.88      0.86      0.87       181\n",
      "         PIC       0.83      0.84      0.83       137\n",
      "\n",
      "    accuracy                           0.86       476\n",
      "   macro avg       0.86      0.86      0.86       476\n",
      "weighted avg       0.86      0.86      0.86       476\n",
      "\n",
      "[18:12:14] WARNING: C:/Users/Administrator/workspace/xgboost-win64_release_1.5.1/src/learner.cc:1115: Starting in XGBoost 1.3.0, the default evaluation metric used with the objective 'multi:softprob' was changed from 'merror' to 'mlogloss'. Explicitly set eval_metric if you'd like to restore the old behavior.\n",
      "              precision    recall  f1-score   support\n",
      "\n",
      "         TNF       0.85      0.88      0.86       158\n",
      "         LPS       0.84      0.83      0.84       181\n",
      "         PIC       0.86      0.82      0.84       137\n",
      "\n",
      "    accuracy                           0.85       476\n",
      "   macro avg       0.85      0.85      0.85       476\n",
      "weighted avg       0.85      0.85      0.85       476\n",
      "\n",
      "[18:12:15] WARNING: C:/Users/Administrator/workspace/xgboost-win64_release_1.5.1/src/learner.cc:1115: Starting in XGBoost 1.3.0, the default evaluation metric used with the objective 'multi:softprob' was changed from 'merror' to 'mlogloss'. Explicitly set eval_metric if you'd like to restore the old behavior.\n",
      "              precision    recall  f1-score   support\n",
      "\n",
      "         TNF       0.82      0.85      0.84       158\n",
      "         LPS       0.80      0.76      0.78       181\n",
      "         PIC       0.80      0.82      0.81       137\n",
      "\n",
      "    accuracy                           0.81       476\n",
      "   macro avg       0.81      0.81      0.81       476\n",
      "weighted avg       0.81      0.81      0.81       476\n",
      "\n"
     ]
    }
   ],
   "source": [
    "res = split_search(t1_data, features, splits, target_names=trip1, verbose=True)"
   ]
  },
  {
   "cell_type": "code",
   "execution_count": 14,
   "id": "3933a823-d945-4771-b8e5-cd7b23b755fb",
   "metadata": {},
   "outputs": [
    {
     "data": {
      "text/plain": [
       "Index(['time_series_3', 'trough2peak_1', 'fold_change_19', 'integrals_pos_8',\n",
       "       'integrals_9', 'oscpower', 'fold_change_5', 'time_series_20',\n",
       "       'derivatives_3', 'time_series_19', 'fold_change_25', 'integrals_pos_10',\n",
       "       'envelope_5', 'derivatives_4', 'fold_change_17', 'mean_movvar',\n",
       "       'fold_change_12', 'peak2rms', 'integrals_35', 'fold_change_8',\n",
       "       'valley_amps_3', 'derivatives_2', 'valley_amps_2', 'min_derivative',\n",
       "       'valley_amps_1', 'envelope_4', 'mean_movstd', 'derivatives_1',\n",
       "       'fold_change_7', 'max_fold_change', 'integrals_pos_44',\n",
       "       'derivatives_15', 'fold_change_16', 'fold_change_6', 'fold_change_9',\n",
       "       'intwin1_3', 'fold_change_15', 'power_121', 'derivatives_5',\n",
       "       'peak2trough_9', 'fold_change_3', 'integrals_8', 'fold_change_23',\n",
       "       'fold_change_29', 'time2HalfMaxIntegral', 'fold_change_1',\n",
       "       'integrals_pos_7', 'valley_amps_7', 'derivatives_12', 'fold_change_24',\n",
       "       'max_derivative', 'time_series_9', 'fold_change_30', 'psd_12',\n",
       "       'integrals_pos_66', 'peak2trough_10', 'fold_change_31',\n",
       "       'time_series_12', 'integrals_pos_3', 'derivatives_13',\n",
       "       'integrals_pos_5', 'psd_91', 'fold_change_10', 'integrals_pos_93',\n",
       "       'trough2peak_8', 'time_series_11', 'valley_times_8', 'valley_amps_9',\n",
       "       'psd_104', 'integrals_17', 'fold_change_20', 'psd_114', 'psd_79',\n",
       "       'psd_112', 'integrals_10'],\n",
       "      dtype='object')"
      ]
     },
     "execution_count": 14,
     "metadata": {},
     "output_type": "execute_result"
    }
   ],
   "source": [
    "res[4][1]"
   ]
  },
  {
   "cell_type": "code",
   "execution_count": null,
   "id": "65214071-4775-4af2-8470-daa16af89a48",
   "metadata": {},
   "outputs": [],
   "source": []
  }
 ],
 "metadata": {
  "kernelspec": {
   "display_name": "Python 3 (ipykernel)",
   "language": "python",
   "name": "python3"
  },
  "language_info": {
   "codemirror_mode": {
    "name": "ipython",
    "version": 3
   },
   "file_extension": ".py",
   "mimetype": "text/x-python",
   "name": "python",
   "nbconvert_exporter": "python",
   "pygments_lexer": "ipython3",
   "version": "3.8.12"
  }
 },
 "nbformat": 4,
 "nbformat_minor": 5
}
