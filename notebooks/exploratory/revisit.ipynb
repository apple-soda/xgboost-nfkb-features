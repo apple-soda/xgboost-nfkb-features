{
 "cells": [
  {
   "cell_type": "code",
   "execution_count": 1,
   "id": "63a5f65d-a288-4a93-9325-476db44c8a7b",
   "metadata": {},
   "outputs": [],
   "source": [
    "import sys\n",
    "sys.path.append('..')"
   ]
  },
  {
   "cell_type": "code",
   "execution_count": 2,
   "id": "1d6be3e6-f3cc-4916-8721-7b941fc5b65c",
   "metadata": {},
   "outputs": [],
   "source": [
    "from core.dataset import *\n",
    "from sklearn.model_selection import train_test_split\n",
    "from sklearn.metrics import classification_report\n",
    "import xgboost as xgb\n",
    "import numpy as np\n",
    "import matplotlib.pyplot as plt\n",
    "import seaborn as sns\n",
    "import pandas as pd"
   ]
  },
  {
   "cell_type": "code",
   "execution_count": 3,
   "id": "2d75b93f-6aea-4f9d-8381-0ed07981058f",
   "metadata": {},
   "outputs": [],
   "source": [
    "load_dir = 'D:/Data/hoffmanlab/featureselection/data/'\n",
    "ligands = ['CpG', 'FLA', 'FSL', 'LPS', 'P3K', 'PIC', 'R84', 'TNF']\n",
    "sheet_type = 'am'"
   ]
  },
  {
   "cell_type": "markdown",
   "id": "1faf84d4-ad77-4889-8043-a11d29232f3d",
   "metadata": {},
   "source": [
    "## trying xgboost feature selection using 'gain' vs feature_importances_"
   ]
  },
  {
   "cell_type": "code",
   "execution_count": 4,
   "id": "2a7b8d5f-7311-4da5-91b3-c5ced2080295",
   "metadata": {},
   "outputs": [],
   "source": [
    "data = Data(load_dir, ligands, sheet_type, merge=True)"
   ]
  },
  {
   "cell_type": "code",
   "execution_count": 7,
   "id": "0aa502fa-d228-4cdd-89e3-4596fdfd38ca",
   "metadata": {},
   "outputs": [],
   "source": [
    "Xdf, Ydf = data.iloc[:, [i for i in range(984)]], data.iloc[:, [984]]"
   ]
  },
  {
   "cell_type": "code",
   "execution_count": 8,
   "id": "f8c22218-258e-4c8b-acdd-069e088055d0",
   "metadata": {},
   "outputs": [],
   "source": [
    "# stored feature names for xgboost later\n",
    "feature_names = list(Xdf.columns)"
   ]
  },
  {
   "cell_type": "code",
   "execution_count": 10,
   "id": "44ec293c-4a31-4664-8cec-66175f8aaf80",
   "metadata": {},
   "outputs": [],
   "source": [
    "X, Y = Xdf.to_numpy(), Ydf.to_numpy().reshape(-1, )"
   ]
  },
  {
   "cell_type": "code",
   "execution_count": 11,
   "id": "9263c532-f647-4a59-b2b1-559994e7d6b8",
   "metadata": {},
   "outputs": [],
   "source": [
    "model = xgb.XGBClassifier(tree_method='gpu_hist', use_label_encoder=False)"
   ]
  },
  {
   "cell_type": "code",
   "execution_count": 13,
   "id": "2a34d718-d390-4ae6-9c8d-821e65f41306",
   "metadata": {},
   "outputs": [],
   "source": [
    "X_train, X_val, y_train, y_val = train_test_split(X, Y, test_size=0.1, random_state=42)"
   ]
  },
  {
   "cell_type": "code",
   "execution_count": 14,
   "id": "bd916242-084c-4146-933e-2f01c933cd40",
   "metadata": {},
   "outputs": [
    {
     "name": "stdout",
     "output_type": "stream",
     "text": [
      "[17:49:09] WARNING: C:/Users/Administrator/workspace/xgboost-win64_release_1.5.1/src/learner.cc:1115: Starting in XGBoost 1.3.0, the default evaluation metric used with the objective 'multi:softprob' was changed from 'merror' to 'mlogloss'. Explicitly set eval_metric if you'd like to restore the old behavior.\n"
     ]
    },
    {
     "data": {
      "text/plain": [
       "XGBClassifier(base_score=0.5, booster='gbtree', colsample_bylevel=1,\n",
       "              colsample_bynode=1, colsample_bytree=1, enable_categorical=False,\n",
       "              gamma=0, gpu_id=0, importance_type=None,\n",
       "              interaction_constraints='', learning_rate=0.300000012,\n",
       "              max_delta_step=0, max_depth=6, min_child_weight=1, missing=nan,\n",
       "              monotone_constraints='()', n_estimators=100, n_jobs=16,\n",
       "              num_parallel_tree=1, objective='multi:softprob', predictor='auto',\n",
       "              random_state=0, reg_alpha=0, reg_lambda=1, scale_pos_weight=None,\n",
       "              subsample=1, tree_method='gpu_hist', use_label_encoder=False,\n",
       "              validate_parameters=1, verbosity=None)"
      ]
     },
     "execution_count": 14,
     "metadata": {},
     "output_type": "execute_result"
    }
   ],
   "source": [
    "model.fit(X_train, y_train)"
   ]
  },
  {
   "cell_type": "code",
   "execution_count": 15,
   "id": "9fd8e1ff-2491-48a4-8f01-fd1d8b9b30ac",
   "metadata": {},
   "outputs": [],
   "source": [
    "pred = model.predict(X_val)\n",
    "cr = classification_report(y_val, pred, target_names=ligands)"
   ]
  },
  {
   "cell_type": "code",
   "execution_count": 16,
   "id": "a4906458-0caf-47b2-8fb0-66e00f5a3104",
   "metadata": {},
   "outputs": [
    {
     "name": "stdout",
     "output_type": "stream",
     "text": [
      "              precision    recall  f1-score   support\n",
      "\n",
      "         CpG       0.50      0.59      0.54       196\n",
      "         FLA       0.52      0.50      0.51       143\n",
      "         FSL       0.60      0.62      0.61       189\n",
      "         LPS       0.63      0.76      0.69       149\n",
      "         P3K       0.63      0.53      0.57       185\n",
      "         PIC       0.77      0.68      0.72       165\n",
      "         R84       0.84      0.83      0.83       249\n",
      "         TNF       0.75      0.67      0.71       162\n",
      "\n",
      "    accuracy                           0.66      1438\n",
      "   macro avg       0.65      0.65      0.65      1438\n",
      "weighted avg       0.66      0.66      0.66      1438\n",
      "\n"
     ]
    }
   ],
   "source": [
    "print(cr)"
   ]
  },
  {
   "cell_type": "code",
   "execution_count": 17,
   "id": "8dcc21b9-8a07-46cb-8ae2-d60bdf0b79ac",
   "metadata": {},
   "outputs": [],
   "source": [
    "boost = model.get_booster()"
   ]
  },
  {
   "cell_type": "code",
   "execution_count": 19,
   "id": "a1b6ace2-0253-4247-ba91-977975fdb51c",
   "metadata": {},
   "outputs": [],
   "source": [
    "# set feature names\n",
    "boost.feature_names = feature_names"
   ]
  },
  {
   "cell_type": "code",
   "execution_count": 22,
   "id": "f1b0133a-beda-429a-b859-56a7a9651a92",
   "metadata": {},
   "outputs": [],
   "source": [
    "# 'gain'\n",
    "gain_dict = boost.get_score(importance_type='gain')\n",
    "\n",
    "# feature_importances_\n",
    "rev_fi = model.feature_importances_.argsort()\n",
    "fi = rev_fi[::-1]\n",
    "feature_importances = Xdf.columns[fi]\n",
    "\n",
    "# get score()\n",
    "avg_importance = boost.get_score()"
   ]
  },
  {
   "cell_type": "code",
   "execution_count": 29,
   "id": "839c4bd2-0dd4-42d9-94ca-e1b805136bea",
   "metadata": {},
   "outputs": [],
   "source": [
    "# sorted in ascending order so need to reverse after\n",
    "sorted_gain_dict = dict(sorted(gain_dict.items(), key=lambda item: item[1]))"
   ]
  },
  {
   "cell_type": "code",
   "execution_count": 31,
   "id": "d9126e29-7335-4dc3-a9ca-905e8e322329",
   "metadata": {},
   "outputs": [],
   "source": [
    "sorted_gain_dict_list_reversed = [k for k in sorted_gain_dict.keys()]"
   ]
  },
  {
   "cell_type": "code",
   "execution_count": 33,
   "id": "705a9c1e-d719-4440-85aa-2ae9b1333078",
   "metadata": {},
   "outputs": [],
   "source": [
    "sorted_gain_dict_list = sorted_gain_dict_list_reversed[::-1]"
   ]
  },
  {
   "cell_type": "code",
   "execution_count": 35,
   "id": "58f92b7a-67c0-44eb-ba95-7542d1769337",
   "metadata": {},
   "outputs": [
    {
     "name": "stdout",
     "output_type": "stream",
     "text": [
      "753\n"
     ]
    }
   ],
   "source": [
    "# check how many entries match in terms of importance\n",
    "# get an idea of how different feature importances is with get score()\n",
    "count = 0\n",
    "for i, j in zip(sorted_gain_dict_list, list(feature_importances)):\n",
    "    if i == j:\n",
    "        count += 1\n",
    "print(count)"
   ]
  },
  {
   "cell_type": "code",
   "execution_count": 36,
   "id": "738f20ea-9cb0-441e-8e69-293642a1d348",
   "metadata": {},
   "outputs": [
    {
     "name": "stdout",
     "output_type": "stream",
     "text": [
      "100\n"
     ]
    }
   ],
   "source": [
    "count = 0\n",
    "for i, j in zip(sorted_gain_dict_list[:100], list(feature_importances)[:100]):\n",
    "    if i == j:\n",
    "        count += 1\n",
    "print(count)"
   ]
  },
  {
   "cell_type": "markdown",
   "id": "e8139bb0-ee0d-42c6-8eb8-bbced14c71b8",
   "metadata": {},
   "source": [
    "### gain vs holistic feature importance approach return very similar rankings"
   ]
  },
  {
   "cell_type": "code",
   "execution_count": null,
   "id": "c004f856-0e46-45e1-8c07-3c2132a63edb",
   "metadata": {},
   "outputs": [],
   "source": []
  }
 ],
 "metadata": {
  "kernelspec": {
   "display_name": "Python 3 (ipykernel)",
   "language": "python",
   "name": "python3"
  },
  "language_info": {
   "codemirror_mode": {
    "name": "ipython",
    "version": 3
   },
   "file_extension": ".py",
   "mimetype": "text/x-python",
   "name": "python",
   "nbconvert_exporter": "python",
   "pygments_lexer": "ipython3",
   "version": "3.8.12"
  }
 },
 "nbformat": 4,
 "nbformat_minor": 5
}
