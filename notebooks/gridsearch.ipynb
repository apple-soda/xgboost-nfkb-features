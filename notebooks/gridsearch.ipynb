{
 "cells": [
  {
   "cell_type": "code",
   "execution_count": 1,
   "id": "62736511-5136-42a6-9b6b-40f7aa147b3e",
   "metadata": {},
   "outputs": [],
   "source": [
    "import sys\n",
    "sys.path.append('..')"
   ]
  },
  {
   "cell_type": "code",
   "execution_count": 2,
   "id": "627a4259-b3cf-426c-8468-06785f838c9b",
   "metadata": {},
   "outputs": [],
   "source": [
    "from core.dataset import *\n",
    "from core.dprocessing import *\n",
    "from core.optimizers import *\n",
    "from core.utils import *\n",
    "from core.objects import *\n",
    "import seaborn as sns\n",
    "import numpy as np\n",
    "import pandas as pd\n",
    "import xgboost as xgb\n",
    "from sklearn.model_selection import train_test_split\n",
    "import seaborn as sns\n",
    "from sklearn.metrics import classification_report\n",
    "from sklearn.model_selection import GridSearchCV"
   ]
  },
  {
   "cell_type": "code",
   "execution_count": 3,
   "id": "354ef6d9-79a2-494f-a463-9aa016026f4d",
   "metadata": {},
   "outputs": [],
   "source": [
    "load_dir = 'D:/Data/hoffmanlab/featureselection/data/'\n",
    "ligands = ['CpG', 'FLA', 'FSL', 'LPS', 'P3K', 'PIC', 'R84', 'TNF']\n",
    "sheet_type = 'am'"
   ]
  },
  {
   "cell_type": "code",
   "execution_count": 4,
   "id": "687bb231-0934-4dbf-bca1-cfa04aee2e10",
   "metadata": {},
   "outputs": [],
   "source": [
    "df = pd.read_csv('C:/Users/minha/Research/hoffmanlab/featuresel/data/untuned_model_feature_importance.csv')\n",
    "feature_importance = df.values.tolist()"
   ]
  },
  {
   "cell_type": "code",
   "execution_count": 5,
   "id": "fca44ff2-8eea-4135-b0f9-a80632a57ab6",
   "metadata": {},
   "outputs": [],
   "source": [
    "dataset = Data(load_dir, ligands, sheet_type, merge=True, numpy=False)\n",
    "labels = dataset.iloc[:, [984]]"
   ]
  },
  {
   "cell_type": "code",
   "execution_count": 6,
   "id": "f66cb746-d5c1-46d5-93f5-def972350d09",
   "metadata": {},
   "outputs": [],
   "source": [
    "features1 = ['integrals_pos', 'integrals', 'time_series', 'envelope', 'fold_change', 'valley_amps', 'derivatives']\n",
    "timestep1 = [98, 98, 98, 25, 98, 15, 96] "
   ]
  },
  {
   "cell_type": "markdown",
   "id": "0004fe46-6604-4911-85a8-884c16132bed",
   "metadata": {},
   "source": [
    "## testing new optimizer object for efficiency etc"
   ]
  },
  {
   "cell_type": "code",
   "execution_count": null,
   "id": "a194a775-20ca-4f33-a6f8-a935402188b3",
   "metadata": {},
   "outputs": [],
   "source": [
    "model = xgb.XGBClassifier(tree_method='gpu_hist', use_label_encoder=False)"
   ]
  },
  {
   "cell_type": "code",
   "execution_count": null,
   "id": "0133c2ed-74ab-48c2-972d-63e308120131",
   "metadata": {},
   "outputs": [],
   "source": [
    "optim = Optimizer(model, features1, timestep1, feature_importance, labels, dataset, ligands)"
   ]
  },
  {
   "cell_type": "code",
   "execution_count": null,
   "id": "094c3d8c-8d0d-46b1-8a4c-9d0cbc62bf43",
   "metadata": {},
   "outputs": [],
   "source": [
    "optim.model"
   ]
  },
  {
   "cell_type": "code",
   "execution_count": null,
   "id": "b3e9fe1a-edc4-4ec0-8ad2-bcbf76b731b0",
   "metadata": {},
   "outputs": [],
   "source": [
    "optim.fit(bound=0.4)"
   ]
  },
  {
   "cell_type": "code",
   "execution_count": null,
   "id": "d3a965e7-7cd4-48bd-b6e1-e67cb94004e4",
   "metadata": {},
   "outputs": [],
   "source": [
    "optim.model"
   ]
  },
  {
   "cell_type": "code",
   "execution_count": null,
   "id": "53246237-9369-4500-b46b-4ae7f1db6924",
   "metadata": {},
   "outputs": [],
   "source": [
    "new_feature_importances = optim.model.feature_importances_.argsort()"
   ]
  },
  {
   "cell_type": "code",
   "execution_count": null,
   "id": "39fd189a-3b10-4f1a-bf0c-9fb15b137344",
   "metadata": {},
   "outputs": [],
   "source": [
    "new_feature_importances = new_feature_importances[::-1]"
   ]
  },
  {
   "cell_type": "code",
   "execution_count": null,
   "id": "ec1a627b-a0d3-4e1d-b068-8571c286f42c",
   "metadata": {},
   "outputs": [],
   "source": [
    "nfi_names = optim.df.columns[new_feature_importances]\n",
    "# need to turn into list of lists bc functions are kinda trash rn"
   ]
  },
  {
   "cell_type": "code",
   "execution_count": null,
   "id": "ee1f4942-349d-46d7-85ee-4acbdb01cf44",
   "metadata": {},
   "outputs": [],
   "source": [
    "nfi_names = pd.DataFrame(nfi_names)"
   ]
  },
  {
   "cell_type": "code",
   "execution_count": null,
   "id": "7f279f9c-59d8-49b6-89f9-72422b7a03c3",
   "metadata": {},
   "outputs": [],
   "source": [
    "model2 = xgb.XGBClassifier(tree_method='gpu_hist', use_label_encoder=False)"
   ]
  },
  {
   "cell_type": "code",
   "execution_count": null,
   "id": "f67499f2-9620-4a5b-80a3-6952154e380e",
   "metadata": {},
   "outputs": [],
   "source": [
    "optim2 = Optimizer(model2, features1, timestep1, nfi_names.values, labels, dataset, ligands)"
   ]
  },
  {
   "cell_type": "code",
   "execution_count": null,
   "id": "2dd53a7d-6909-4333-9a9e-6e4db8abbddf",
   "metadata": {},
   "outputs": [],
   "source": [
    "optim2.fit(bound=0.75) # bound does not necessarily have to be 0.4"
   ]
  },
  {
   "cell_type": "markdown",
   "id": "868c8821-58d2-4550-a7da-c85b76574079",
   "metadata": {},
   "source": [
    "### gridsearching now"
   ]
  },
  {
   "cell_type": "markdown",
   "id": "c6b19251-109b-4e50-9433-c67a0a9d6e49",
   "metadata": {},
   "source": [
    "#### below parameters are just some params i found online, relatively arbitrary (i think)"
   ]
  },
  {
   "cell_type": "code",
   "execution_count": 16,
   "id": "f3913717-8d23-485f-b10f-741cd550e2e8",
   "metadata": {},
   "outputs": [],
   "source": [
    "gridsearchmodel = xgb.XGBClassifier(tree_method='gpu_hist', use_label_encoder=False, learning_rate=0.1, n_estimators=1000)"
   ]
  },
  {
   "cell_type": "code",
   "execution_count": null,
   "id": "e76d76cf-e357-47b6-84b5-b1015215607a",
   "metadata": {},
   "outputs": [],
   "source": [
    "optim3 = Optimizer(gridsearchmodel, features1, timestep1, feature_importance, labels, dataset, ligands)"
   ]
  },
  {
   "cell_type": "code",
   "execution_count": null,
   "id": "1e6b4746-aced-4835-8465-c14c3fe17954",
   "metadata": {},
   "outputs": [],
   "source": [
    "optim3.fit(bound=0.4)"
   ]
  },
  {
   "cell_type": "code",
   "execution_count": null,
   "id": "e315dd89-3796-4399-b14f-6d102f84e4a4",
   "metadata": {},
   "outputs": [],
   "source": [
    "# slight improvments with these params, need to gridsearch tune"
   ]
  },
  {
   "cell_type": "code",
   "execution_count": 7,
   "id": "1843c5e5-8c0c-4c08-b4c1-36e98dffdd99",
   "metadata": {},
   "outputs": [],
   "source": [
    "data = dataset.iloc[:, [i for i in range(984)]]"
   ]
  },
  {
   "cell_type": "code",
   "execution_count": 8,
   "id": "43997bca-060b-4694-840e-3b5815c42292",
   "metadata": {},
   "outputs": [],
   "source": [
    "labels = dataset.iloc[:, [984]]"
   ]
  },
  {
   "cell_type": "code",
   "execution_count": 9,
   "id": "c1dc0349-9ac2-44af-921d-8e0d4b6cc3d5",
   "metadata": {},
   "outputs": [],
   "source": [
    "datan = data.to_numpy()\n",
    "labelsn = labels.to_numpy()"
   ]
  },
  {
   "cell_type": "code",
   "execution_count": 10,
   "id": "461813ed-b147-4c2a-839b-eb49cb366052",
   "metadata": {},
   "outputs": [],
   "source": [
    "labelsn = labelsn.reshape((-1, ))"
   ]
  },
  {
   "cell_type": "code",
   "execution_count": 11,
   "id": "ada49f2c-3774-40aa-af6c-854c56d72d7c",
   "metadata": {},
   "outputs": [],
   "source": [
    "partitioned_data = partition_features(features1, timestep1, feature_importance, 0.4, dataset)"
   ]
  },
  {
   "cell_type": "code",
   "execution_count": 12,
   "id": "17b78400-767f-49b6-86b0-b546bc826bd8",
   "metadata": {},
   "outputs": [],
   "source": [
    "X = partitioned_data.to_numpy()\n",
    "Y = labelsn"
   ]
  },
  {
   "cell_type": "code",
   "execution_count": null,
   "id": "45bd4cbe-3e89-4b01-8e53-87cce9adeea0",
   "metadata": {},
   "outputs": [],
   "source": [
    "X_train, X_val, y_train, y_val = train_test_split(datan, labelsn, test_size=0.1, random_state=42)"
   ]
  },
  {
   "cell_type": "code",
   "execution_count": 13,
   "id": "9db1ca5f-6492-4e5c-800f-1c9ab7d12510",
   "metadata": {},
   "outputs": [],
   "source": [
    "params = {\n",
    "        'min_child_weight': [1, 5, 10],\n",
    "        'gamma': [0.5, 1, 1.5, 2, 5],\n",
    "        'subsample': [0.6, 0.8, 1.0],\n",
    "        'colsample_bytree': [0.6, 0.8, 1.0],\n",
    "        'max_depth': [3, 4, 5]\n",
    "        }"
   ]
  },
  {
   "cell_type": "code",
   "execution_count": 14,
   "id": "2c68372b-2843-464f-9f6a-b8ae8f599bf0",
   "metadata": {},
   "outputs": [],
   "source": [
    "from sklearn.model_selection import StratifiedKFold\n",
    "from sklearn.model_selection import GridSearchCV\n",
    "from sklearn.model_selection import RandomizedSearchCV"
   ]
  },
  {
   "cell_type": "code",
   "execution_count": 17,
   "id": "791dd327-f1c3-49e9-8a31-657172dc5d37",
   "metadata": {},
   "outputs": [],
   "source": [
    "folds = 3\n",
    "param_comb = 5\n",
    "\n",
    "skf = StratifiedKFold(n_splits=folds, shuffle = True, random_state = 42)\n",
    "random_search = RandomizedSearchCV(gridsearchmodel, param_distributions=params, n_iter=param_comb, n_jobs=4, cv=skf.split(X, Y), \n",
    "                                   verbose=3, random_state=42)"
   ]
  },
  {
   "cell_type": "code",
   "execution_count": null,
   "id": "456f927d-d885-4ba3-a0f2-69bf045eab4c",
   "metadata": {},
   "outputs": [],
   "source": [
    "# random_search = GridSearchCV(estimator=gridsearchmodel, param_grid=params, scoring='roc_auc', n_jobs=4, cv=skf.split(X, Y), verbose=1)"
   ]
  },
  {
   "cell_type": "markdown",
   "id": "fbf07601-afe5-41b0-a186-a3af67ead1d6",
   "metadata": {},
   "source": [
    "### Brute force gridsearch"
   ]
  },
  {
   "cell_type": "code",
   "execution_count": 18,
   "id": "14a85b87-946d-46f8-9ba5-b52c041789eb",
   "metadata": {},
   "outputs": [
    {
     "name": "stdout",
     "output_type": "stream",
     "text": [
      "Fitting 3 folds for each of 5 candidates, totalling 15 fits\n"
     ]
    },
    {
     "name": "stderr",
     "output_type": "stream",
     "text": [
      "C:\\Users\\minha\\miniconda3\\envs\\peep\\lib\\site-packages\\sklearn\\model_selection\\_search.py:969: UserWarning: One or more of the test scores are non-finite: [nan nan nan nan nan]\n",
      "  warnings.warn(\n"
     ]
    },
    {
     "name": "stdout",
     "output_type": "stream",
     "text": [
      "[19:57:08] WARNING: C:/Users/Administrator/workspace/xgboost-win64_release_1.5.1/src/learner.cc:1115: Starting in XGBoost 1.3.0, the default evaluation metric used with the objective 'multi:softprob' was changed from 'merror' to 'mlogloss'. Explicitly set eval_metric if you'd like to restore the old behavior.\n"
     ]
    },
    {
     "data": {
      "text/plain": [
       "RandomizedSearchCV(cv=<generator object _BaseKFold.split at 0x00000208AFDA0DD0>,\n",
       "                   estimator=XGBClassifier(base_score=None, booster=None,\n",
       "                                           colsample_bylevel=None,\n",
       "                                           colsample_bynode=None,\n",
       "                                           colsample_bytree=None,\n",
       "                                           enable_categorical=False, gamma=None,\n",
       "                                           gpu_id=None, importance_type=None,\n",
       "                                           interaction_constraints=None,\n",
       "                                           learning_rate=0.1,\n",
       "                                           max_delta_step=None, max_depth=None,\n",
       "                                           min...\n",
       "                                           reg_alpha=None, reg_lambda=None,\n",
       "                                           scale_pos_weight=None,\n",
       "                                           subsample=None,\n",
       "                                           tree_method='gpu_hist',\n",
       "                                           use_label_encoder=False,\n",
       "                                           validate_parameters=None,\n",
       "                                           verbosity=None),\n",
       "                   n_iter=5, n_jobs=4,\n",
       "                   param_distributions={'colsample_bytree': [0.6, 0.8, 1.0],\n",
       "                                        'gamma': [0.5, 1, 1.5, 2, 5],\n",
       "                                        'max_depth': [3, 4, 5],\n",
       "                                        'min_child_weight': [1, 5, 10],\n",
       "                                        'subsample': [0.6, 0.8, 1.0]},\n",
       "                   random_state=42, scoring='roc_auc', verbose=3)"
      ]
     },
     "execution_count": 18,
     "metadata": {},
     "output_type": "execute_result"
    }
   ],
   "source": [
    "random_search.fit(X, Y)"
   ]
  },
  {
   "cell_type": "code",
   "execution_count": 19,
   "id": "9729d1a8-cd89-4639-a46f-f008e87e6d32",
   "metadata": {},
   "outputs": [
    {
     "data": {
      "text/plain": [
       "{'subsample': 0.8,\n",
       " 'min_child_weight': 10,\n",
       " 'max_depth': 4,\n",
       " 'gamma': 1.5,\n",
       " 'colsample_bytree': 0.6}"
      ]
     },
     "execution_count": 19,
     "metadata": {},
     "output_type": "execute_result"
    }
   ],
   "source": [
    "random_search.best_params_"
   ]
  },
  {
   "cell_type": "code",
   "execution_count": 20,
   "id": "827037cf-d5d3-4264-a8f3-b5e2891bd721",
   "metadata": {},
   "outputs": [
    {
     "data": {
      "text/plain": [
       "XGBClassifier(base_score=None, booster=None, colsample_bylevel=None,\n",
       "              colsample_bynode=None, colsample_bytree=None,\n",
       "              enable_categorical=False, gamma=None, gpu_id=None,\n",
       "              importance_type=None, interaction_constraints=None,\n",
       "              learning_rate=0.1, max_delta_step=None, max_depth=None,\n",
       "              min_child_weight=None, missing=nan, monotone_constraints=None,\n",
       "              n_estimators=1000, n_jobs=None, num_parallel_tree=None,\n",
       "              predictor=None, random_state=None, reg_alpha=None,\n",
       "              reg_lambda=None, scale_pos_weight=None, subsample=None,\n",
       "              tree_method='gpu_hist', use_label_encoder=False,\n",
       "              validate_parameters=None, verbosity=None)"
      ]
     },
     "execution_count": 20,
     "metadata": {},
     "output_type": "execute_result"
    }
   ],
   "source": [
    "gridsearchmodel"
   ]
  },
  {
   "cell_type": "code",
   "execution_count": null,
   "id": "893ed813-0130-453c-98eb-bd78121da079",
   "metadata": {},
   "outputs": [],
   "source": []
  }
 ],
 "metadata": {
  "kernelspec": {
   "display_name": "Python 3 (ipykernel)",
   "language": "python",
   "name": "python3"
  },
  "language_info": {
   "codemirror_mode": {
    "name": "ipython",
    "version": 3
   },
   "file_extension": ".py",
   "mimetype": "text/x-python",
   "name": "python",
   "nbconvert_exporter": "python",
   "pygments_lexer": "ipython3",
   "version": "3.8.12"
  }
 },
 "nbformat": 4,
 "nbformat_minor": 5
}
