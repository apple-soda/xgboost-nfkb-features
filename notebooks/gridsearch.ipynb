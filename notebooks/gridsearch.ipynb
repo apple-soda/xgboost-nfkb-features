{
 "cells": [
  {
   "cell_type": "code",
   "execution_count": 1,
   "id": "62736511-5136-42a6-9b6b-40f7aa147b3e",
   "metadata": {},
   "outputs": [],
   "source": [
    "import sys\n",
    "sys.path.append('..')"
   ]
  },
  {
   "cell_type": "code",
   "execution_count": 2,
   "id": "627a4259-b3cf-426c-8468-06785f838c9b",
   "metadata": {},
   "outputs": [],
   "source": [
    "from core.dataset import *\n",
    "from core.dprocessing import *\n",
    "from core.optimizers import *\n",
    "from core.utils import *\n",
    "from core.objects import *\n",
    "import seaborn as sns\n",
    "import numpy as np\n",
    "import pandas as pd\n",
    "import xgboost as xgb\n",
    "from sklearn.model_selection import train_test_split\n",
    "import seaborn as sns\n",
    "from sklearn.metrics import classification_report\n",
    "from sklearn.model_selection import GridSearchCV"
   ]
  },
  {
   "cell_type": "code",
   "execution_count": 3,
   "id": "354ef6d9-79a2-494f-a463-9aa016026f4d",
   "metadata": {},
   "outputs": [],
   "source": [
    "load_dir = 'D:/Data/hoffmanlab/featureselection/data/'\n",
    "ligands = ['CpG', 'FLA', 'FSL', 'LPS', 'P3K', 'PIC', 'R84', 'TNF']\n",
    "sheet_type = 'am'"
   ]
  },
  {
   "cell_type": "code",
   "execution_count": 4,
   "id": "687bb231-0934-4dbf-bca1-cfa04aee2e10",
   "metadata": {},
   "outputs": [],
   "source": [
    "df = pd.read_csv('C:/Users/minha/Research/hoffmanlab/featuresel/data/untuned_model_feature_importance.csv')\n",
    "feature_importance = df.values.tolist()"
   ]
  },
  {
   "cell_type": "code",
   "execution_count": 5,
   "id": "fca44ff2-8eea-4135-b0f9-a80632a57ab6",
   "metadata": {},
   "outputs": [],
   "source": [
    "dataset = Data(load_dir, ligands, sheet_type, merge=True, numpy=False)\n",
    "labels = dataset.iloc[:, [984]]"
   ]
  },
  {
   "cell_type": "code",
   "execution_count": 6,
   "id": "f66cb746-d5c1-46d5-93f5-def972350d09",
   "metadata": {},
   "outputs": [],
   "source": [
    "features1 = ['integrals_pos', 'integrals', 'time_series', 'envelope', 'fold_change', 'valley_amps', 'derivatives']\n",
    "timestep1 = [98, 98, 98, 25, 98, 15, 96] "
   ]
  },
  {
   "cell_type": "markdown",
   "id": "0004fe46-6604-4911-85a8-884c16132bed",
   "metadata": {},
   "source": [
    "## testing new optimizer object for efficiency etc"
   ]
  },
  {
   "cell_type": "code",
   "execution_count": null,
   "id": "a194a775-20ca-4f33-a6f8-a935402188b3",
   "metadata": {},
   "outputs": [],
   "source": [
    "model = xgb.XGBClassifier(tree_method='gpu_hist', use_label_encoder=False)"
   ]
  },
  {
   "cell_type": "code",
   "execution_count": null,
   "id": "0133c2ed-74ab-48c2-972d-63e308120131",
   "metadata": {},
   "outputs": [],
   "source": [
    "optim = Optimizer(model, features1, timestep1, feature_importance, labels, dataset, ligands)"
   ]
  },
  {
   "cell_type": "code",
   "execution_count": null,
   "id": "094c3d8c-8d0d-46b1-8a4c-9d0cbc62bf43",
   "metadata": {},
   "outputs": [],
   "source": [
    "optim.model"
   ]
  },
  {
   "cell_type": "code",
   "execution_count": null,
   "id": "b3e9fe1a-edc4-4ec0-8ad2-bcbf76b731b0",
   "metadata": {},
   "outputs": [],
   "source": [
    "optim.fit(bound=0.4)"
   ]
  },
  {
   "cell_type": "code",
   "execution_count": null,
   "id": "d3a965e7-7cd4-48bd-b6e1-e67cb94004e4",
   "metadata": {},
   "outputs": [],
   "source": [
    "optim.model"
   ]
  },
  {
   "cell_type": "code",
   "execution_count": null,
   "id": "53246237-9369-4500-b46b-4ae7f1db6924",
   "metadata": {},
   "outputs": [],
   "source": [
    "new_feature_importances = optim.model.feature_importances_.argsort()"
   ]
  },
  {
   "cell_type": "code",
   "execution_count": null,
   "id": "39fd189a-3b10-4f1a-bf0c-9fb15b137344",
   "metadata": {},
   "outputs": [],
   "source": [
    "new_feature_importances = new_feature_importances[::-1]"
   ]
  },
  {
   "cell_type": "code",
   "execution_count": null,
   "id": "ec1a627b-a0d3-4e1d-b068-8571c286f42c",
   "metadata": {},
   "outputs": [],
   "source": [
    "nfi_names = optim.df.columns[new_feature_importances]\n",
    "# need to turn into list of lists bc functions are kinda trash rn"
   ]
  },
  {
   "cell_type": "code",
   "execution_count": null,
   "id": "ee1f4942-349d-46d7-85ee-4acbdb01cf44",
   "metadata": {},
   "outputs": [],
   "source": [
    "nfi_names = pd.DataFrame(nfi_names)"
   ]
  },
  {
   "cell_type": "code",
   "execution_count": null,
   "id": "7f279f9c-59d8-49b6-89f9-72422b7a03c3",
   "metadata": {},
   "outputs": [],
   "source": [
    "model2 = xgb.XGBClassifier(tree_method='gpu_hist', use_label_encoder=False)"
   ]
  },
  {
   "cell_type": "code",
   "execution_count": null,
   "id": "f67499f2-9620-4a5b-80a3-6952154e380e",
   "metadata": {},
   "outputs": [],
   "source": [
    "optim2 = Optimizer(model2, features1, timestep1, nfi_names.values, labels, dataset, ligands)"
   ]
  },
  {
   "cell_type": "code",
   "execution_count": null,
   "id": "2dd53a7d-6909-4333-9a9e-6e4db8abbddf",
   "metadata": {},
   "outputs": [],
   "source": [
    "optim2.fit(bound=0.75) # bound does not necessarily have to be 0.4"
   ]
  },
  {
   "cell_type": "markdown",
   "id": "868c8821-58d2-4550-a7da-c85b76574079",
   "metadata": {},
   "source": [
    "### gridsearching now"
   ]
  },
  {
   "cell_type": "markdown",
   "id": "c6b19251-109b-4e50-9433-c67a0a9d6e49",
   "metadata": {},
   "source": [
    "#### below parameters are just some params i found online, relatively arbitrary (i think)"
   ]
  },
  {
   "cell_type": "code",
   "execution_count": 34,
   "id": "f3913717-8d23-485f-b10f-741cd550e2e8",
   "metadata": {},
   "outputs": [],
   "source": [
    "gridsearchmodel = xgb.XGBClassifier(tree_method='gpu_hist', use_label_encoder=False, learning_rate=0.1, n_estimators=1000)"
   ]
  },
  {
   "cell_type": "code",
   "execution_count": 35,
   "id": "e76d76cf-e357-47b6-84b5-b1015215607a",
   "metadata": {},
   "outputs": [],
   "source": [
    "optim3 = Optimizer(gridsearchmodel, features1, timestep1, feature_importance, labels, dataset, ligands)"
   ]
  },
  {
   "cell_type": "code",
   "execution_count": 36,
   "id": "1e6b4746-aced-4835-8465-c14c3fe17954",
   "metadata": {},
   "outputs": [
    {
     "name": "stdout",
     "output_type": "stream",
     "text": [
      "[20:07:38] WARNING: C:/Users/Administrator/workspace/xgboost-win64_release_1.5.1/src/learner.cc:1115: Starting in XGBoost 1.3.0, the default evaluation metric used with the objective 'multi:softprob' was changed from 'merror' to 'mlogloss'. Explicitly set eval_metric if you'd like to restore the old behavior.\n",
      "              precision    recall  f1-score   support\n",
      "\n",
      "         CpG       0.51      0.57      0.54       196\n",
      "         FLA       0.56      0.52      0.54       143\n",
      "         FSL       0.59      0.62      0.60       189\n",
      "         LPS       0.63      0.74      0.68       149\n",
      "         P3K       0.64      0.52      0.58       185\n",
      "         PIC       0.77      0.72      0.74       165\n",
      "         R84       0.81      0.85      0.83       249\n",
      "         TNF       0.74      0.67      0.70       162\n",
      "\n",
      "    accuracy                           0.66      1438\n",
      "   macro avg       0.66      0.65      0.65      1438\n",
      "weighted avg       0.66      0.66      0.66      1438\n",
      "\n"
     ]
    }
   ],
   "source": [
    "optim3.fit(bound=0.4)"
   ]
  },
  {
   "cell_type": "code",
   "execution_count": null,
   "id": "e315dd89-3796-4399-b14f-6d102f84e4a4",
   "metadata": {},
   "outputs": [],
   "source": [
    "# slight improvments with these params, need to gridsearch tune"
   ]
  },
  {
   "cell_type": "code",
   "execution_count": 7,
   "id": "1843c5e5-8c0c-4c08-b4c1-36e98dffdd99",
   "metadata": {},
   "outputs": [],
   "source": [
    "data = dataset.iloc[:, [i for i in range(984)]]"
   ]
  },
  {
   "cell_type": "code",
   "execution_count": 8,
   "id": "43997bca-060b-4694-840e-3b5815c42292",
   "metadata": {},
   "outputs": [],
   "source": [
    "labels = dataset.iloc[:, [984]]"
   ]
  },
  {
   "cell_type": "code",
   "execution_count": 9,
   "id": "c1dc0349-9ac2-44af-921d-8e0d4b6cc3d5",
   "metadata": {},
   "outputs": [],
   "source": [
    "datan = data.to_numpy()\n",
    "labelsn = labels.to_numpy()"
   ]
  },
  {
   "cell_type": "code",
   "execution_count": 10,
   "id": "461813ed-b147-4c2a-839b-eb49cb366052",
   "metadata": {},
   "outputs": [],
   "source": [
    "labelsn = labelsn.reshape((-1, ))"
   ]
  },
  {
   "cell_type": "code",
   "execution_count": 11,
   "id": "ada49f2c-3774-40aa-af6c-854c56d72d7c",
   "metadata": {},
   "outputs": [],
   "source": [
    "partitioned_data = partition_features(features1, timestep1, feature_importance, 0.4, dataset)"
   ]
  },
  {
   "cell_type": "code",
   "execution_count": 12,
   "id": "17b78400-767f-49b6-86b0-b546bc826bd8",
   "metadata": {},
   "outputs": [],
   "source": [
    "X = partitioned_data.to_numpy()\n",
    "Y = labelsn"
   ]
  },
  {
   "cell_type": "code",
   "execution_count": null,
   "id": "45bd4cbe-3e89-4b01-8e53-87cce9adeea0",
   "metadata": {},
   "outputs": [],
   "source": [
    "X_train, X_val, y_train, y_val = train_test_split(datan, labelsn, test_size=0.1, random_state=42)"
   ]
  },
  {
   "cell_type": "code",
   "execution_count": 13,
   "id": "9db1ca5f-6492-4e5c-800f-1c9ab7d12510",
   "metadata": {},
   "outputs": [],
   "source": [
    "params = {\n",
    "        'min_child_weight': [1, 5, 10],\n",
    "        'gamma': [0.5, 1, 1.5, 2, 5],\n",
    "        'subsample': [0.6, 0.8, 1.0],\n",
    "        'colsample_bytree': [0.6, 0.8, 1.0],\n",
    "        'max_depth': [3, 4, 5]\n",
    "        }"
   ]
  },
  {
   "cell_type": "code",
   "execution_count": 14,
   "id": "2c68372b-2843-464f-9f6a-b8ae8f599bf0",
   "metadata": {},
   "outputs": [],
   "source": [
    "from sklearn.model_selection import StratifiedKFold\n",
    "from sklearn.model_selection import GridSearchCV\n",
    "from sklearn.model_selection import RandomizedSearchCV"
   ]
  },
  {
   "cell_type": "code",
   "execution_count": 21,
   "id": "791dd327-f1c3-49e9-8a31-657172dc5d37",
   "metadata": {},
   "outputs": [],
   "source": [
    "folds = 3\n",
    "param_comb = 5\n",
    "\n",
    "skf = StratifiedKFold(n_splits=folds, shuffle = True, random_state = 42)\n",
    "random_search = RandomizedSearchCV(gridsearchmodel, param_distributions=params, n_iter=param_comb, n_jobs=1, cv=skf.split(X, Y), \n",
    "                                   verbose=3, random_state=42)\n",
    "\n",
    "# grid search will not output anything if you use more than 1 thread"
   ]
  },
  {
   "cell_type": "code",
   "execution_count": 22,
   "id": "456f927d-d885-4ba3-a0f2-69bf045eab4c",
   "metadata": {},
   "outputs": [],
   "source": [
    "# random_search = GridSearchCV(estimator=gridsearchmodel, param_grid=params, scoring='roc_auc', n_jobs=4, cv=skf.split(X, Y), verbose=1)"
   ]
  },
  {
   "cell_type": "markdown",
   "id": "fbf07601-afe5-41b0-a186-a3af67ead1d6",
   "metadata": {},
   "source": [
    "### Brute force gridsearch"
   ]
  },
  {
   "cell_type": "code",
   "execution_count": 23,
   "id": "14a85b87-946d-46f8-9ba5-b52c041789eb",
   "metadata": {},
   "outputs": [
    {
     "name": "stdout",
     "output_type": "stream",
     "text": [
      "Fitting 3 folds for each of 5 candidates, totalling 15 fits\n",
      "[20:00:01] WARNING: C:/Users/Administrator/workspace/xgboost-win64_release_1.5.1/src/learner.cc:1115: Starting in XGBoost 1.3.0, the default evaluation metric used with the objective 'multi:softprob' was changed from 'merror' to 'mlogloss'. Explicitly set eval_metric if you'd like to restore the old behavior.\n",
      "[CV 1/3] END colsample_bytree=0.6, gamma=1.5, max_depth=4, min_child_weight=10, subsample=0.8;, score=0.663 total time=  13.8s\n",
      "[20:00:14] WARNING: C:/Users/Administrator/workspace/xgboost-win64_release_1.5.1/src/learner.cc:1115: Starting in XGBoost 1.3.0, the default evaluation metric used with the objective 'multi:softprob' was changed from 'merror' to 'mlogloss'. Explicitly set eval_metric if you'd like to restore the old behavior.\n",
      "[CV 2/3] END colsample_bytree=0.6, gamma=1.5, max_depth=4, min_child_weight=10, subsample=0.8;, score=0.660 total time=  13.8s\n",
      "[20:00:28] WARNING: C:/Users/Administrator/workspace/xgboost-win64_release_1.5.1/src/learner.cc:1115: Starting in XGBoost 1.3.0, the default evaluation metric used with the objective 'multi:softprob' was changed from 'merror' to 'mlogloss'. Explicitly set eval_metric if you'd like to restore the old behavior.\n",
      "[CV 3/3] END colsample_bytree=0.6, gamma=1.5, max_depth=4, min_child_weight=10, subsample=0.8;, score=0.653 total time=  13.8s\n",
      "[20:00:42] WARNING: C:/Users/Administrator/workspace/xgboost-win64_release_1.5.1/src/learner.cc:1115: Starting in XGBoost 1.3.0, the default evaluation metric used with the objective 'multi:softprob' was changed from 'merror' to 'mlogloss'. Explicitly set eval_metric if you'd like to restore the old behavior.\n",
      "[CV 1/3] END colsample_bytree=0.8, gamma=2, max_depth=3, min_child_weight=1, subsample=1.0;, score=0.643 total time=  10.3s\n",
      "[20:00:52] WARNING: C:/Users/Administrator/workspace/xgboost-win64_release_1.5.1/src/learner.cc:1115: Starting in XGBoost 1.3.0, the default evaluation metric used with the objective 'multi:softprob' was changed from 'merror' to 'mlogloss'. Explicitly set eval_metric if you'd like to restore the old behavior.\n",
      "[CV 2/3] END colsample_bytree=0.8, gamma=2, max_depth=3, min_child_weight=1, subsample=1.0;, score=0.640 total time=  10.2s\n",
      "[20:01:03] WARNING: C:/Users/Administrator/workspace/xgboost-win64_release_1.5.1/src/learner.cc:1115: Starting in XGBoost 1.3.0, the default evaluation metric used with the objective 'multi:softprob' was changed from 'merror' to 'mlogloss'. Explicitly set eval_metric if you'd like to restore the old behavior.\n",
      "[CV 3/3] END colsample_bytree=0.8, gamma=2, max_depth=3, min_child_weight=1, subsample=1.0;, score=0.640 total time=  10.1s\n",
      "[20:01:13] WARNING: C:/Users/Administrator/workspace/xgboost-win64_release_1.5.1/src/learner.cc:1115: Starting in XGBoost 1.3.0, the default evaluation metric used with the objective 'multi:softprob' was changed from 'merror' to 'mlogloss'. Explicitly set eval_metric if you'd like to restore the old behavior.\n",
      "[CV 1/3] END colsample_bytree=1.0, gamma=5, max_depth=3, min_child_weight=10, subsample=0.8;, score=0.645 total time=   9.9s\n",
      "[20:01:23] WARNING: C:/Users/Administrator/workspace/xgboost-win64_release_1.5.1/src/learner.cc:1115: Starting in XGBoost 1.3.0, the default evaluation metric used with the objective 'multi:softprob' was changed from 'merror' to 'mlogloss'. Explicitly set eval_metric if you'd like to restore the old behavior.\n",
      "[CV 2/3] END colsample_bytree=1.0, gamma=5, max_depth=3, min_child_weight=10, subsample=0.8;, score=0.637 total time=   9.9s\n",
      "[20:01:33] WARNING: C:/Users/Administrator/workspace/xgboost-win64_release_1.5.1/src/learner.cc:1115: Starting in XGBoost 1.3.0, the default evaluation metric used with the objective 'multi:softprob' was changed from 'merror' to 'mlogloss'. Explicitly set eval_metric if you'd like to restore the old behavior.\n",
      "[CV 3/3] END colsample_bytree=1.0, gamma=5, max_depth=3, min_child_weight=10, subsample=0.8;, score=0.640 total time=   9.9s\n",
      "[20:01:43] WARNING: C:/Users/Administrator/workspace/xgboost-win64_release_1.5.1/src/learner.cc:1115: Starting in XGBoost 1.3.0, the default evaluation metric used with the objective 'multi:softprob' was changed from 'merror' to 'mlogloss'. Explicitly set eval_metric if you'd like to restore the old behavior.\n",
      "[CV 1/3] END colsample_bytree=0.6, gamma=1, max_depth=3, min_child_weight=10, subsample=0.6;, score=0.660 total time=  15.0s\n",
      "[20:01:58] WARNING: C:/Users/Administrator/workspace/xgboost-win64_release_1.5.1/src/learner.cc:1115: Starting in XGBoost 1.3.0, the default evaluation metric used with the objective 'multi:softprob' was changed from 'merror' to 'mlogloss'. Explicitly set eval_metric if you'd like to restore the old behavior.\n",
      "[CV 2/3] END colsample_bytree=0.6, gamma=1, max_depth=3, min_child_weight=10, subsample=0.6;, score=0.658 total time=  15.0s\n",
      "[20:02:13] WARNING: C:/Users/Administrator/workspace/xgboost-win64_release_1.5.1/src/learner.cc:1115: Starting in XGBoost 1.3.0, the default evaluation metric used with the objective 'multi:softprob' was changed from 'merror' to 'mlogloss'. Explicitly set eval_metric if you'd like to restore the old behavior.\n",
      "[CV 3/3] END colsample_bytree=0.6, gamma=1, max_depth=3, min_child_weight=10, subsample=0.6;, score=0.651 total time=  15.1s\n",
      "[20:02:29] WARNING: C:/Users/Administrator/workspace/xgboost-win64_release_1.5.1/src/learner.cc:1115: Starting in XGBoost 1.3.0, the default evaluation metric used with the objective 'multi:softprob' was changed from 'merror' to 'mlogloss'. Explicitly set eval_metric if you'd like to restore the old behavior.\n",
      "[CV 1/3] END colsample_bytree=0.6, gamma=1, max_depth=4, min_child_weight=10, subsample=0.6;, score=0.661 total time=  16.3s\n",
      "[20:02:45] WARNING: C:/Users/Administrator/workspace/xgboost-win64_release_1.5.1/src/learner.cc:1115: Starting in XGBoost 1.3.0, the default evaluation metric used with the objective 'multi:softprob' was changed from 'merror' to 'mlogloss'. Explicitly set eval_metric if you'd like to restore the old behavior.\n",
      "[CV 2/3] END colsample_bytree=0.6, gamma=1, max_depth=4, min_child_weight=10, subsample=0.6;, score=0.661 total time=  16.3s\n",
      "[20:03:01] WARNING: C:/Users/Administrator/workspace/xgboost-win64_release_1.5.1/src/learner.cc:1115: Starting in XGBoost 1.3.0, the default evaluation metric used with the objective 'multi:softprob' was changed from 'merror' to 'mlogloss'. Explicitly set eval_metric if you'd like to restore the old behavior.\n",
      "[CV 3/3] END colsample_bytree=0.6, gamma=1, max_depth=4, min_child_weight=10, subsample=0.6;, score=0.657 total time=  16.3s\n",
      "[20:03:18] WARNING: C:/Users/Administrator/workspace/xgboost-win64_release_1.5.1/src/learner.cc:1115: Starting in XGBoost 1.3.0, the default evaluation metric used with the objective 'multi:softprob' was changed from 'merror' to 'mlogloss'. Explicitly set eval_metric if you'd like to restore the old behavior.\n"
     ]
    },
    {
     "data": {
      "text/plain": [
       "RandomizedSearchCV(cv=<generator object _BaseKFold.split at 0x00000208AFE78E40>,\n",
       "                   estimator=XGBClassifier(base_score=None, booster=None,\n",
       "                                           colsample_bylevel=None,\n",
       "                                           colsample_bynode=None,\n",
       "                                           colsample_bytree=None,\n",
       "                                           enable_categorical=False, gamma=None,\n",
       "                                           gpu_id=None, importance_type=None,\n",
       "                                           interaction_constraints=None,\n",
       "                                           learning_rate=0.1,\n",
       "                                           max_delta_step=None, max_depth=None,\n",
       "                                           min...\n",
       "                                           reg_alpha=None, reg_lambda=None,\n",
       "                                           scale_pos_weight=None,\n",
       "                                           subsample=None,\n",
       "                                           tree_method='gpu_hist',\n",
       "                                           use_label_encoder=False,\n",
       "                                           validate_parameters=None,\n",
       "                                           verbosity=None),\n",
       "                   n_iter=5, n_jobs=1,\n",
       "                   param_distributions={'colsample_bytree': [0.6, 0.8, 1.0],\n",
       "                                        'gamma': [0.5, 1, 1.5, 2, 5],\n",
       "                                        'max_depth': [3, 4, 5],\n",
       "                                        'min_child_weight': [1, 5, 10],\n",
       "                                        'subsample': [0.6, 0.8, 1.0]},\n",
       "                   random_state=42, verbose=3)"
      ]
     },
     "execution_count": 23,
     "metadata": {},
     "output_type": "execute_result"
    }
   ],
   "source": [
    "random_search.fit(X, Y)"
   ]
  },
  {
   "cell_type": "code",
   "execution_count": 24,
   "id": "9729d1a8-cd89-4639-a46f-f008e87e6d32",
   "metadata": {},
   "outputs": [
    {
     "data": {
      "text/plain": [
       "{'subsample': 0.6,\n",
       " 'min_child_weight': 10,\n",
       " 'max_depth': 4,\n",
       " 'gamma': 1,\n",
       " 'colsample_bytree': 0.6}"
      ]
     },
     "execution_count": 24,
     "metadata": {},
     "output_type": "execute_result"
    }
   ],
   "source": [
    "random_search.best_params_"
   ]
  },
  {
   "cell_type": "code",
   "execution_count": 39,
   "id": "827037cf-d5d3-4264-a8f3-b5e2891bd721",
   "metadata": {},
   "outputs": [
    {
     "data": {
      "text/plain": [
       "XGBClassifier(base_score=0.5, booster='gbtree', colsample_bylevel=1,\n",
       "              colsample_bynode=1, colsample_bytree=1, enable_categorical=False,\n",
       "              gamma=0, gpu_id=0, importance_type=None,\n",
       "              interaction_constraints='', learning_rate=0.1, max_delta_step=0,\n",
       "              max_depth=6, min_child_weight=1, missing=nan,\n",
       "              monotone_constraints='()', n_estimators=1000, n_jobs=16,\n",
       "              num_parallel_tree=1, objective='multi:softprob', predictor='auto',\n",
       "              random_state=0, reg_alpha=0, reg_lambda=1, scale_pos_weight=None,\n",
       "              subsample=1, tree_method='gpu_hist', use_label_encoder=False,\n",
       "              validate_parameters=1, verbosity=None)"
      ]
     },
     "execution_count": 39,
     "metadata": {},
     "output_type": "execute_result"
    }
   ],
   "source": [
    "gridsearchmodel"
   ]
  },
  {
   "cell_type": "code",
   "execution_count": 26,
   "id": "893ed813-0130-453c-98eb-bd78121da079",
   "metadata": {},
   "outputs": [],
   "source": [
    "X_train, X_val, y_train, y_val = train_test_split(X, Y, test_size=0.1, random_state=42)"
   ]
  },
  {
   "cell_type": "markdown",
   "id": "80b384cb-c410-4471-ab5b-b8f0caf4ef80",
   "metadata": {},
   "source": [
    "### trying new params from random grid search to see improvements (probably very slight)"
   ]
  },
  {
   "cell_type": "code",
   "execution_count": 27,
   "id": "593656a4-1236-431a-9948-3b9078f7b6d4",
   "metadata": {},
   "outputs": [],
   "source": [
    "rgs_model = xgb.XGBClassifier(tree_method='gpu_hist', use_label_encoder=False, learning_rate=0.1, n_estimators=1000,\n",
    "                              subsample=0.6, min_child_weight=10, max_depth=4, gamma=1, colsample_bytree=0.6)"
   ]
  },
  {
   "cell_type": "code",
   "execution_count": 29,
   "id": "31e98a80-c43f-4009-93af-038bedccd534",
   "metadata": {},
   "outputs": [
    {
     "name": "stdout",
     "output_type": "stream",
     "text": [
      "[20:05:47] WARNING: C:/Users/Administrator/workspace/xgboost-win64_release_1.5.1/src/learner.cc:1115: Starting in XGBoost 1.3.0, the default evaluation metric used with the objective 'multi:softprob' was changed from 'merror' to 'mlogloss'. Explicitly set eval_metric if you'd like to restore the old behavior.\n"
     ]
    }
   ],
   "source": [
    "rgs_model.fit(X_train, y_train)"
   ]
  },
  {
   "cell_type": "code",
   "execution_count": 31,
   "id": "b8ab5b5b-593e-45b9-86bf-1c755eb18b10",
   "metadata": {},
   "outputs": [],
   "source": [
    "pred = rgs_model.predict(X_val)"
   ]
  },
  {
   "cell_type": "code",
   "execution_count": 32,
   "id": "ba9a7b5b-be0f-4516-a9ad-037b158e0981",
   "metadata": {},
   "outputs": [],
   "source": [
    "cr = classification_report(y_val, pred, target_names=ligands)"
   ]
  },
  {
   "cell_type": "code",
   "execution_count": 33,
   "id": "27494638-a093-4299-860d-bf327dcaba59",
   "metadata": {},
   "outputs": [
    {
     "name": "stdout",
     "output_type": "stream",
     "text": [
      "              precision    recall  f1-score   support\n",
      "\n",
      "         CpG       0.52      0.56      0.54       196\n",
      "         FLA       0.60      0.48      0.53       143\n",
      "         FSL       0.58      0.60      0.59       189\n",
      "         LPS       0.61      0.77      0.68       149\n",
      "         P3K       0.65      0.54      0.59       185\n",
      "         PIC       0.76      0.73      0.74       165\n",
      "         R84       0.78      0.84      0.81       249\n",
      "         TNF       0.72      0.67      0.69       162\n",
      "\n",
      "    accuracy                           0.66      1438\n",
      "   macro avg       0.65      0.65      0.65      1438\n",
      "weighted avg       0.66      0.66      0.65      1438\n",
      "\n"
     ]
    }
   ],
   "source": [
    "print(cr)"
   ]
  },
  {
   "cell_type": "markdown",
   "id": "33946756-a30c-4acd-96f8-8f1a894f3813",
   "metadata": {},
   "source": [
    "# BRUTE FORCE GRID SEARCH"
   ]
  },
  {
   "cell_type": "code",
   "execution_count": 41,
   "id": "68a1123a-01f1-4f71-8795-e5c8c7a7d934",
   "metadata": {},
   "outputs": [],
   "source": [
    "folds = 3\n",
    "# param_comb = 5\n",
    "skf = StratifiedKFold(n_splits=folds, shuffle = True, random_state = 42)\n",
    "bruteforce = GridSearchCV(gridsearchmodel, param_grid=params, n_jobs=1, cv=skf.split(X, Y), \n",
    "                                   verbose=50)\n",
    "\n",
    "# grid search will not output anything if you use more than 1 thread"
   ]
  },
  {
   "cell_type": "code",
   "execution_count": null,
   "id": "7dd13bd1-e2f7-49d8-afce-8a9a5a701ff8",
   "metadata": {},
   "outputs": [
    {
     "name": "stdout",
     "output_type": "stream",
     "text": [
      "Fitting 3 folds for each of 405 candidates, totalling 1215 fits\n",
      "[CV 1/3; 1/405] START colsample_bytree=0.6, gamma=0.5, max_depth=3, min_child_weight=1, subsample=0.6\n",
      "[20:10:49] WARNING: C:/Users/Administrator/workspace/xgboost-win64_release_1.5.1/src/learner.cc:1115: Starting in XGBoost 1.3.0, the default evaluation metric used with the objective 'multi:softprob' was changed from 'merror' to 'mlogloss'. Explicitly set eval_metric if you'd like to restore the old behavior.\n",
      "[CV 1/3; 1/405] END colsample_bytree=0.6, gamma=0.5, max_depth=3, min_child_weight=1, subsample=0.6;, score=0.664 total time=  16.7s\n",
      "[CV 2/3; 1/405] START colsample_bytree=0.6, gamma=0.5, max_depth=3, min_child_weight=1, subsample=0.6\n",
      "[20:11:06] WARNING: C:/Users/Administrator/workspace/xgboost-win64_release_1.5.1/src/learner.cc:1115: Starting in XGBoost 1.3.0, the default evaluation metric used with the objective 'multi:softprob' was changed from 'merror' to 'mlogloss'. Explicitly set eval_metric if you'd like to restore the old behavior.\n"
     ]
    }
   ],
   "source": [
    "bruteforce.fit(X, Y)"
   ]
  },
  {
   "cell_type": "code",
   "execution_count": null,
   "id": "6015dce1-34ec-4fa5-b3ce-3344065ee053",
   "metadata": {},
   "outputs": [],
   "source": []
  }
 ],
 "metadata": {
  "kernelspec": {
   "display_name": "Python 3 (ipykernel)",
   "language": "python",
   "name": "python3"
  },
  "language_info": {
   "codemirror_mode": {
    "name": "ipython",
    "version": 3
   },
   "file_extension": ".py",
   "mimetype": "text/x-python",
   "name": "python",
   "nbconvert_exporter": "python",
   "pygments_lexer": "ipython3",
   "version": "3.8.12"
  }
 },
 "nbformat": 4,
 "nbformat_minor": 5
}
