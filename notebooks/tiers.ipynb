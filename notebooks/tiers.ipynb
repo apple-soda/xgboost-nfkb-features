{
 "cells": [
  {
   "cell_type": "code",
   "execution_count": 1,
   "id": "a64f44d9-1692-480e-a670-f7f7508e8946",
   "metadata": {},
   "outputs": [],
   "source": [
    "import sys\n",
    "sys.path.append('..')"
   ]
  },
  {
   "cell_type": "code",
   "execution_count": 2,
   "id": "07568c7f-25e0-444e-b41d-dac7757f750b",
   "metadata": {},
   "outputs": [],
   "source": [
    "from core.dataset import *\n",
    "from sklearn.model_selection import train_test_split\n",
    "from sklearn.metrics import classification_report\n",
    "import xgboost as xgb\n",
    "import numpy as np\n",
    "import matplotlib.pyplot as plt\n",
    "import seaborn as sns"
   ]
  },
  {
   "cell_type": "code",
   "execution_count": 3,
   "id": "8138629c-2898-4e5b-8c7e-e6167d1f5332",
   "metadata": {},
   "outputs": [],
   "source": [
    "load_dir = 'D:/Data/hoffmanlab/featureselection/data/'\n",
    "ligands = ['CpG', 'FLA', 'FSL', 'LPS', 'P3K', 'PIC', 'R84', 'TNF']\n",
    "sheet_type = 'sc'"
   ]
  },
  {
   "cell_type": "code",
   "execution_count": 4,
   "id": "11a93ad8-b1fd-4400-a44b-90fafbd0dda6",
   "metadata": {},
   "outputs": [],
   "source": [
    "trip = ['TNF', 'PIC', 'LPS']\n",
    "sheet_type = 'am'"
   ]
  },
  {
   "cell_type": "code",
   "execution_count": 5,
   "id": "8e6af1a9-7cd9-49cb-9c4e-183a347790ef",
   "metadata": {},
   "outputs": [],
   "source": [
    "t1_data = Data(load_dir, trip, sheet_type, merge=True)"
   ]
  },
  {
   "cell_type": "code",
   "execution_count": 6,
   "id": "fdb313a8-801d-434d-95a6-acce90979873",
   "metadata": {},
   "outputs": [],
   "source": [
    "X, Y = t1_data.iloc[:, [i for i in range(984)]].to_numpy(), t1_data.iloc[:, [984]].to_numpy().reshape(-1, )"
   ]
  },
  {
   "cell_type": "code",
   "execution_count": 7,
   "id": "8d8f6cd3-a05f-4689-9e64-5f06c1c5c75d",
   "metadata": {},
   "outputs": [],
   "source": [
    "X_train, X_val, y_train, y_val = train_test_split(X, Y, test_size=0.1)"
   ]
  },
  {
   "cell_type": "code",
   "execution_count": 8,
   "id": "a561cf23-630e-4165-beee-5fae9b2daede",
   "metadata": {},
   "outputs": [],
   "source": [
    "model = xgb.XGBClassifier(use_label_encoder=False, tree_method='gpu_hist')"
   ]
  },
  {
   "cell_type": "code",
   "execution_count": 9,
   "id": "b0e738c8-db56-4d02-bb90-ca3386d6311f",
   "metadata": {},
   "outputs": [
    {
     "name": "stdout",
     "output_type": "stream",
     "text": [
      "[14:47:05] WARNING: C:/Users/Administrator/workspace/xgboost-win64_release_1.5.1/src/learner.cc:1115: Starting in XGBoost 1.3.0, the default evaluation metric used with the objective 'multi:softprob' was changed from 'merror' to 'mlogloss'. Explicitly set eval_metric if you'd like to restore the old behavior.\n"
     ]
    },
    {
     "data": {
      "text/plain": [
       "XGBClassifier(base_score=0.5, booster='gbtree', colsample_bylevel=1,\n",
       "              colsample_bynode=1, colsample_bytree=1, enable_categorical=False,\n",
       "              gamma=0, gpu_id=0, importance_type=None,\n",
       "              interaction_constraints='', learning_rate=0.300000012,\n",
       "              max_delta_step=0, max_depth=6, min_child_weight=1, missing=nan,\n",
       "              monotone_constraints='()', n_estimators=100, n_jobs=16,\n",
       "              num_parallel_tree=1, objective='multi:softprob', predictor='auto',\n",
       "              random_state=0, reg_alpha=0, reg_lambda=1, scale_pos_weight=None,\n",
       "              subsample=1, tree_method='gpu_hist', use_label_encoder=False,\n",
       "              validate_parameters=1, verbosity=None)"
      ]
     },
     "execution_count": 9,
     "metadata": {},
     "output_type": "execute_result"
    }
   ],
   "source": [
    "model.fit(X_train, y_train)"
   ]
  },
  {
   "cell_type": "code",
   "execution_count": 10,
   "id": "e5f5fa68-6220-4f6e-8c02-699b9b146fa8",
   "metadata": {},
   "outputs": [],
   "source": [
    "pred = model.predict(X_val)"
   ]
  },
  {
   "cell_type": "code",
   "execution_count": 11,
   "id": "18baa995-4a2e-4780-a50b-10763aa1f48e",
   "metadata": {},
   "outputs": [],
   "source": [
    "cr = classification_report(y_val, pred, target_names=trip)"
   ]
  },
  {
   "cell_type": "code",
   "execution_count": 12,
   "id": "e0a0033f-8d63-43f4-b876-3cdf1e6f6f2e",
   "metadata": {},
   "outputs": [
    {
     "name": "stdout",
     "output_type": "stream",
     "text": [
      "              precision    recall  f1-score   support\n",
      "\n",
      "         TNF       0.91      0.86      0.89       160\n",
      "         PIC       0.87      0.85      0.86       142\n",
      "         LPS       0.88      0.94      0.91       174\n",
      "\n",
      "    accuracy                           0.89       476\n",
      "   macro avg       0.89      0.89      0.89       476\n",
      "weighted avg       0.89      0.89      0.89       476\n",
      "\n"
     ]
    }
   ],
   "source": [
    "print(cr)"
   ]
  },
  {
   "cell_type": "code",
   "execution_count": 13,
   "id": "a308ceb2-d9e6-4620-93e9-ad4a27bd24f0",
   "metadata": {},
   "outputs": [],
   "source": [
    "t1_feature_importance_rev = model.feature_importances_.argsort()"
   ]
  },
  {
   "cell_type": "code",
   "execution_count": 14,
   "id": "e32c1958-a265-4cc5-aed2-2dbd466ed0c5",
   "metadata": {},
   "outputs": [],
   "source": [
    "# sorted in reverse order so need to flip around\n",
    "t1_feature_importance = t1_feature_importance_rev[::-1]"
   ]
  },
  {
   "cell_type": "code",
   "execution_count": 15,
   "id": "d251648a-054b-4890-84c2-cec0fa5025c1",
   "metadata": {},
   "outputs": [
    {
     "data": {
      "text/plain": [
       "<AxesSubplot:>"
      ]
     },
     "execution_count": 15,
     "metadata": {},
     "output_type": "execute_result"
    },
    {
     "data": {
      "image/png": "[encoded data removed]",
      "text/plain": [
       "<Figure size 432x288 with 1 Axes>"
      ]
     },
     "metadata": {
      "needs_background": "light"
     },
     "output_type": "display_data"
    }
   ],
   "source": [
    "sns.barplot(x=model.feature_importances_[t1_feature_importance], y=t1_data.columns[t1_feature_importance])"
   ]
  },
  {
   "cell_type": "code",
   "execution_count": 16,
   "id": "ee62a655-2078-4f98-b5f7-1036cfa7dbdb",
   "metadata": {},
   "outputs": [
    {
     "data": {
      "text/plain": [
       "Index(['fold_change_5', 'oscpower', 'integrals_pos_8', 'time_series_3',\n",
       "       'fold_change_24', 'trough2peak_1', 'integrals_17', 'fold_change_20',\n",
       "       'envelope_5', 'integrals_10', 'integrals_27', 'integrals_38',\n",
       "       'integrals_9', 'integrals_pos_44', 'integrals_pos_46', 'fold_change_25',\n",
       "       'time_series_19', 'fold_change_7', 'fold_change_22', 'mean_movvar'],\n",
       "      dtype='object')"
      ]
     },
     "execution_count": 16,
     "metadata": {},
     "output_type": "execute_result"
    }
   ],
   "source": [
    "t1_data.columns[t1_feature_importance][:20]"
   ]
  },
  {
   "cell_type": "markdown",
   "id": "2ee3943b-ae17-4834-8603-1b3daffdd84a",
   "metadata": {},
   "source": [
    "### TNF/PIC/LPS Top Features\n",
    "* ['integrals_10', 'fold_change_24', 'time_series_3', 'integrals_pos_65',\n",
    "       'integrals_pos_9', 'integrals_8', 'fold_change_19', 'trough2peak_1',\n",
    "       'intwin1_2', 'oscpower', 'envelope_5', 'fold_change_25',\n",
    "       'integrals_pos_44', 'integrals_pos_16', 'fold_change_18',\n",
    "       'integrals_pos_90', 'fold_change_20', 'derivatives_3', 'mean_movvar',\n",
    "       'integrals_24']\n",
    "* integrals, fold change, time series, integrals pos, trough2peak, intwin1, oscpower, envelope, derivatives, mean movvar"
   ]
  },
  {
   "cell_type": "code",
   "execution_count": 17,
   "id": "be27e033-51f3-47f3-8a13-8c64f203a6a1",
   "metadata": {},
   "outputs": [],
   "source": [
    "trip2 = ['CpG', 'FLA', 'P3K', 'FSL', 'R84']"
   ]
  },
  {
   "cell_type": "code",
   "execution_count": 18,
   "id": "9a0f2fe3-9e55-4a63-804b-23e840c80d3d",
   "metadata": {},
   "outputs": [],
   "source": [
    "t2_data = Data(load_dir, trip2, sheet_type, merge=True)"
   ]
  },
  {
   "cell_type": "code",
   "execution_count": 19,
   "id": "411fefc8-2e32-4d95-9cd9-c0ce18bd619f",
   "metadata": {},
   "outputs": [],
   "source": [
    "X2, Y2 = t2_data.iloc[:, [i for i in range(984)]].to_numpy(), t2_data.iloc[:, [984]].to_numpy().reshape(-1, )"
   ]
  },
  {
   "cell_type": "code",
   "execution_count": 20,
   "id": "6caa88d7-97af-405a-9eec-953fd8dc733f",
   "metadata": {},
   "outputs": [],
   "source": [
    "X2_train, X2_val, y2_train, y2_val = train_test_split(X2, Y2, test_size=0.1)"
   ]
  },
  {
   "cell_type": "code",
   "execution_count": 21,
   "id": "4cfe7f02-e407-49cc-b816-24214aa32bfa",
   "metadata": {},
   "outputs": [],
   "source": [
    "model2 = xgb.XGBClassifier(tree_method='gpu_hist', use_label_encoder=False)"
   ]
  },
  {
   "cell_type": "code",
   "execution_count": 22,
   "id": "12532974-d987-43f8-8310-485a1e8b2481",
   "metadata": {},
   "outputs": [
    {
     "name": "stdout",
     "output_type": "stream",
     "text": [
      "[14:47:22] WARNING: C:/Users/Administrator/workspace/xgboost-win64_release_1.5.1/src/learner.cc:1115: Starting in XGBoost 1.3.0, the default evaluation metric used with the objective 'multi:softprob' was changed from 'merror' to 'mlogloss'. Explicitly set eval_metric if you'd like to restore the old behavior.\n"
     ]
    },
    {
     "data": {
      "text/plain": [
       "XGBClassifier(base_score=0.5, booster='gbtree', colsample_bylevel=1,\n",
       "              colsample_bynode=1, colsample_bytree=1, enable_categorical=False,\n",
       "              gamma=0, gpu_id=0, importance_type=None,\n",
       "              interaction_constraints='', learning_rate=0.300000012,\n",
       "              max_delta_step=0, max_depth=6, min_child_weight=1, missing=nan,\n",
       "              monotone_constraints='()', n_estimators=100, n_jobs=16,\n",
       "              num_parallel_tree=1, objective='multi:softprob', predictor='auto',\n",
       "              random_state=0, reg_alpha=0, reg_lambda=1, scale_pos_weight=None,\n",
       "              subsample=1, tree_method='gpu_hist', use_label_encoder=False,\n",
       "              validate_parameters=1, verbosity=None)"
      ]
     },
     "execution_count": 22,
     "metadata": {},
     "output_type": "execute_result"
    }
   ],
   "source": [
    "model2.fit(X2_train, y2_train)"
   ]
  },
  {
   "cell_type": "code",
   "execution_count": 23,
   "id": "30245be9-2f15-4f6d-ac24-fa3e69e471bb",
   "metadata": {},
   "outputs": [],
   "source": [
    "pred2 = model2.predict(X2_val)"
   ]
  },
  {
   "cell_type": "code",
   "execution_count": 24,
   "id": "78ddda03-a0f5-4fcb-ac0f-54a1b46f3624",
   "metadata": {},
   "outputs": [],
   "source": [
    "cr2 = classification_report(pred2, y2_val, target_names=trip2)"
   ]
  },
  {
   "cell_type": "code",
   "execution_count": 25,
   "id": "0f59acfd-c3ed-4eaf-8f66-055997d5fe84",
   "metadata": {},
   "outputs": [
    {
     "name": "stdout",
     "output_type": "stream",
     "text": [
      "              precision    recall  f1-score   support\n",
      "\n",
      "         CpG       0.65      0.58      0.61       212\n",
      "         FLA       0.56      0.60      0.58       162\n",
      "         P3K       0.54      0.59      0.56       131\n",
      "         FSL       0.62      0.65      0.64       165\n",
      "         R84       0.88      0.86      0.87       292\n",
      "\n",
      "    accuracy                           0.68       962\n",
      "   macro avg       0.65      0.66      0.65       962\n",
      "weighted avg       0.68      0.68      0.68       962\n",
      "\n"
     ]
    }
   ],
   "source": [
    "print(cr2)"
   ]
  },
  {
   "cell_type": "markdown",
   "id": "096f94f2-e015-4bb0-b7c4-0e3e45488e84",
   "metadata": {},
   "source": [
    "### Notes\n",
    "* much stronger accuracies on TNF/LPS/PIC ~ 85%\n",
    "* weaker accuracies on rest of ligands ~ 65%\n",
    "* so why does combining them drag the average down to 65%?"
   ]
  },
  {
   "cell_type": "code",
   "execution_count": 26,
   "id": "08e742fd-211a-429a-9533-2952ad40118b",
   "metadata": {},
   "outputs": [],
   "source": [
    "t2_fi_rev = model2.feature_importances_.argsort()"
   ]
  },
  {
   "cell_type": "code",
   "execution_count": 27,
   "id": "84a6c9a0-e45a-4afe-8658-4883ac72f311",
   "metadata": {},
   "outputs": [],
   "source": [
    "t2_fi = t2_fi_rev[::-1]"
   ]
  },
  {
   "cell_type": "code",
   "execution_count": 29,
   "id": "bccf4fe8-1cfa-463c-b65d-e961cedf2a3b",
   "metadata": {},
   "outputs": [
    {
     "data": {
      "text/plain": [
       "<AxesSubplot:>"
      ]
     },
     "execution_count": 29,
     "metadata": {},
     "output_type": "execute_result"
    },
    {
     "data": {
      "image/png": "[encoded data removed]",
      "text/plain": [
       "<Figure size 432x288 with 1 Axes>"
      ]
     },
     "metadata": {
      "needs_background": "light"
     },
     "output_type": "display_data"
    }
   ],
   "source": [
    "sns.barplot(x=model2.feature_importances_[t2_fi], y=t2_data.columns[t2_fi])"
   ]
  },
  {
   "cell_type": "code",
   "execution_count": 28,
   "id": "3256661d-fa3d-4b11-be0b-0e836a5c1c33",
   "metadata": {},
   "outputs": [
    {
     "data": {
      "text/plain": [
       "Index(['time_series_2', 'integrals_15', 'fold_change_2', 'derivatives_1',\n",
       "       'integrals_75', 'time_series_11', 'time2HalfMaxIntegral', 'intwin1_1',\n",
       "       'integrals_37', 'peak_amps_1', 'integrals_pos_27', 'valley_amps_5',\n",
       "       'derivatives_3', 'integrals_49', 'integrals_pos_47', 'integrals_pos_93',\n",
       "       'mean_derivative', 'max_trough2peak', 'valley_amps_6',\n",
       "       'time_series_85'],\n",
       "      dtype='object')"
      ]
     },
     "execution_count": 28,
     "metadata": {},
     "output_type": "execute_result"
    }
   ],
   "source": [
    "t2_data.columns[t2_fi][:20]"
   ]
  },
  {
   "cell_type": "markdown",
   "id": "f1fe5a96-bf92-45da-9dd8-6736d18d1662",
   "metadata": {},
   "source": [
    "### CpG FLA P3K, FLS, R84, FLA\n",
    "* ['time_series_2', 'integrals_15', 'fold_change_2', 'derivatives_1',\n",
    "       'integrals_75', 'time_series_11', 'time2HalfMaxIntegral', 'intwin1_1',\n",
    "       'integrals_37', 'peak_amps_1', 'integrals_pos_27', 'valley_amps_5',\n",
    "       'derivatives_3', 'integrals_49', 'integrals_pos_47', 'integrals_pos_93',\n",
    "       'mean_derivative', 'max_trough2peak', 'valley_amps_6',\n",
    "       'time_series_85']\n",
    "* time series, integrals, fold_change, derivaties, peak-amps, time2halfmaxintegral, intwin1, valley_amps, derivatives, max trough2peak"
   ]
  },
  {
   "cell_type": "code",
   "execution_count": 30,
   "id": "7d6c5185-be51-4489-b658-64bac9113505",
   "metadata": {},
   "outputs": [
    {
     "data": {
      "text/plain": [
       "<AxesSubplot:>"
      ]
     },
     "execution_count": 30,
     "metadata": {},
     "output_type": "execute_result"
    },
    {
     "data": {
      "image/png": "[encoded data removed]",
      "text/plain": [
       "<Figure size 432x288 with 1 Axes>"
      ]
     },
     "metadata": {
      "needs_background": "light"
     },
     "output_type": "display_data"
    }
   ],
   "source": [
    "sns.barplot(x=model2.feature_importances_[t2_fi][:20], y=t2_data.columns[t2_fi][:20])"
   ]
  },
  {
   "cell_type": "code",
   "execution_count": 35,
   "id": "343faaca-9da2-4ea9-b7f1-c3706306abc3",
   "metadata": {},
   "outputs": [
    {
     "data": {
      "text/plain": [
       "<AxesSubplot:>"
      ]
     },
     "execution_count": 35,
     "metadata": {},
     "output_type": "execute_result"
    },
    {
     "data": {
      "image/png": "[encoded data removed]",
      "text/plain": [
       "<Figure size 432x288 with 1 Axes>"
      ]
     },
     "metadata": {
      "needs_background": "light"
     },
     "output_type": "display_data"
    }
   ],
   "source": [
    "sns.barplot(x=model.feature_importances_[t1_feature_importance][:20], y=t1_data.columns[t1_feature_importance][:20])"
   ]
  },
  {
   "cell_type": "markdown",
   "id": "5d3f939b-a24e-4594-a774-b5b7a3b4d016",
   "metadata": {},
   "source": [
    "# try fitting model on features > 0.02 score\n",
    "* fit on tier 1 ligands\n",
    "* fit on tier 2 ligands\n",
    "* fit on all ligands"
   ]
  },
  {
   "cell_type": "code",
   "execution_count": 39,
   "id": "a6faf648-6167-4ca7-bb08-def51d693a8c",
   "metadata": {},
   "outputs": [],
   "source": [
    "point2 = ['time_series_2', 'integrals_15', 'fold_change_5', 'oscpower', 'integrals_pos_8', 'time_series_8', 'fold_change_24', 'trough2peak_1', 'integrals_17', 'fold_change_20']"
   ]
  },
  {
   "cell_type": "code",
   "execution_count": 41,
   "id": "12704077-522f-440b-85c1-bd5d8d056f24",
   "metadata": {},
   "outputs": [],
   "source": [
    "t1_vec10, t2_vec10 = t1_data.loc[:, point2], t2_data.loc[:, point2]"
   ]
  },
  {
   "cell_type": "code",
   "execution_count": 46,
   "id": "99cb0f5d-3f4e-4609-8f4b-552e36f50c41",
   "metadata": {},
   "outputs": [],
   "source": [
    "# use Y and Y2\n",
    "X1_vec10, X2_vec10 = t1_vec10.to_numpy(), t2_vec10.to_numpy()"
   ]
  },
  {
   "cell_type": "code",
   "execution_count": 48,
   "id": "733260e9-c422-4748-81e2-13eb00e870a3",
   "metadata": {},
   "outputs": [],
   "source": [
    "X1v_train, X1v_val, y1v_train, y1v_val = train_test_split(X1_vec10, Y, test_size=0.1)"
   ]
  },
  {
   "cell_type": "code",
   "execution_count": 49,
   "id": "c9d79bad-8343-4ead-9bf3-5a64027eb261",
   "metadata": {},
   "outputs": [],
   "source": [
    "X2v_train, X2v_val, y2v_train, y2v_val = train_test_split(X2_vec10, Y2, test_size=0.1)"
   ]
  },
  {
   "cell_type": "code",
   "execution_count": 50,
   "id": "b8ef7382-e009-4cc9-8ce1-e6a34edd0d00",
   "metadata": {},
   "outputs": [],
   "source": [
    "v1_model = xgb.XGBClassifier(tree_method='gpu_hist', use_label_encoder=False)\n",
    "v2_model = xgb.XGBClassifier(tree_method='gpu_hist', use_label_encoder=False)"
   ]
  },
  {
   "cell_type": "code",
   "execution_count": 51,
   "id": "07d879a1-b68b-43ba-a450-5332dd97fcd0",
   "metadata": {},
   "outputs": [
    {
     "name": "stdout",
     "output_type": "stream",
     "text": [
      "[15:00:03] WARNING: C:/Users/Administrator/workspace/xgboost-win64_release_1.5.1/src/learner.cc:1115: Starting in XGBoost 1.3.0, the default evaluation metric used with the objective 'multi:softprob' was changed from 'merror' to 'mlogloss'. Explicitly set eval_metric if you'd like to restore the old behavior.\n"
     ]
    },
    {
     "data": {
      "text/plain": [
       "XGBClassifier(base_score=0.5, booster='gbtree', colsample_bylevel=1,\n",
       "              colsample_bynode=1, colsample_bytree=1, enable_categorical=False,\n",
       "              gamma=0, gpu_id=0, importance_type=None,\n",
       "              interaction_constraints='', learning_rate=0.300000012,\n",
       "              max_delta_step=0, max_depth=6, min_child_weight=1, missing=nan,\n",
       "              monotone_constraints='()', n_estimators=100, n_jobs=16,\n",
       "              num_parallel_tree=1, objective='multi:softprob', predictor='auto',\n",
       "              random_state=0, reg_alpha=0, reg_lambda=1, scale_pos_weight=None,\n",
       "              subsample=1, tree_method='gpu_hist', use_label_encoder=False,\n",
       "              validate_parameters=1, verbosity=None)"
      ]
     },
     "execution_count": 51,
     "metadata": {},
     "output_type": "execute_result"
    }
   ],
   "source": [
    "v1_model.fit(X1v_train, y1v_train)"
   ]
  },
  {
   "cell_type": "code",
   "execution_count": 52,
   "id": "7c8ee991-e0a5-44ea-91c8-da144aebcb6f",
   "metadata": {},
   "outputs": [
    {
     "name": "stdout",
     "output_type": "stream",
     "text": [
      "[15:00:11] WARNING: C:/Users/Administrator/workspace/xgboost-win64_release_1.5.1/src/learner.cc:1115: Starting in XGBoost 1.3.0, the default evaluation metric used with the objective 'multi:softprob' was changed from 'merror' to 'mlogloss'. Explicitly set eval_metric if you'd like to restore the old behavior.\n"
     ]
    },
    {
     "data": {
      "text/plain": [
       "XGBClassifier(base_score=0.5, booster='gbtree', colsample_bylevel=1,\n",
       "              colsample_bynode=1, colsample_bytree=1, enable_categorical=False,\n",
       "              gamma=0, gpu_id=0, importance_type=None,\n",
       "              interaction_constraints='', learning_rate=0.300000012,\n",
       "              max_delta_step=0, max_depth=6, min_child_weight=1, missing=nan,\n",
       "              monotone_constraints='()', n_estimators=100, n_jobs=16,\n",
       "              num_parallel_tree=1, objective='multi:softprob', predictor='auto',\n",
       "              random_state=0, reg_alpha=0, reg_lambda=1, scale_pos_weight=None,\n",
       "              subsample=1, tree_method='gpu_hist', use_label_encoder=False,\n",
       "              validate_parameters=1, verbosity=None)"
      ]
     },
     "execution_count": 52,
     "metadata": {},
     "output_type": "execute_result"
    }
   ],
   "source": [
    "v2_model.fit(X2v_train, y2v_train)"
   ]
  },
  {
   "cell_type": "code",
   "execution_count": 53,
   "id": "3c65d4c4-edfc-47de-9974-5a69814e4e1d",
   "metadata": {},
   "outputs": [],
   "source": [
    "v1pred = v1_model.predict(X1v_val)"
   ]
  },
  {
   "cell_type": "code",
   "execution_count": 57,
   "id": "aa28f8a2-1948-4bac-9df5-e20204995300",
   "metadata": {},
   "outputs": [],
   "source": [
    "v2pred = v2_model.predict(X2v_val)"
   ]
  },
  {
   "cell_type": "code",
   "execution_count": 58,
   "id": "12503e44-c99e-4d78-ae21-9b57e9893b31",
   "metadata": {},
   "outputs": [],
   "source": [
    "v1_cr = classification_report(y1v_val, v1pred, target_names=trip)\n",
    "v2_cr = classification_report(y2v_val, v2pred, target_names=trip2)"
   ]
  },
  {
   "cell_type": "code",
   "execution_count": 59,
   "id": "1831b85f-6f3a-48b1-a9db-25b51bd88da8",
   "metadata": {},
   "outputs": [
    {
     "name": "stdout",
     "output_type": "stream",
     "text": [
      "              precision    recall  f1-score   support\n",
      "\n",
      "         TNF       0.82      0.80      0.81       163\n",
      "         PIC       0.77      0.78      0.77       147\n",
      "         LPS       0.80      0.82      0.81       166\n",
      "\n",
      "    accuracy                           0.80       476\n",
      "   macro avg       0.80      0.80      0.80       476\n",
      "weighted avg       0.80      0.80      0.80       476\n",
      "\n"
     ]
    }
   ],
   "source": [
    "print(v1_cr)"
   ]
  },
  {
   "cell_type": "code",
   "execution_count": 60,
   "id": "227a7b94-8980-479d-81af-4dc1ef21d4cc",
   "metadata": {},
   "outputs": [
    {
     "name": "stdout",
     "output_type": "stream",
     "text": [
      "              precision    recall  f1-score   support\n",
      "\n",
      "         CpG       0.46      0.51      0.48       207\n",
      "         FLA       0.37      0.37      0.37       137\n",
      "         P3K       0.56      0.49      0.52       151\n",
      "         FSL       0.51      0.47      0.49       199\n",
      "         R84       0.83      0.85      0.84       268\n",
      "\n",
      "    accuracy                           0.57       962\n",
      "   macro avg       0.54      0.54      0.54       962\n",
      "weighted avg       0.57      0.57      0.57       962\n",
      "\n"
     ]
    }
   ],
   "source": [
    "print(v2_cr)"
   ]
  },
  {
   "cell_type": "markdown",
   "id": "aa1727cd-35b1-464c-9e43-110cb84a1295",
   "metadata": {},
   "source": [
    "## fitting tier1 and tier2 ligands models with top 10 features decreases both accuracies by ~ 10%"
   ]
  },
  {
   "cell_type": "code",
   "execution_count": 62,
   "id": "7ec80762-3a4e-4fe7-8ddf-5b767ce6ae91",
   "metadata": {},
   "outputs": [],
   "source": [
    "# gonna fit a model with full dataset to these features then do more singular model tuning"
   ]
  },
  {
   "cell_type": "code",
   "execution_count": 61,
   "id": "e50227e8-8111-403e-a0cc-7f77c935ab72",
   "metadata": {},
   "outputs": [],
   "source": [
    "fulldata = Data(load_dir, ligands, sheet_type, merge=True)"
   ]
  },
  {
   "cell_type": "code",
   "execution_count": 64,
   "id": "64d990d8-bb6d-4636-8e48-f600dac4e7e1",
   "metadata": {},
   "outputs": [],
   "source": [
    "labels = fulldata.iloc[:, [984]].to_numpy().reshape(-1, )"
   ]
  },
  {
   "cell_type": "code",
   "execution_count": 65,
   "id": "28450d17-4f8c-4c0e-a710-b63e9e49e106",
   "metadata": {},
   "outputs": [],
   "source": [
    "fd_vec10 = fulldata.loc[:, point2]"
   ]
  },
  {
   "cell_type": "code",
   "execution_count": 66,
   "id": "5eaafb9f-cf67-46b6-85e6-b398f303bf68",
   "metadata": {},
   "outputs": [],
   "source": [
    "XX = fd_vec10.to_numpy()"
   ]
  },
  {
   "cell_type": "code",
   "execution_count": 67,
   "id": "9b07eee5-bcad-4caa-a3e9-69341488ca56",
   "metadata": {},
   "outputs": [],
   "source": [
    "XX_train, XX_val, yy_train, yy_val = train_test_split(XX, labels, test_size=0.1)"
   ]
  },
  {
   "cell_type": "code",
   "execution_count": 68,
   "id": "0d088c93-0e4c-4f83-973d-2fbda055d8a9",
   "metadata": {},
   "outputs": [],
   "source": [
    "fullmodel = xgb.XGBClassifier(tree_method='gpu_hist', use_label_encoder=False)"
   ]
  },
  {
   "cell_type": "code",
   "execution_count": 69,
   "id": "6d9f7557-9324-45be-8112-663fbd802b3f",
   "metadata": {},
   "outputs": [
    {
     "name": "stdout",
     "output_type": "stream",
     "text": [
      "[15:06:20] WARNING: C:/Users/Administrator/workspace/xgboost-win64_release_1.5.1/src/learner.cc:1115: Starting in XGBoost 1.3.0, the default evaluation metric used with the objective 'multi:softprob' was changed from 'merror' to 'mlogloss'. Explicitly set eval_metric if you'd like to restore the old behavior.\n"
     ]
    },
    {
     "data": {
      "text/plain": [
       "XGBClassifier(base_score=0.5, booster='gbtree', colsample_bylevel=1,\n",
       "              colsample_bynode=1, colsample_bytree=1, enable_categorical=False,\n",
       "              gamma=0, gpu_id=0, importance_type=None,\n",
       "              interaction_constraints='', learning_rate=0.300000012,\n",
       "              max_delta_step=0, max_depth=6, min_child_weight=1, missing=nan,\n",
       "              monotone_constraints='()', n_estimators=100, n_jobs=16,\n",
       "              num_parallel_tree=1, objective='multi:softprob', predictor='auto',\n",
       "              random_state=0, reg_alpha=0, reg_lambda=1, scale_pos_weight=None,\n",
       "              subsample=1, tree_method='gpu_hist', use_label_encoder=False,\n",
       "              validate_parameters=1, verbosity=None)"
      ]
     },
     "execution_count": 69,
     "metadata": {},
     "output_type": "execute_result"
    }
   ],
   "source": [
    "fullmodel.fit(XX_train, yy_train)"
   ]
  },
  {
   "cell_type": "code",
   "execution_count": 70,
   "id": "2b8092a6-dcae-498a-bd85-43fda59d7a2d",
   "metadata": {},
   "outputs": [],
   "source": [
    "fullpred = fullmodel.predict(XX_val)"
   ]
  },
  {
   "cell_type": "code",
   "execution_count": 71,
   "id": "9e650b7c-21d0-4a08-b1e7-093a06736078",
   "metadata": {},
   "outputs": [
    {
     "name": "stdout",
     "output_type": "stream",
     "text": [
      "              precision    recall  f1-score   support\n",
      "\n",
      "         CpG       0.36      0.37      0.37       201\n",
      "         FLA       0.25      0.21      0.23       140\n",
      "         FSL       0.42      0.39      0.40       203\n",
      "         LPS       0.48      0.52      0.50       166\n",
      "         P3K       0.42      0.41      0.42       158\n",
      "         PIC       0.65      0.66      0.66       119\n",
      "         R84       0.80      0.84      0.82       291\n",
      "         TNF       0.51      0.49      0.50       160\n",
      "\n",
      "    accuracy                           0.51      1438\n",
      "   macro avg       0.49      0.49      0.49      1438\n",
      "weighted avg       0.51      0.51      0.51      1438\n",
      "\n"
     ]
    }
   ],
   "source": [
    "fullcr = classification_report(yy_val, fullpred, target_names=ligands)\n",
    "print(fullcr)"
   ]
  },
  {
   "cell_type": "markdown",
   "id": "f20429ae-5c37-4778-96cb-e47a27104141",
   "metadata": {},
   "source": [
    "## pretty abysmal accuracy when fit on these 10 features"
   ]
  },
  {
   "cell_type": "code",
   "execution_count": 72,
   "id": "6cf15776-d905-40f5-9cea-693a7e9a988c",
   "metadata": {},
   "outputs": [
    {
     "data": {
      "text/plain": [
       "['time_series_2',\n",
       " 'integrals_15',\n",
       " 'fold_change_5',\n",
       " 'oscpower',\n",
       " 'integrals_pos_8',\n",
       " 'time_series_8',\n",
       " 'fold_change_24',\n",
       " 'trough2peak_1',\n",
       " 'integrals_17',\n",
       " 'fold_change_20']"
      ]
     },
     "execution_count": 72,
     "metadata": {},
     "output_type": "execute_result"
    }
   ],
   "source": [
    "point2"
   ]
  },
  {
   "cell_type": "code",
   "execution_count": 74,
   "id": "36e53063-c910-45b4-b32a-d592032b098c",
   "metadata": {},
   "outputs": [
    {
     "data": {
      "text/plain": [
       "<AxesSubplot:>"
      ]
     },
     "execution_count": 74,
     "metadata": {},
     "output_type": "execute_result"
    },
    {
     "data": {
      "image/png": "[encoded data removed]",
      "text/plain": [
       "<Figure size 432x288 with 1 Axes>"
      ]
     },
     "metadata": {
      "needs_background": "light"
     },
     "output_type": "display_data"
    }
   ],
   "source": [
    "sns.barplot(x=model.feature_importances_[t1_feature_importance][20:50], y=t1_data.columns[t1_feature_importance][20:50])"
   ]
  },
  {
   "cell_type": "code",
   "execution_count": 75,
   "id": "caff18be-6d27-4b03-aa98-983a3a164763",
   "metadata": {},
   "outputs": [],
   "source": [
    "# i think its less about the specific feature and more about the actual timesteps"
   ]
  },
  {
   "cell_type": "code",
   "execution_count": 113,
   "id": "579ee210-c4a4-471f-bd7a-8105c452c83e",
   "metadata": {},
   "outputs": [],
   "source": [
    "a = t1_data.columns[t1_feature_importance][:60]\n",
    "b = t2_data.columns[t2_fi][:60]"
   ]
  },
  {
   "cell_type": "code",
   "execution_count": 114,
   "id": "6e4e3a07-2892-4d07-aed1-27a62eb39d96",
   "metadata": {},
   "outputs": [
    {
     "name": "stdout",
     "output_type": "stream",
     "text": [
      "7\n"
     ]
    }
   ],
   "source": [
    "count = 0\n",
    "k = []\n",
    "for i in range(len(a)):\n",
    "    for j in range(len(b)):\n",
    "        if a[i] == b[j]:\n",
    "            count += 1\n",
    "            k.append((a[i], (i, j)))\n",
    "print(count)"
   ]
  },
  {
   "cell_type": "code",
   "execution_count": 115,
   "id": "958ac939-f892-4078-8ce3-bd0f33c84e51",
   "metadata": {},
   "outputs": [
    {
     "data": {
      "text/plain": [
       "[('fold_change_5', (0, 45)),\n",
       " ('time_series_3', (3, 25)),\n",
       " ('derivatives_3', (25, 12)),\n",
       " ('peak2rms', (27, 34)),\n",
       " ('integrals_15', (30, 1)),\n",
       " ('time2HalfMaxIntegral', (47, 6)),\n",
       " ('derivatives_2', (57, 22))]"
      ]
     },
     "execution_count": 115,
     "metadata": {},
     "output_type": "execute_result"
    }
   ],
   "source": [
    "k"
   ]
  },
  {
   "cell_type": "markdown",
   "id": "d1bce897-37b8-417a-851d-21e4563fc387",
   "metadata": {},
   "source": [
    "## try fitting on these features?"
   ]
  },
  {
   "cell_type": "code",
   "execution_count": 5,
   "id": "a3d51064-7929-42db-87c4-e81fbc7dc17e",
   "metadata": {},
   "outputs": [],
   "source": [
    "f = ['fold_change_5', 'time_series_3', 'derivatives_3', 'peak2rms', 'integrals_15', 'derivatives_2']"
   ]
  },
  {
   "cell_type": "code",
   "execution_count": 6,
   "id": "f0e07855-142a-4f6d-a8ae-5a502143f4cc",
   "metadata": {},
   "outputs": [],
   "source": [
    "data = Data(load_dir, ligands, sheet_type, merge=True)"
   ]
  },
  {
   "cell_type": "code",
   "execution_count": 7,
   "id": "660ad7e9-3695-4570-8d0d-a15f45a1edc8",
   "metadata": {},
   "outputs": [],
   "source": [
    "X = data.loc[:, f].to_numpy()"
   ]
  },
  {
   "cell_type": "code",
   "execution_count": 8,
   "id": "b8d7e1d8-3a49-4d22-a70e-66ea48976dfc",
   "metadata": {},
   "outputs": [],
   "source": [
    "Y = data.iloc[:, [984]].to_numpy().reshape(-1, )"
   ]
  },
  {
   "cell_type": "code",
   "execution_count": 9,
   "id": "cb98f303-c353-4c11-9416-69f7ba219032",
   "metadata": {},
   "outputs": [],
   "source": [
    "X_train, X_val, y_train, y_val = train_test_split(X, Y, test_size=0.1)"
   ]
  },
  {
   "cell_type": "code",
   "execution_count": 11,
   "id": "962652e5-7c73-4d17-b626-b0bf5cd533f4",
   "metadata": {},
   "outputs": [],
   "source": [
    "model = xgb.XGBClassifier(tree_method='gpu_hist', use_label_encoder=False)"
   ]
  },
  {
   "cell_type": "code",
   "execution_count": 12,
   "id": "1b64db0e-3636-4da2-ae87-845038344ef9",
   "metadata": {},
   "outputs": [
    {
     "name": "stdout",
     "output_type": "stream",
     "text": [
      "[16:18:59] WARNING: C:/Users/Administrator/workspace/xgboost-win64_release_1.5.1/src/learner.cc:1115: Starting in XGBoost 1.3.0, the default evaluation metric used with the objective 'multi:softprob' was changed from 'merror' to 'mlogloss'. Explicitly set eval_metric if you'd like to restore the old behavior.\n"
     ]
    },
    {
     "data": {
      "text/plain": [
       "XGBClassifier(base_score=0.5, booster='gbtree', colsample_bylevel=1,\n",
       "              colsample_bynode=1, colsample_bytree=1, enable_categorical=False,\n",
       "              gamma=0, gpu_id=0, importance_type=None,\n",
       "              interaction_constraints='', learning_rate=0.300000012,\n",
       "              max_delta_step=0, max_depth=6, min_child_weight=1, missing=nan,\n",
       "              monotone_constraints='()', n_estimators=100, n_jobs=16,\n",
       "              num_parallel_tree=1, objective='multi:softprob', predictor='auto',\n",
       "              random_state=0, reg_alpha=0, reg_lambda=1, scale_pos_weight=None,\n",
       "              subsample=1, tree_method='gpu_hist', use_label_encoder=False,\n",
       "              validate_parameters=1, verbosity=None)"
      ]
     },
     "execution_count": 12,
     "metadata": {},
     "output_type": "execute_result"
    }
   ],
   "source": [
    "model.fit(X_train, y_train)"
   ]
  },
  {
   "cell_type": "code",
   "execution_count": 15,
   "id": "ffc49865-e344-4367-936a-01f09c89a3a0",
   "metadata": {},
   "outputs": [],
   "source": [
    "pred = model.predict(X_val)"
   ]
  },
  {
   "cell_type": "code",
   "execution_count": 16,
   "id": "d444b808-8215-49c4-9d04-e6c4a86ea147",
   "metadata": {},
   "outputs": [],
   "source": [
    "cr = classification_report(y_val, pred, target_names=ligands)"
   ]
  },
  {
   "cell_type": "code",
   "execution_count": 17,
   "id": "1078e79e-5ca8-448a-9793-518a97bb6fdb",
   "metadata": {},
   "outputs": [
    {
     "name": "stdout",
     "output_type": "stream",
     "text": [
      "              precision    recall  f1-score   support\n",
      "\n",
      "         CpG       0.34      0.46      0.39       182\n",
      "         FLA       0.42      0.28      0.33       167\n",
      "         FSL       0.47      0.37      0.42       201\n",
      "         LPS       0.41      0.43      0.42       175\n",
      "         P3K       0.53      0.46      0.49       155\n",
      "         PIC       0.54      0.68      0.60       141\n",
      "         R84       0.79      0.81      0.80       248\n",
      "         TNF       0.59      0.59      0.59       169\n",
      "\n",
      "    accuracy                           0.52      1438\n",
      "   macro avg       0.51      0.51      0.51      1438\n",
      "weighted avg       0.52      0.52      0.52      1438\n",
      "\n"
     ]
    }
   ],
   "source": [
    "print(cr)"
   ]
  },
  {
   "cell_type": "code",
   "execution_count": null,
   "id": "01acbf22-d5d6-4586-8283-220b8307ae1b",
   "metadata": {},
   "outputs": [],
   "source": []
  }
 ],
 "metadata": {
  "kernelspec": {
   "display_name": "Python 3 (ipykernel)",
   "language": "python",
   "name": "python3"
  },
  "language_info": {
   "codemirror_mode": {
    "name": "ipython",
    "version": 3
   },
   "file_extension": ".py",
   "mimetype": "text/x-python",
   "name": "python",
   "nbconvert_exporter": "python",
   "pygments_lexer": "ipython3",
   "version": "3.8.12"
  }
 },
 "nbformat": 4,
 "nbformat_minor": 5
}
