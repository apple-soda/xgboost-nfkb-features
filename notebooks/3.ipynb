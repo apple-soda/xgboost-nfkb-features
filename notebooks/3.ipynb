{
 "cells": [
  {
   "cell_type": "code",
   "execution_count": 1,
   "id": "4c9c2eb2-94fa-4de3-843f-8e5a3f3d6027",
   "metadata": {},
   "outputs": [],
   "source": [
    "import sys\n",
    "sys.path.append('..')"
   ]
  },
  {
   "cell_type": "code",
   "execution_count": 2,
   "id": "47ab7899-f759-4ff2-b01c-7981fe9a3a17",
   "metadata": {},
   "outputs": [],
   "source": [
    "from core.dataset import *\n",
    "import seaborn as sns\n",
    "import numpy as np\n",
    "import pandas as pd\n",
    "import xgboost as xgb\n",
    "from sklearn.model_selection import train_test_split\n",
    "import seaborn as sns"
   ]
  },
  {
   "cell_type": "code",
   "execution_count": 3,
   "id": "eedc99d1-ba44-4f82-8050-a6495e17e835",
   "metadata": {},
   "outputs": [],
   "source": [
    "load_dir = 'D:/Data/hoffmanlab/featureselection/data/'\n",
    "ligands = ['CpG', 'FLA', 'FSL', 'LPS', 'P3K', 'PIC', 'R84', 'TNF']\n",
    "sheet_type = 'am'"
   ]
  },
  {
   "cell_type": "code",
   "execution_count": 4,
   "id": "9c86c5d7-e020-4f48-bc0d-85fe69f5437e",
   "metadata": {},
   "outputs": [],
   "source": [
    "dataset = Data(load_dir, ligands, sheet_type, merge=True, numpy=False)"
   ]
  },
  {
   "cell_type": "code",
   "execution_count": 5,
   "id": "791f6dd1-5b68-4d94-86d4-a1a21df8e1e1",
   "metadata": {},
   "outputs": [],
   "source": [
    "cleaned_data = dataset.fillna(0)"
   ]
  },
  {
   "cell_type": "code",
   "execution_count": 6,
   "id": "cbdd1c80-37e9-4eb1-b960-eeb84e7eb2f5",
   "metadata": {},
   "outputs": [
    {
     "data": {
      "text/plain": [
       "0"
      ]
     },
     "execution_count": 6,
     "metadata": {},
     "output_type": "execute_result"
    }
   ],
   "source": [
    "cleaned_data.isna().sum().sum()"
   ]
  },
  {
   "cell_type": "code",
   "execution_count": 7,
   "id": "e4bbcd5f-d0cb-499f-925d-91344d143967",
   "metadata": {},
   "outputs": [
    {
     "data": {
      "text/plain": [
       "(14376, 985)"
      ]
     },
     "execution_count": 7,
     "metadata": {},
     "output_type": "execute_result"
    }
   ],
   "source": [
    "cleaned_data.shape"
   ]
  },
  {
   "cell_type": "code",
   "execution_count": 8,
   "id": "c5e42a26-6a8e-4d8d-a965-fc689fd9c4fb",
   "metadata": {},
   "outputs": [
    {
     "data": {
      "text/plain": [
       "0       0\n",
       "1       0\n",
       "2       0\n",
       "3       0\n",
       "4       0\n",
       "       ..\n",
       "1597    7\n",
       "1598    7\n",
       "1599    7\n",
       "1600    7\n",
       "1601    7\n",
       "Name: 0, Length: 14376, dtype: int32"
      ]
     },
     "execution_count": 8,
     "metadata": {},
     "output_type": "execute_result"
    }
   ],
   "source": [
    "cleaned_data.iloc[:, 984]"
   ]
  },
  {
   "cell_type": "code",
   "execution_count": 9,
   "id": "0b174085-c1c9-424c-bb57-5c258b06c7d9",
   "metadata": {},
   "outputs": [],
   "source": [
    "X = cleaned_data.iloc[:, [i for i in range(984)]]\n",
    "y = cleaned_data.iloc[:, 984]"
   ]
  },
  {
   "cell_type": "code",
   "execution_count": 10,
   "id": "f5ba0c2c-3f38-49bb-8613-ce27fc68a473",
   "metadata": {},
   "outputs": [
    {
     "data": {
      "text/plain": [
       "0"
      ]
     },
     "execution_count": 10,
     "metadata": {},
     "output_type": "execute_result"
    }
   ],
   "source": [
    "X.isna().sum().sum()"
   ]
  },
  {
   "cell_type": "code",
   "execution_count": 11,
   "id": "ae904822-a358-424c-b149-2f8eb21e971e",
   "metadata": {},
   "outputs": [
    {
     "data": {
      "text/plain": [
       "0"
      ]
     },
     "execution_count": 11,
     "metadata": {},
     "output_type": "execute_result"
    }
   ],
   "source": [
    "y.isna().sum().sum()"
   ]
  },
  {
   "cell_type": "code",
   "execution_count": 12,
   "id": "72849fb4-d591-463b-9d6e-ca89a24629d0",
   "metadata": {},
   "outputs": [],
   "source": [
    "X_train, X_val, y_train, y_val = train_test_split(X, y, test_size=0.1, random_state=42)"
   ]
  },
  {
   "cell_type": "code",
   "execution_count": 13,
   "id": "a2d91222-2ec3-4098-90a9-d60b3a248920",
   "metadata": {},
   "outputs": [],
   "source": [
    "from sklearn.linear_model import LogisticRegression"
   ]
  },
  {
   "cell_type": "code",
   "execution_count": 14,
   "id": "88aecf81-7b06-4455-a226-4c1558acf006",
   "metadata": {},
   "outputs": [],
   "source": [
    "model = LogisticRegression()"
   ]
  },
  {
   "cell_type": "markdown",
   "id": "0d5851c6-c349-45bc-a8f2-5e289cffc0a6",
   "metadata": {},
   "source": [
    "### for logistic regression:\n",
    "* need to interpolate/remove NaNs"
   ]
  },
  {
   "cell_type": "code",
   "execution_count": 15,
   "id": "47615f26-866e-43ed-8325-a601c9179b30",
   "metadata": {},
   "outputs": [
    {
     "name": "stderr",
     "output_type": "stream",
     "text": [
      "C:\\Users\\minha\\miniconda3\\envs\\peep\\lib\\site-packages\\sklearn\\linear_model\\_logistic.py:814: ConvergenceWarning: lbfgs failed to converge (status=1):\n",
      "STOP: TOTAL NO. of ITERATIONS REACHED LIMIT.\n",
      "\n",
      "Increase the number of iterations (max_iter) or scale the data as shown in:\n",
      "    https://scikit-learn.org/stable/modules/preprocessing.html\n",
      "Please also refer to the documentation for alternative solver options:\n",
      "    https://scikit-learn.org/stable/modules/linear_model.html#logistic-regression\n",
      "  n_iter_i = _check_optimize_result(\n"
     ]
    },
    {
     "data": {
      "text/plain": [
       "LogisticRegression()"
      ]
     },
     "execution_count": 15,
     "metadata": {},
     "output_type": "execute_result"
    }
   ],
   "source": [
    "model.fit(X_train, y_train)"
   ]
  },
  {
   "cell_type": "code",
   "execution_count": 16,
   "id": "d85bfa2f-ffa5-4e7b-964e-f546bd21b613",
   "metadata": {},
   "outputs": [],
   "source": [
    "pred = model.predict(X_val)"
   ]
  },
  {
   "cell_type": "code",
   "execution_count": 17,
   "id": "a42bdcea-e0a5-437c-bc59-9a5b83d3728f",
   "metadata": {},
   "outputs": [],
   "source": [
    "y_val = np.array(y_val)"
   ]
  },
  {
   "cell_type": "code",
   "execution_count": 18,
   "id": "e1d4f3ed-8d76-4ac8-9c9c-76d248d82254",
   "metadata": {},
   "outputs": [
    {
     "name": "stdout",
     "output_type": "stream",
     "text": [
      "0.5104311543810849\n"
     ]
    }
   ],
   "source": [
    "count = 0\n",
    "for y_pred, y_true in zip(pred, y_val):\n",
    "    if y_pred == y_true:\n",
    "        count += 1\n",
    "print(count/len(y_val))"
   ]
  },
  {
   "cell_type": "code",
   "execution_count": 19,
   "id": "77955dc3-2fc3-4431-b0fb-712be40253cd",
   "metadata": {},
   "outputs": [
    {
     "data": {
      "text/plain": [
       "(8, 984)"
      ]
     },
     "execution_count": 19,
     "metadata": {},
     "output_type": "execute_result"
    }
   ],
   "source": [
    "model.coef_.shape"
   ]
  },
  {
   "cell_type": "markdown",
   "id": "349040b3-01e2-42cb-a039-9e844f3003c4",
   "metadata": {},
   "source": [
    "### 8 classes, different set of coefficients for each one, how to generalize them to one set of feature importance?"
   ]
  },
  {
   "cell_type": "code",
   "execution_count": 114,
   "id": "8bf7a616-ef57-4472-84f1-e0516f930f7d",
   "metadata": {},
   "outputs": [],
   "source": [
    "coefficients = []\n",
    "for i in model.coef_:\n",
    "    cdf = pd.DataFrame(i, X.columns, columns=['Coefficients'])\n",
    "    coefficients.append(cdf)"
   ]
  },
  {
   "cell_type": "code",
   "execution_count": 115,
   "id": "91fdf049-1df9-4c01-85c1-b0cc741c9339",
   "metadata": {},
   "outputs": [
    {
     "data": {
      "text/html": [
       "<div>\n",
       "<style scoped>\n",
       "    .dataframe tbody tr th:only-of-type {\n",
       "        vertical-align: middle;\n",
       "    }\n",
       "\n",
       "    .dataframe tbody tr th {\n",
       "        vertical-align: top;\n",
       "    }\n",
       "\n",
       "    .dataframe thead th {\n",
       "        text-align: right;\n",
       "    }\n",
       "</style>\n",
       "<table border=\"1\" class=\"dataframe\">\n",
       "  <thead>\n",
       "    <tr style=\"text-align: right;\">\n",
       "      <th></th>\n",
       "      <th>Coefficients</th>\n",
       "    </tr>\n",
       "  </thead>\n",
       "  <tbody>\n",
       "    <tr>\n",
       "      <th>time_series_1</th>\n",
       "      <td>0.000426</td>\n",
       "    </tr>\n",
       "    <tr>\n",
       "      <th>time_series_2</th>\n",
       "      <td>-0.002988</td>\n",
       "    </tr>\n",
       "    <tr>\n",
       "      <th>time_series_3</th>\n",
       "      <td>-0.008587</td>\n",
       "    </tr>\n",
       "    <tr>\n",
       "      <th>time_series_4</th>\n",
       "      <td>-0.004772</td>\n",
       "    </tr>\n",
       "    <tr>\n",
       "      <th>time_series_5</th>\n",
       "      <td>-0.000211</td>\n",
       "    </tr>\n",
       "    <tr>\n",
       "      <th>...</th>\n",
       "      <td>...</td>\n",
       "    </tr>\n",
       "    <tr>\n",
       "      <th>fold_change_96</th>\n",
       "      <td>0.000578</td>\n",
       "    </tr>\n",
       "    <tr>\n",
       "      <th>fold_change_97</th>\n",
       "      <td>0.000636</td>\n",
       "    </tr>\n",
       "    <tr>\n",
       "      <th>fold_change_98</th>\n",
       "      <td>0.000595</td>\n",
       "    </tr>\n",
       "    <tr>\n",
       "      <th>max_fold_change</th>\n",
       "      <td>0.000550</td>\n",
       "    </tr>\n",
       "    <tr>\n",
       "      <th>max_value</th>\n",
       "      <td>0.002357</td>\n",
       "    </tr>\n",
       "  </tbody>\n",
       "</table>\n",
       "<p>984 rows × 1 columns</p>\n",
       "</div>"
      ],
      "text/plain": [
       "                 Coefficients\n",
       "time_series_1        0.000426\n",
       "time_series_2       -0.002988\n",
       "time_series_3       -0.008587\n",
       "time_series_4       -0.004772\n",
       "time_series_5       -0.000211\n",
       "...                       ...\n",
       "fold_change_96       0.000578\n",
       "fold_change_97       0.000636\n",
       "fold_change_98       0.000595\n",
       "max_fold_change      0.000550\n",
       "max_value            0.002357\n",
       "\n",
       "[984 rows x 1 columns]"
      ]
     },
     "execution_count": 115,
     "metadata": {},
     "output_type": "execute_result"
    }
   ],
   "source": [
    "coefficients[0]"
   ]
  },
  {
   "cell_type": "code",
   "execution_count": 116,
   "id": "127dbd47-c657-4e72-ba85-6244a4d4f93b",
   "metadata": {},
   "outputs": [],
   "source": [
    "sorted_CpG_coefficients = coefficients[0].sort_values(by=['Coefficients'])"
   ]
  },
  {
   "cell_type": "code",
   "execution_count": 117,
   "id": "b3536a97-2691-4491-9587-429e69502937",
   "metadata": {},
   "outputs": [
    {
     "data": {
      "text/html": [
       "<div>\n",
       "<style scoped>\n",
       "    .dataframe tbody tr th:only-of-type {\n",
       "        vertical-align: middle;\n",
       "    }\n",
       "\n",
       "    .dataframe tbody tr th {\n",
       "        vertical-align: top;\n",
       "    }\n",
       "\n",
       "    .dataframe thead th {\n",
       "        text-align: right;\n",
       "    }\n",
       "</style>\n",
       "<table border=\"1\" class=\"dataframe\">\n",
       "  <thead>\n",
       "    <tr style=\"text-align: right;\">\n",
       "      <th></th>\n",
       "      <th>Coefficients</th>\n",
       "    </tr>\n",
       "  </thead>\n",
       "  <tbody>\n",
       "    <tr>\n",
       "      <th>derivatives_1</th>\n",
       "      <td>-0.048896</td>\n",
       "    </tr>\n",
       "    <tr>\n",
       "      <th>ipt_1</th>\n",
       "      <td>-0.015126</td>\n",
       "    </tr>\n",
       "    <tr>\n",
       "      <th>derivatives_13</th>\n",
       "      <td>-0.012656</td>\n",
       "    </tr>\n",
       "    <tr>\n",
       "      <th>derivatives_14</th>\n",
       "      <td>-0.012223</td>\n",
       "    </tr>\n",
       "    <tr>\n",
       "      <th>derivatives_12</th>\n",
       "      <td>-0.010847</td>\n",
       "    </tr>\n",
       "    <tr>\n",
       "      <th>...</th>\n",
       "      <td>...</td>\n",
       "    </tr>\n",
       "    <tr>\n",
       "      <th>derivatives_7</th>\n",
       "      <td>0.013674</td>\n",
       "    </tr>\n",
       "    <tr>\n",
       "      <th>derivatives_8</th>\n",
       "      <td>0.015789</td>\n",
       "    </tr>\n",
       "    <tr>\n",
       "      <th>derivatives_5</th>\n",
       "      <td>0.021471</td>\n",
       "    </tr>\n",
       "    <tr>\n",
       "      <th>derivatives_4</th>\n",
       "      <td>0.039600</td>\n",
       "    </tr>\n",
       "    <tr>\n",
       "      <th>derivatives_3</th>\n",
       "      <td>0.045264</td>\n",
       "    </tr>\n",
       "  </tbody>\n",
       "</table>\n",
       "<p>984 rows × 1 columns</p>\n",
       "</div>"
      ],
      "text/plain": [
       "                Coefficients\n",
       "derivatives_1      -0.048896\n",
       "ipt_1              -0.015126\n",
       "derivatives_13     -0.012656\n",
       "derivatives_14     -0.012223\n",
       "derivatives_12     -0.010847\n",
       "...                      ...\n",
       "derivatives_7       0.013674\n",
       "derivatives_8       0.015789\n",
       "derivatives_5       0.021471\n",
       "derivatives_4       0.039600\n",
       "derivatives_3       0.045264\n",
       "\n",
       "[984 rows x 1 columns]"
      ]
     },
     "execution_count": 117,
     "metadata": {},
     "output_type": "execute_result"
    }
   ],
   "source": [
    "sorted_CpG_coefficients"
   ]
  },
  {
   "cell_type": "code",
   "execution_count": 118,
   "id": "a2518f59-fdcf-4a5e-91ad-c20f43608181",
   "metadata": {},
   "outputs": [],
   "source": [
    "most_important_features = sorted_CpG_coefficients[984 - 7:]"
   ]
  },
  {
   "cell_type": "code",
   "execution_count": 119,
   "id": "cc5d10eb-17da-4dc9-8fad-f6f52ac7c733",
   "metadata": {},
   "outputs": [
    {
     "data": {
      "text/html": [
       "<div>\n",
       "<style scoped>\n",
       "    .dataframe tbody tr th:only-of-type {\n",
       "        vertical-align: middle;\n",
       "    }\n",
       "\n",
       "    .dataframe tbody tr th {\n",
       "        vertical-align: top;\n",
       "    }\n",
       "\n",
       "    .dataframe thead th {\n",
       "        text-align: right;\n",
       "    }\n",
       "</style>\n",
       "<table border=\"1\" class=\"dataframe\">\n",
       "  <thead>\n",
       "    <tr style=\"text-align: right;\">\n",
       "      <th></th>\n",
       "      <th>valley_times_2</th>\n",
       "      <th>pk1_width</th>\n",
       "      <th>derivatives_7</th>\n",
       "      <th>derivatives_8</th>\n",
       "      <th>derivatives_5</th>\n",
       "      <th>derivatives_4</th>\n",
       "      <th>derivatives_3</th>\n",
       "    </tr>\n",
       "  </thead>\n",
       "  <tbody>\n",
       "    <tr>\n",
       "      <th>0</th>\n",
       "      <td>25</td>\n",
       "      <td>6.000000</td>\n",
       "      <td>3.672079</td>\n",
       "      <td>6.661474</td>\n",
       "      <td>2.719529</td>\n",
       "      <td>0.000000</td>\n",
       "      <td>-1.372320</td>\n",
       "    </tr>\n",
       "    <tr>\n",
       "      <th>1</th>\n",
       "      <td>34</td>\n",
       "      <td>3.000000</td>\n",
       "      <td>6.175272</td>\n",
       "      <td>7.407052</td>\n",
       "      <td>-0.894742</td>\n",
       "      <td>-0.894742</td>\n",
       "      <td>-0.297270</td>\n",
       "    </tr>\n",
       "    <tr>\n",
       "      <th>2</th>\n",
       "      <td>18</td>\n",
       "      <td>7.000000</td>\n",
       "      <td>4.101602</td>\n",
       "      <td>4.051103</td>\n",
       "      <td>0.300717</td>\n",
       "      <td>0.300717</td>\n",
       "      <td>-0.229325</td>\n",
       "    </tr>\n",
       "    <tr>\n",
       "      <th>3</th>\n",
       "      <td>25</td>\n",
       "      <td>3.000000</td>\n",
       "      <td>-1.059758</td>\n",
       "      <td>-3.091504</td>\n",
       "      <td>-2.726745</td>\n",
       "      <td>0.000000</td>\n",
       "      <td>10.026322</td>\n",
       "    </tr>\n",
       "    <tr>\n",
       "      <th>4</th>\n",
       "      <td>33</td>\n",
       "      <td>7.000000</td>\n",
       "      <td>6.134909</td>\n",
       "      <td>9.178994</td>\n",
       "      <td>3.697769</td>\n",
       "      <td>1.299437</td>\n",
       "      <td>0.677397</td>\n",
       "    </tr>\n",
       "    <tr>\n",
       "      <th>...</th>\n",
       "      <td>...</td>\n",
       "      <td>...</td>\n",
       "      <td>...</td>\n",
       "      <td>...</td>\n",
       "      <td>...</td>\n",
       "      <td>...</td>\n",
       "      <td>...</td>\n",
       "    </tr>\n",
       "    <tr>\n",
       "      <th>1597</th>\n",
       "      <td>21</td>\n",
       "      <td>4.000000</td>\n",
       "      <td>-0.638243</td>\n",
       "      <td>-2.572907</td>\n",
       "      <td>-1.896395</td>\n",
       "      <td>-1.436777</td>\n",
       "      <td>-2.647025</td>\n",
       "    </tr>\n",
       "    <tr>\n",
       "      <th>1598</th>\n",
       "      <td>20</td>\n",
       "      <td>3.000000</td>\n",
       "      <td>-5.926792</td>\n",
       "      <td>-8.389690</td>\n",
       "      <td>14.079013</td>\n",
       "      <td>1.006600</td>\n",
       "      <td>0.000000</td>\n",
       "    </tr>\n",
       "    <tr>\n",
       "      <th>1599</th>\n",
       "      <td>18</td>\n",
       "      <td>4.000000</td>\n",
       "      <td>0.000000</td>\n",
       "      <td>0.415806</td>\n",
       "      <td>0.466846</td>\n",
       "      <td>-1.262564</td>\n",
       "      <td>0.000000</td>\n",
       "    </tr>\n",
       "    <tr>\n",
       "      <th>1600</th>\n",
       "      <td>19</td>\n",
       "      <td>5.885976</td>\n",
       "      <td>-11.737464</td>\n",
       "      <td>-14.030435</td>\n",
       "      <td>13.468512</td>\n",
       "      <td>9.344059</td>\n",
       "      <td>-0.431694</td>\n",
       "    </tr>\n",
       "    <tr>\n",
       "      <th>1601</th>\n",
       "      <td>26</td>\n",
       "      <td>4.000000</td>\n",
       "      <td>0.841776</td>\n",
       "      <td>0.261294</td>\n",
       "      <td>0.613693</td>\n",
       "      <td>0.523596</td>\n",
       "      <td>2.234957</td>\n",
       "    </tr>\n",
       "  </tbody>\n",
       "</table>\n",
       "<p>14376 rows × 7 columns</p>\n",
       "</div>"
      ],
      "text/plain": [
       "      valley_times_2  pk1_width  derivatives_7  derivatives_8  derivatives_5  \\\n",
       "0                 25   6.000000       3.672079       6.661474       2.719529   \n",
       "1                 34   3.000000       6.175272       7.407052      -0.894742   \n",
       "2                 18   7.000000       4.101602       4.051103       0.300717   \n",
       "3                 25   3.000000      -1.059758      -3.091504      -2.726745   \n",
       "4                 33   7.000000       6.134909       9.178994       3.697769   \n",
       "...              ...        ...            ...            ...            ...   \n",
       "1597              21   4.000000      -0.638243      -2.572907      -1.896395   \n",
       "1598              20   3.000000      -5.926792      -8.389690      14.079013   \n",
       "1599              18   4.000000       0.000000       0.415806       0.466846   \n",
       "1600              19   5.885976     -11.737464     -14.030435      13.468512   \n",
       "1601              26   4.000000       0.841776       0.261294       0.613693   \n",
       "\n",
       "      derivatives_4  derivatives_3  \n",
       "0          0.000000      -1.372320  \n",
       "1         -0.894742      -0.297270  \n",
       "2          0.300717      -0.229325  \n",
       "3          0.000000      10.026322  \n",
       "4          1.299437       0.677397  \n",
       "...             ...            ...  \n",
       "1597      -1.436777      -2.647025  \n",
       "1598       1.006600       0.000000  \n",
       "1599      -1.262564       0.000000  \n",
       "1600       9.344059      -0.431694  \n",
       "1601       0.523596       2.234957  \n",
       "\n",
       "[14376 rows x 7 columns]"
      ]
     },
     "execution_count": 119,
     "metadata": {},
     "output_type": "execute_result"
    }
   ],
   "source": [
    "cleaned_data[most_important_features.index]"
   ]
  },
  {
   "cell_type": "markdown",
   "id": "1137efaf-cedd-4a43-91f8-2aca2fb3f98a",
   "metadata": {
    "tags": []
   },
   "source": [
    "### Fit sklearn and xgboost model with these 7 features, test accuracy?"
   ]
  },
  {
   "cell_type": "code",
   "execution_count": 120,
   "id": "cbf63d78-61fd-4f09-9fbc-9ef871056514",
   "metadata": {},
   "outputs": [],
   "source": [
    "df_most_important_features = cleaned_data[most_important_features.index]\n",
    "df_most_important_features = pd.concat([df_most_important_features, cleaned_data.iloc[:, [984]]], axis=1)"
   ]
  },
  {
   "cell_type": "code",
   "execution_count": 121,
   "id": "e7e56d4c-40be-41d0-bc55-1a935f841125",
   "metadata": {},
   "outputs": [
    {
     "data": {
      "text/html": [
       "<div>\n",
       "<style scoped>\n",
       "    .dataframe tbody tr th:only-of-type {\n",
       "        vertical-align: middle;\n",
       "    }\n",
       "\n",
       "    .dataframe tbody tr th {\n",
       "        vertical-align: top;\n",
       "    }\n",
       "\n",
       "    .dataframe thead th {\n",
       "        text-align: right;\n",
       "    }\n",
       "</style>\n",
       "<table border=\"1\" class=\"dataframe\">\n",
       "  <thead>\n",
       "    <tr style=\"text-align: right;\">\n",
       "      <th></th>\n",
       "      <th>valley_times_2</th>\n",
       "      <th>pk1_width</th>\n",
       "      <th>derivatives_7</th>\n",
       "      <th>derivatives_8</th>\n",
       "      <th>derivatives_5</th>\n",
       "      <th>derivatives_4</th>\n",
       "      <th>derivatives_3</th>\n",
       "      <th>0</th>\n",
       "    </tr>\n",
       "  </thead>\n",
       "  <tbody>\n",
       "    <tr>\n",
       "      <th>0</th>\n",
       "      <td>25</td>\n",
       "      <td>6.000000</td>\n",
       "      <td>3.672079</td>\n",
       "      <td>6.661474</td>\n",
       "      <td>2.719529</td>\n",
       "      <td>0.000000</td>\n",
       "      <td>-1.372320</td>\n",
       "      <td>0</td>\n",
       "    </tr>\n",
       "    <tr>\n",
       "      <th>1</th>\n",
       "      <td>34</td>\n",
       "      <td>3.000000</td>\n",
       "      <td>6.175272</td>\n",
       "      <td>7.407052</td>\n",
       "      <td>-0.894742</td>\n",
       "      <td>-0.894742</td>\n",
       "      <td>-0.297270</td>\n",
       "      <td>0</td>\n",
       "    </tr>\n",
       "    <tr>\n",
       "      <th>2</th>\n",
       "      <td>18</td>\n",
       "      <td>7.000000</td>\n",
       "      <td>4.101602</td>\n",
       "      <td>4.051103</td>\n",
       "      <td>0.300717</td>\n",
       "      <td>0.300717</td>\n",
       "      <td>-0.229325</td>\n",
       "      <td>0</td>\n",
       "    </tr>\n",
       "    <tr>\n",
       "      <th>3</th>\n",
       "      <td>25</td>\n",
       "      <td>3.000000</td>\n",
       "      <td>-1.059758</td>\n",
       "      <td>-3.091504</td>\n",
       "      <td>-2.726745</td>\n",
       "      <td>0.000000</td>\n",
       "      <td>10.026322</td>\n",
       "      <td>0</td>\n",
       "    </tr>\n",
       "    <tr>\n",
       "      <th>4</th>\n",
       "      <td>33</td>\n",
       "      <td>7.000000</td>\n",
       "      <td>6.134909</td>\n",
       "      <td>9.178994</td>\n",
       "      <td>3.697769</td>\n",
       "      <td>1.299437</td>\n",
       "      <td>0.677397</td>\n",
       "      <td>0</td>\n",
       "    </tr>\n",
       "    <tr>\n",
       "      <th>...</th>\n",
       "      <td>...</td>\n",
       "      <td>...</td>\n",
       "      <td>...</td>\n",
       "      <td>...</td>\n",
       "      <td>...</td>\n",
       "      <td>...</td>\n",
       "      <td>...</td>\n",
       "      <td>...</td>\n",
       "    </tr>\n",
       "    <tr>\n",
       "      <th>1597</th>\n",
       "      <td>21</td>\n",
       "      <td>4.000000</td>\n",
       "      <td>-0.638243</td>\n",
       "      <td>-2.572907</td>\n",
       "      <td>-1.896395</td>\n",
       "      <td>-1.436777</td>\n",
       "      <td>-2.647025</td>\n",
       "      <td>7</td>\n",
       "    </tr>\n",
       "    <tr>\n",
       "      <th>1598</th>\n",
       "      <td>20</td>\n",
       "      <td>3.000000</td>\n",
       "      <td>-5.926792</td>\n",
       "      <td>-8.389690</td>\n",
       "      <td>14.079013</td>\n",
       "      <td>1.006600</td>\n",
       "      <td>0.000000</td>\n",
       "      <td>7</td>\n",
       "    </tr>\n",
       "    <tr>\n",
       "      <th>1599</th>\n",
       "      <td>18</td>\n",
       "      <td>4.000000</td>\n",
       "      <td>0.000000</td>\n",
       "      <td>0.415806</td>\n",
       "      <td>0.466846</td>\n",
       "      <td>-1.262564</td>\n",
       "      <td>0.000000</td>\n",
       "      <td>7</td>\n",
       "    </tr>\n",
       "    <tr>\n",
       "      <th>1600</th>\n",
       "      <td>19</td>\n",
       "      <td>5.885976</td>\n",
       "      <td>-11.737464</td>\n",
       "      <td>-14.030435</td>\n",
       "      <td>13.468512</td>\n",
       "      <td>9.344059</td>\n",
       "      <td>-0.431694</td>\n",
       "      <td>7</td>\n",
       "    </tr>\n",
       "    <tr>\n",
       "      <th>1601</th>\n",
       "      <td>26</td>\n",
       "      <td>4.000000</td>\n",
       "      <td>0.841776</td>\n",
       "      <td>0.261294</td>\n",
       "      <td>0.613693</td>\n",
       "      <td>0.523596</td>\n",
       "      <td>2.234957</td>\n",
       "      <td>7</td>\n",
       "    </tr>\n",
       "  </tbody>\n",
       "</table>\n",
       "<p>14376 rows × 8 columns</p>\n",
       "</div>"
      ],
      "text/plain": [
       "      valley_times_2  pk1_width  derivatives_7  derivatives_8  derivatives_5  \\\n",
       "0                 25   6.000000       3.672079       6.661474       2.719529   \n",
       "1                 34   3.000000       6.175272       7.407052      -0.894742   \n",
       "2                 18   7.000000       4.101602       4.051103       0.300717   \n",
       "3                 25   3.000000      -1.059758      -3.091504      -2.726745   \n",
       "4                 33   7.000000       6.134909       9.178994       3.697769   \n",
       "...              ...        ...            ...            ...            ...   \n",
       "1597              21   4.000000      -0.638243      -2.572907      -1.896395   \n",
       "1598              20   3.000000      -5.926792      -8.389690      14.079013   \n",
       "1599              18   4.000000       0.000000       0.415806       0.466846   \n",
       "1600              19   5.885976     -11.737464     -14.030435      13.468512   \n",
       "1601              26   4.000000       0.841776       0.261294       0.613693   \n",
       "\n",
       "      derivatives_4  derivatives_3  0  \n",
       "0          0.000000      -1.372320  0  \n",
       "1         -0.894742      -0.297270  0  \n",
       "2          0.300717      -0.229325  0  \n",
       "3          0.000000      10.026322  0  \n",
       "4          1.299437       0.677397  0  \n",
       "...             ...            ... ..  \n",
       "1597      -1.436777      -2.647025  7  \n",
       "1598       1.006600       0.000000  7  \n",
       "1599      -1.262564       0.000000  7  \n",
       "1600       9.344059      -0.431694  7  \n",
       "1601       0.523596       2.234957  7  \n",
       "\n",
       "[14376 rows x 8 columns]"
      ]
     },
     "execution_count": 121,
     "metadata": {},
     "output_type": "execute_result"
    }
   ],
   "source": [
    "df_most_important_features"
   ]
  },
  {
   "cell_type": "code",
   "execution_count": 122,
   "id": "56921632-707d-4ed8-84c8-834f986571c4",
   "metadata": {},
   "outputs": [],
   "source": [
    "X2, y2 = df_most_important_features.iloc[:, [i for i in range(7)]], df_most_important_features.iloc[:, [7]]"
   ]
  },
  {
   "cell_type": "code",
   "execution_count": 123,
   "id": "d61bea41-2793-46b9-a067-6a6629c965fb",
   "metadata": {},
   "outputs": [],
   "source": [
    "X2_train, X2_val, y2_train, y2_val = train_test_split(X2, y2, test_size=0.1, random_state=42)"
   ]
  },
  {
   "cell_type": "code",
   "execution_count": 125,
   "id": "6e3a7ba7-015e-4b81-aa36-f00b5c7535dc",
   "metadata": {},
   "outputs": [],
   "source": [
    "y2_train = y2_train.to_numpy()\n",
    "y2_train = y2_train.reshape((-1, ))"
   ]
  },
  {
   "cell_type": "code",
   "execution_count": 127,
   "id": "37ff189a-3383-4882-8d0e-3423eb1e7363",
   "metadata": {},
   "outputs": [],
   "source": [
    "model2 = LogisticRegression()"
   ]
  },
  {
   "cell_type": "code",
   "execution_count": 128,
   "id": "9b184fc0-c01b-4ab6-93ef-65faae51af53",
   "metadata": {},
   "outputs": [
    {
     "name": "stderr",
     "output_type": "stream",
     "text": [
      "C:\\Users\\minha\\miniconda3\\envs\\peep\\lib\\site-packages\\sklearn\\linear_model\\_logistic.py:814: ConvergenceWarning: lbfgs failed to converge (status=1):\n",
      "STOP: TOTAL NO. of ITERATIONS REACHED LIMIT.\n",
      "\n",
      "Increase the number of iterations (max_iter) or scale the data as shown in:\n",
      "    https://scikit-learn.org/stable/modules/preprocessing.html\n",
      "Please also refer to the documentation for alternative solver options:\n",
      "    https://scikit-learn.org/stable/modules/linear_model.html#logistic-regression\n",
      "  n_iter_i = _check_optimize_result(\n"
     ]
    },
    {
     "data": {
      "text/plain": [
       "LogisticRegression()"
      ]
     },
     "execution_count": 128,
     "metadata": {},
     "output_type": "execute_result"
    }
   ],
   "source": [
    "model2.fit(X2_train, y2_train)"
   ]
  },
  {
   "cell_type": "code",
   "execution_count": 129,
   "id": "68f9b2ca-4e2c-4aba-b9db-dde01b2187b8",
   "metadata": {},
   "outputs": [],
   "source": [
    "pred = model2.predict(X2_val)"
   ]
  },
  {
   "cell_type": "markdown",
   "id": "a395fe81-1851-472d-bc93-972e631d7d1b",
   "metadata": {},
   "source": [
    "#### log reg model does not entirely agree with xgboost ensemble model, will look into this deeper"
   ]
  },
  {
   "cell_type": "code",
   "execution_count": 130,
   "id": "efb04555-f642-41ba-a537-f15c06df369f",
   "metadata": {},
   "outputs": [
    {
     "name": "stdout",
     "output_type": "stream",
     "text": [
      "0.3337969401947149\n"
     ]
    }
   ],
   "source": [
    "count = 0\n",
    "for y_pred, y_true in zip(pred, y2_val[0]):\n",
    "    if y_pred == y_true:\n",
    "        count += 1\n",
    "print(count / len(y2_val))"
   ]
  },
  {
   "cell_type": "code",
   "execution_count": 131,
   "id": "7706030b-34f6-4e99-9ed7-3760fb894cb6",
   "metadata": {},
   "outputs": [],
   "source": [
    "import xgboost as xgb"
   ]
  },
  {
   "cell_type": "code",
   "execution_count": 132,
   "id": "62e378ee-56a1-437c-8140-35f6bdab3d86",
   "metadata": {},
   "outputs": [],
   "source": [
    "model3 = xgb.XGBClassifier()"
   ]
  },
  {
   "cell_type": "code",
   "execution_count": 133,
   "id": "5866e01e-57e6-4e49-90e5-2c62528a488e",
   "metadata": {},
   "outputs": [
    {
     "name": "stderr",
     "output_type": "stream",
     "text": [
      "C:\\Users\\minha\\miniconda3\\envs\\peep\\lib\\site-packages\\xgboost\\sklearn.py:1224: UserWarning: The use of label encoder in XGBClassifier is deprecated and will be removed in a future release. To remove this warning, do the following: 1) Pass option use_label_encoder=False when constructing XGBClassifier object; and 2) Encode your labels (y) as integers starting with 0, i.e. 0, 1, 2, ..., [num_class - 1].\n",
      "  warnings.warn(label_encoder_deprecation_msg, UserWarning)\n"
     ]
    },
    {
     "name": "stdout",
     "output_type": "stream",
     "text": [
      "[14:54:03] WARNING: D:\\bld\\xgboost-split_1645118015404\\work\\src\\learner.cc:1115: Starting in XGBoost 1.3.0, the default evaluation metric used with the objective 'multi:softprob' was changed from 'merror' to 'mlogloss'. Explicitly set eval_metric if you'd like to restore the old behavior.\n"
     ]
    },
    {
     "data": {
      "text/plain": [
       "XGBClassifier(base_score=0.5, booster='gbtree', colsample_bylevel=1,\n",
       "              colsample_bynode=1, colsample_bytree=1, enable_categorical=False,\n",
       "              gamma=0, gpu_id=-1, importance_type=None,\n",
       "              interaction_constraints='', learning_rate=0.300000012,\n",
       "              max_delta_step=0, max_depth=6, min_child_weight=1, missing=nan,\n",
       "              monotone_constraints='()', n_estimators=100, n_jobs=16,\n",
       "              num_parallel_tree=1, objective='multi:softprob', predictor='auto',\n",
       "              random_state=0, reg_alpha=0, reg_lambda=1, scale_pos_weight=None,\n",
       "              subsample=1, tree_method='exact', validate_parameters=1,\n",
       "              verbosity=None)"
      ]
     },
     "execution_count": 133,
     "metadata": {},
     "output_type": "execute_result"
    }
   ],
   "source": [
    "model3.fit(X2_train, y2_train)"
   ]
  },
  {
   "cell_type": "code",
   "execution_count": 134,
   "id": "f1fd5ea8-f2cd-4e02-8f96-0006e15a1575",
   "metadata": {},
   "outputs": [],
   "source": [
    "pred = model3.predict(X2_val)"
   ]
  },
  {
   "cell_type": "code",
   "execution_count": 135,
   "id": "d2ffdc0d-07cb-4bde-aad3-8b2c6ad023de",
   "metadata": {},
   "outputs": [
    {
     "name": "stdout",
     "output_type": "stream",
     "text": [
      "0.40681502086230875\n"
     ]
    }
   ],
   "source": [
    "count = 0\n",
    "for y_pred, y_true in zip(pred, y2_val[0]):\n",
    "    if y_pred == y_true:\n",
    "        count += 1\n",
    "print(count / len(y2_val))"
   ]
  },
  {
   "cell_type": "markdown",
   "id": "697e6aea-0010-4042-b434-169885d65c38",
   "metadata": {},
   "source": [
    "### now try fitting log reg and xgboost on xgboost selected features"
   ]
  },
  {
   "cell_type": "code",
   "execution_count": 154,
   "id": "55ec2b97-2d4e-4cbb-9eab-7d81026c52cd",
   "metadata": {},
   "outputs": [],
   "source": [
    "extracted_features = [dataset['integrals_pos_38'], dataset['min_trough2peak'], dataset['integrals_pos_11'], dataset['integrals_40'],\n",
    "                      dataset['integrals_pos_14'], dataset['time_series_2'], dataset['integrals_pos_12']]"
   ]
  },
  {
   "cell_type": "code",
   "execution_count": 155,
   "id": "abd3416f-8677-4cf1-8dbf-8f0ce281842b",
   "metadata": {},
   "outputs": [],
   "source": [
    "data = pd.DataFrame()"
   ]
  },
  {
   "cell_type": "code",
   "execution_count": 156,
   "id": "51e2ecb5-b8c7-4981-bc83-9eb3faae93d2",
   "metadata": {},
   "outputs": [],
   "source": [
    "data = pd.concat(extracted_features, axis=1)\n",
    "labels = dataset.iloc[:, [984]]"
   ]
  },
  {
   "cell_type": "code",
   "execution_count": 157,
   "id": "43b0e0da-46c8-474d-8936-64e894972b05",
   "metadata": {},
   "outputs": [],
   "source": [
    "cleaned_data = data.fillna(0)"
   ]
  },
  {
   "cell_type": "code",
   "execution_count": 139,
   "id": "22a6c113-4202-4f8d-83d6-5bb6475f8039",
   "metadata": {},
   "outputs": [],
   "source": [
    "data = data.to_numpy()\n",
    "labels = labels.to_numpy()"
   ]
  },
  {
   "cell_type": "code",
   "execution_count": 140,
   "id": "bf50fa0b-2be1-490a-b99e-8748ac3fc9fb",
   "metadata": {},
   "outputs": [],
   "source": [
    "model4 = xgb.XGBClassifier()"
   ]
  },
  {
   "cell_type": "code",
   "execution_count": 141,
   "id": "2f80d10e-3b84-4c5a-a400-605350387ee1",
   "metadata": {},
   "outputs": [],
   "source": [
    "X3_train, X3_val, y3_train, y3_val = train_test_split(data, labels, test_size=0.1, random_state=42)"
   ]
  },
  {
   "cell_type": "code",
   "execution_count": 145,
   "id": "28edbff8-7593-4054-a660-5a0f97f0a8df",
   "metadata": {},
   "outputs": [],
   "source": [
    "y3_train, y3_val = y3_train.reshape((-1, )), y3_val.reshape((-1, ))"
   ]
  },
  {
   "cell_type": "code",
   "execution_count": 146,
   "id": "f4810cbf-50db-48af-ac45-875b7b440b89",
   "metadata": {},
   "outputs": [
    {
     "name": "stdout",
     "output_type": "stream",
     "text": [
      "[14:55:01] WARNING: D:\\bld\\xgboost-split_1645118015404\\work\\src\\learner.cc:1115: Starting in XGBoost 1.3.0, the default evaluation metric used with the objective 'multi:softprob' was changed from 'merror' to 'mlogloss'. Explicitly set eval_metric if you'd like to restore the old behavior.\n"
     ]
    },
    {
     "data": {
      "text/plain": [
       "XGBClassifier(base_score=0.5, booster='gbtree', colsample_bylevel=1,\n",
       "              colsample_bynode=1, colsample_bytree=1, enable_categorical=False,\n",
       "              gamma=0, gpu_id=-1, importance_type=None,\n",
       "              interaction_constraints='', learning_rate=0.300000012,\n",
       "              max_delta_step=0, max_depth=6, min_child_weight=1, missing=nan,\n",
       "              monotone_constraints='()', n_estimators=100, n_jobs=16,\n",
       "              num_parallel_tree=1, objective='multi:softprob', predictor='auto',\n",
       "              random_state=0, reg_alpha=0, reg_lambda=1, scale_pos_weight=None,\n",
       "              subsample=1, tree_method='exact', validate_parameters=1,\n",
       "              verbosity=None)"
      ]
     },
     "execution_count": 146,
     "metadata": {},
     "output_type": "execute_result"
    }
   ],
   "source": [
    "model4.fit(X3_train, y3_train)"
   ]
  },
  {
   "cell_type": "code",
   "execution_count": 147,
   "id": "a44fd091-6de0-45f2-bdbf-1f583cc5138e",
   "metadata": {},
   "outputs": [],
   "source": [
    "pred = model4.predict(X3_val)"
   ]
  },
  {
   "cell_type": "code",
   "execution_count": 150,
   "id": "04bf40fe-b924-47b3-a53b-19305e8f1d06",
   "metadata": {},
   "outputs": [
    {
     "name": "stdout",
     "output_type": "stream",
     "text": [
      "0.480528511821975\n"
     ]
    }
   ],
   "source": [
    "count = 0\n",
    "for y_pred, y_true in zip(pred, y3_val):\n",
    "    if y_pred == y_true:\n",
    "        count += 1\n",
    "print(count / len(y2_val))"
   ]
  },
  {
   "cell_type": "markdown",
   "id": "e602ad16-2043-4245-9628-0d92124f0717",
   "metadata": {},
   "source": [
    "### LogReg"
   ]
  },
  {
   "cell_type": "code",
   "execution_count": 151,
   "id": "f53b6f5a-b4af-4b9f-96a2-9551377c2d8b",
   "metadata": {},
   "outputs": [],
   "source": [
    "model5 = LogisticRegression()"
   ]
  },
  {
   "cell_type": "code",
   "execution_count": 162,
   "id": "79788228-9fc6-4036-8279-3a5f44d52442",
   "metadata": {},
   "outputs": [
    {
     "ename": "AttributeError",
     "evalue": "'numpy.ndarray' object has no attribute 'to_numpy'",
     "output_type": "error",
     "traceback": [
      "\u001b[1;31m---------------------------------------------------------------------------\u001b[0m",
      "\u001b[1;31mAttributeError\u001b[0m                            Traceback (most recent call last)",
      "Input \u001b[1;32mIn [162]\u001b[0m, in \u001b[0;36m<cell line: 1>\u001b[1;34m()\u001b[0m\n\u001b[1;32m----> 1\u001b[0m cleaned_data \u001b[38;5;241m=\u001b[39m \u001b[43mcleaned_data\u001b[49m\u001b[38;5;241;43m.\u001b[39;49m\u001b[43mto_numpy\u001b[49m()\n\u001b[0;32m      2\u001b[0m labels \u001b[38;5;241m=\u001b[39m labels\u001b[38;5;241m.\u001b[39mto_numpy()\n",
      "\u001b[1;31mAttributeError\u001b[0m: 'numpy.ndarray' object has no attribute 'to_numpy'"
     ]
    }
   ],
   "source": [
    "cleaned_data = cleaned_data.to_numpy()"
   ]
  },
  {
   "cell_type": "code",
   "execution_count": 163,
   "id": "3cd028a7-5cd5-4abb-b3b5-66b8b075094e",
   "metadata": {},
   "outputs": [],
   "source": [
    "labels = labels.to_numpy()"
   ]
  },
  {
   "cell_type": "code",
   "execution_count": 164,
   "id": "3473ae37-5b39-4c91-bb03-00bc72554a60",
   "metadata": {},
   "outputs": [],
   "source": [
    "X4_train, X4_val, y4_train, y4_val = train_test_split(cleaned_data, labels, test_size=0.1, random_state=42)"
   ]
  },
  {
   "cell_type": "code",
   "execution_count": 166,
   "id": "d3992e72-1850-4821-87f9-97075810fe90",
   "metadata": {},
   "outputs": [],
   "source": [
    "y4_train = y4_train.reshape((-1, ))\n",
    "y4_val = y4_val.reshape((-1, ))"
   ]
  },
  {
   "cell_type": "code",
   "execution_count": 167,
   "id": "a68d0876-feac-42be-83a3-f5999f3b35db",
   "metadata": {},
   "outputs": [
    {
     "name": "stderr",
     "output_type": "stream",
     "text": [
      "C:\\Users\\minha\\miniconda3\\envs\\peep\\lib\\site-packages\\sklearn\\linear_model\\_logistic.py:814: ConvergenceWarning: lbfgs failed to converge (status=1):\n",
      "STOP: TOTAL NO. of ITERATIONS REACHED LIMIT.\n",
      "\n",
      "Increase the number of iterations (max_iter) or scale the data as shown in:\n",
      "    https://scikit-learn.org/stable/modules/preprocessing.html\n",
      "Please also refer to the documentation for alternative solver options:\n",
      "    https://scikit-learn.org/stable/modules/linear_model.html#logistic-regression\n",
      "  n_iter_i = _check_optimize_result(\n"
     ]
    },
    {
     "data": {
      "text/plain": [
       "LogisticRegression()"
      ]
     },
     "execution_count": 167,
     "metadata": {},
     "output_type": "execute_result"
    }
   ],
   "source": [
    "model5.fit(X4_train, y4_train)"
   ]
  },
  {
   "cell_type": "code",
   "execution_count": 168,
   "id": "e797d6ea-6917-46f1-90e0-03d8d934678d",
   "metadata": {},
   "outputs": [],
   "source": [
    "pred = model5.predict(X4_val)"
   ]
  },
  {
   "cell_type": "code",
   "execution_count": 171,
   "id": "4e38579a-b8e5-42ac-802a-8844230534af",
   "metadata": {},
   "outputs": [
    {
     "name": "stdout",
     "output_type": "stream",
     "text": [
      "0.4478442280945758\n"
     ]
    }
   ],
   "source": [
    "count = 0\n",
    "for y_pred, y_true in zip(pred, y4_val):\n",
    "    if y_pred == y_true:\n",
    "        count += 1\n",
    "print(count / len(y4_val))"
   ]
  },
  {
   "cell_type": "markdown",
   "id": "da66900e-7885-4dec-9f36-ff7f00734138",
   "metadata": {
    "tags": []
   },
   "source": [
    "## Log Reg trained on XGBoost features are much more accurate... only ~6% accuracy difference"
   ]
  },
  {
   "cell_type": "markdown",
   "id": "bc99505f-439f-4bc1-b399-62930c5884f9",
   "metadata": {},
   "source": [
    "* "
   ]
  }
 ],
 "metadata": {
  "kernelspec": {
   "display_name": "Python 3 (ipykernel)",
   "language": "python",
   "name": "python3"
  },
  "language_info": {
   "codemirror_mode": {
    "name": "ipython",
    "version": 3
   },
   "file_extension": ".py",
   "mimetype": "text/x-python",
   "name": "python",
   "nbconvert_exporter": "python",
   "pygments_lexer": "ipython3",
   "version": "3.8.12"
  }
 },
 "nbformat": 4,
 "nbformat_minor": 5
}
