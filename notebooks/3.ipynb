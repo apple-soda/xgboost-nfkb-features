{
 "cells": [
  {
   "cell_type": "code",
   "execution_count": 13,
   "id": "4c9c2eb2-94fa-4de3-843f-8e5a3f3d6027",
   "metadata": {},
   "outputs": [],
   "source": [
    "import sys\n",
    "sys.path.append('..')"
   ]
  },
  {
   "cell_type": "code",
   "execution_count": 14,
   "id": "47ab7899-f759-4ff2-b01c-7981fe9a3a17",
   "metadata": {},
   "outputs": [],
   "source": [
    "from core.dataset import *\n",
    "import seaborn as sns\n",
    "import numpy as np\n",
    "import pandas as pd\n",
    "import xgboost as xgb\n",
    "from sklearn.model_selection import train_test_split\n",
    "import seaborn as sns"
   ]
  },
  {
   "cell_type": "code",
   "execution_count": 15,
   "id": "eedc99d1-ba44-4f82-8050-a6495e17e835",
   "metadata": {},
   "outputs": [],
   "source": [
    "load_dir = 'D:/Data/hoffmanlab/featureselection/data/'\n",
    "ligands = ['CpG', 'FLA', 'FSL', 'LPS', 'P3K', 'PIC', 'R84', 'TNF']\n",
    "sheet_type = 'am'"
   ]
  },
  {
   "cell_type": "code",
   "execution_count": 33,
   "id": "9c86c5d7-e020-4f48-bc0d-85fe69f5437e",
   "metadata": {},
   "outputs": [],
   "source": [
    "dataset = Data(load_dir, ligands, sheet_type, merge=True, numpy=False)"
   ]
  },
  {
   "cell_type": "code",
   "execution_count": 54,
   "id": "791f6dd1-5b68-4d94-86d4-a1a21df8e1e1",
   "metadata": {},
   "outputs": [],
   "source": [
    "cleaned_data = dataset.fillna(0)"
   ]
  },
  {
   "cell_type": "code",
   "execution_count": 55,
   "id": "cbdd1c80-37e9-4eb1-b960-eeb84e7eb2f5",
   "metadata": {},
   "outputs": [
    {
     "data": {
      "text/plain": [
       "0"
      ]
     },
     "execution_count": 55,
     "metadata": {},
     "output_type": "execute_result"
    }
   ],
   "source": [
    "cleaned_data.isna().sum().sum()"
   ]
  },
  {
   "cell_type": "code",
   "execution_count": 56,
   "id": "e4bbcd5f-d0cb-499f-925d-91344d143967",
   "metadata": {},
   "outputs": [
    {
     "data": {
      "text/plain": [
       "(14376, 985)"
      ]
     },
     "execution_count": 56,
     "metadata": {},
     "output_type": "execute_result"
    }
   ],
   "source": [
    "cleaned_data.shape"
   ]
  },
  {
   "cell_type": "code",
   "execution_count": 57,
   "id": "c5e42a26-6a8e-4d8d-a965-fc689fd9c4fb",
   "metadata": {},
   "outputs": [
    {
     "data": {
      "text/plain": [
       "0       0\n",
       "1       0\n",
       "2       0\n",
       "3       0\n",
       "4       0\n",
       "       ..\n",
       "1597    7\n",
       "1598    7\n",
       "1599    7\n",
       "1600    7\n",
       "1601    7\n",
       "Name: 0, Length: 14376, dtype: int32"
      ]
     },
     "execution_count": 57,
     "metadata": {},
     "output_type": "execute_result"
    }
   ],
   "source": [
    "cleaned_data.iloc[:, 984]"
   ]
  },
  {
   "cell_type": "code",
   "execution_count": 58,
   "id": "0b174085-c1c9-424c-bb57-5c258b06c7d9",
   "metadata": {},
   "outputs": [],
   "source": [
    "X = cleaned_data.iloc[:, [i for i in range(984)]]\n",
    "y = cleaned_data.iloc[:, 984]"
   ]
  },
  {
   "cell_type": "code",
   "execution_count": 59,
   "id": "f5ba0c2c-3f38-49bb-8613-ce27fc68a473",
   "metadata": {},
   "outputs": [
    {
     "data": {
      "text/plain": [
       "0"
      ]
     },
     "execution_count": 59,
     "metadata": {},
     "output_type": "execute_result"
    }
   ],
   "source": [
    "X.isna().sum().sum()"
   ]
  },
  {
   "cell_type": "code",
   "execution_count": 60,
   "id": "ae904822-a358-424c-b149-2f8eb21e971e",
   "metadata": {},
   "outputs": [
    {
     "data": {
      "text/plain": [
       "0"
      ]
     },
     "execution_count": 60,
     "metadata": {},
     "output_type": "execute_result"
    }
   ],
   "source": [
    "y.isna().sum().sum()"
   ]
  },
  {
   "cell_type": "code",
   "execution_count": 61,
   "id": "72849fb4-d591-463b-9d6e-ca89a24629d0",
   "metadata": {},
   "outputs": [],
   "source": [
    "X_train, X_val, y_train, y_val = train_test_split(X, y, test_size=0.1, random_state=42)"
   ]
  },
  {
   "cell_type": "code",
   "execution_count": 62,
   "id": "a2d91222-2ec3-4098-90a9-d60b3a248920",
   "metadata": {},
   "outputs": [],
   "source": [
    "from sklearn.linear_model import LogisticRegression"
   ]
  },
  {
   "cell_type": "code",
   "execution_count": 63,
   "id": "88aecf81-7b06-4455-a226-4c1558acf006",
   "metadata": {},
   "outputs": [],
   "source": [
    "model = LogisticRegression()"
   ]
  },
  {
   "cell_type": "markdown",
   "id": "0d5851c6-c349-45bc-a8f2-5e289cffc0a6",
   "metadata": {},
   "source": [
    "### for logistic regression:\n",
    "* need to interpolate/remove NaNs"
   ]
  },
  {
   "cell_type": "code",
   "execution_count": 64,
   "id": "47615f26-866e-43ed-8325-a601c9179b30",
   "metadata": {},
   "outputs": [
    {
     "name": "stderr",
     "output_type": "stream",
     "text": [
      "C:\\Users\\minha\\miniconda3\\envs\\peep\\lib\\site-packages\\sklearn\\linear_model\\_logistic.py:814: ConvergenceWarning: lbfgs failed to converge (status=1):\n",
      "STOP: TOTAL NO. of ITERATIONS REACHED LIMIT.\n",
      "\n",
      "Increase the number of iterations (max_iter) or scale the data as shown in:\n",
      "    https://scikit-learn.org/stable/modules/preprocessing.html\n",
      "Please also refer to the documentation for alternative solver options:\n",
      "    https://scikit-learn.org/stable/modules/linear_model.html#logistic-regression\n",
      "  n_iter_i = _check_optimize_result(\n"
     ]
    },
    {
     "data": {
      "text/plain": [
       "LogisticRegression()"
      ]
     },
     "execution_count": 64,
     "metadata": {},
     "output_type": "execute_result"
    }
   ],
   "source": [
    "model.fit(X_train, y_train)"
   ]
  },
  {
   "cell_type": "code",
   "execution_count": 70,
   "id": "d85bfa2f-ffa5-4e7b-964e-f546bd21b613",
   "metadata": {},
   "outputs": [],
   "source": [
    "pred = model.predict(X_val)"
   ]
  },
  {
   "cell_type": "code",
   "execution_count": 71,
   "id": "a42bdcea-e0a5-437c-bc59-9a5b83d3728f",
   "metadata": {},
   "outputs": [],
   "source": [
    "y_val = np.array(y_val)"
   ]
  },
  {
   "cell_type": "code",
   "execution_count": 72,
   "id": "e1d4f3ed-8d76-4ac8-9c9c-76d248d82254",
   "metadata": {},
   "outputs": [
    {
     "name": "stdout",
     "output_type": "stream",
     "text": [
      "0.5104311543810849\n"
     ]
    }
   ],
   "source": [
    "count = 0\n",
    "for y_pred, y_true in zip(pred, y_val):\n",
    "    if y_pred == y_true:\n",
    "        count += 1\n",
    "print(count/len(y_val))"
   ]
  },
  {
   "cell_type": "code",
   "execution_count": 82,
   "id": "77955dc3-2fc3-4431-b0fb-712be40253cd",
   "metadata": {},
   "outputs": [
    {
     "data": {
      "text/plain": [
       "(8, 984)"
      ]
     },
     "execution_count": 82,
     "metadata": {},
     "output_type": "execute_result"
    }
   ],
   "source": [
    "model.coef_.shape"
   ]
  },
  {
   "cell_type": "markdown",
   "id": "349040b3-01e2-42cb-a039-9e844f3003c4",
   "metadata": {},
   "source": [
    "### 8 classes, different set of coefficients for each one, how to generalize them to one set of feature importance?"
   ]
  },
  {
   "cell_type": "code",
   "execution_count": 103,
   "id": "8bf7a616-ef57-4472-84f1-e0516f930f7d",
   "metadata": {},
   "outputs": [],
   "source": [
    "coefficients = []\n",
    "for i in model.coef_:\n",
    "    cdf = pd.DataFrame(i, X.columns, columns=['Coefficients'])\n",
    "    coefficients.append(cdf)"
   ]
  },
  {
   "cell_type": "code",
   "execution_count": 105,
   "id": "91fdf049-1df9-4c01-85c1-b0cc741c9339",
   "metadata": {},
   "outputs": [
    {
     "data": {
      "text/html": [
       "<div>\n",
       "<style scoped>\n",
       "    .dataframe tbody tr th:only-of-type {\n",
       "        vertical-align: middle;\n",
       "    }\n",
       "\n",
       "    .dataframe tbody tr th {\n",
       "        vertical-align: top;\n",
       "    }\n",
       "\n",
       "    .dataframe thead th {\n",
       "        text-align: right;\n",
       "    }\n",
       "</style>\n",
       "<table border=\"1\" class=\"dataframe\">\n",
       "  <thead>\n",
       "    <tr style=\"text-align: right;\">\n",
       "      <th></th>\n",
       "      <th>Coefficients</th>\n",
       "    </tr>\n",
       "  </thead>\n",
       "  <tbody>\n",
       "    <tr>\n",
       "      <th>time_series_1</th>\n",
       "      <td>0.000426</td>\n",
       "    </tr>\n",
       "    <tr>\n",
       "      <th>time_series_2</th>\n",
       "      <td>-0.002988</td>\n",
       "    </tr>\n",
       "    <tr>\n",
       "      <th>time_series_3</th>\n",
       "      <td>-0.008587</td>\n",
       "    </tr>\n",
       "    <tr>\n",
       "      <th>time_series_4</th>\n",
       "      <td>-0.004772</td>\n",
       "    </tr>\n",
       "    <tr>\n",
       "      <th>time_series_5</th>\n",
       "      <td>-0.000211</td>\n",
       "    </tr>\n",
       "    <tr>\n",
       "      <th>...</th>\n",
       "      <td>...</td>\n",
       "    </tr>\n",
       "    <tr>\n",
       "      <th>fold_change_96</th>\n",
       "      <td>0.000578</td>\n",
       "    </tr>\n",
       "    <tr>\n",
       "      <th>fold_change_97</th>\n",
       "      <td>0.000636</td>\n",
       "    </tr>\n",
       "    <tr>\n",
       "      <th>fold_change_98</th>\n",
       "      <td>0.000595</td>\n",
       "    </tr>\n",
       "    <tr>\n",
       "      <th>max_fold_change</th>\n",
       "      <td>0.000550</td>\n",
       "    </tr>\n",
       "    <tr>\n",
       "      <th>max_value</th>\n",
       "      <td>0.002357</td>\n",
       "    </tr>\n",
       "  </tbody>\n",
       "</table>\n",
       "<p>984 rows × 1 columns</p>\n",
       "</div>"
      ],
      "text/plain": [
       "                 Coefficients\n",
       "time_series_1        0.000426\n",
       "time_series_2       -0.002988\n",
       "time_series_3       -0.008587\n",
       "time_series_4       -0.004772\n",
       "time_series_5       -0.000211\n",
       "...                       ...\n",
       "fold_change_96       0.000578\n",
       "fold_change_97       0.000636\n",
       "fold_change_98       0.000595\n",
       "max_fold_change      0.000550\n",
       "max_value            0.002357\n",
       "\n",
       "[984 rows x 1 columns]"
      ]
     },
     "execution_count": 105,
     "metadata": {},
     "output_type": "execute_result"
    }
   ],
   "source": [
    "coefficients[0]"
   ]
  },
  {
   "cell_type": "code",
   "execution_count": 89,
   "id": "127dbd47-c657-4e72-ba85-6244a4d4f93b",
   "metadata": {},
   "outputs": [],
   "source": [
    "sorted_CpG_coefficients = coefficients[0].sort_values(by=['Coefficients'])"
   ]
  },
  {
   "cell_type": "code",
   "execution_count": 90,
   "id": "b3536a97-2691-4491-9587-429e69502937",
   "metadata": {},
   "outputs": [
    {
     "data": {
      "text/html": [
       "<div>\n",
       "<style scoped>\n",
       "    .dataframe tbody tr th:only-of-type {\n",
       "        vertical-align: middle;\n",
       "    }\n",
       "\n",
       "    .dataframe tbody tr th {\n",
       "        vertical-align: top;\n",
       "    }\n",
       "\n",
       "    .dataframe thead th {\n",
       "        text-align: right;\n",
       "    }\n",
       "</style>\n",
       "<table border=\"1\" class=\"dataframe\">\n",
       "  <thead>\n",
       "    <tr style=\"text-align: right;\">\n",
       "      <th></th>\n",
       "      <th>Coefficients</th>\n",
       "    </tr>\n",
       "  </thead>\n",
       "  <tbody>\n",
       "    <tr>\n",
       "      <th>derivatives_1</th>\n",
       "      <td>-0.048896</td>\n",
       "    </tr>\n",
       "    <tr>\n",
       "      <th>ipt_1</th>\n",
       "      <td>-0.015126</td>\n",
       "    </tr>\n",
       "    <tr>\n",
       "      <th>derivatives_13</th>\n",
       "      <td>-0.012656</td>\n",
       "    </tr>\n",
       "    <tr>\n",
       "      <th>derivatives_14</th>\n",
       "      <td>-0.012223</td>\n",
       "    </tr>\n",
       "    <tr>\n",
       "      <th>derivatives_12</th>\n",
       "      <td>-0.010847</td>\n",
       "    </tr>\n",
       "    <tr>\n",
       "      <th>...</th>\n",
       "      <td>...</td>\n",
       "    </tr>\n",
       "    <tr>\n",
       "      <th>derivatives_7</th>\n",
       "      <td>0.013674</td>\n",
       "    </tr>\n",
       "    <tr>\n",
       "      <th>derivatives_8</th>\n",
       "      <td>0.015789</td>\n",
       "    </tr>\n",
       "    <tr>\n",
       "      <th>derivatives_5</th>\n",
       "      <td>0.021471</td>\n",
       "    </tr>\n",
       "    <tr>\n",
       "      <th>derivatives_4</th>\n",
       "      <td>0.039600</td>\n",
       "    </tr>\n",
       "    <tr>\n",
       "      <th>derivatives_3</th>\n",
       "      <td>0.045264</td>\n",
       "    </tr>\n",
       "  </tbody>\n",
       "</table>\n",
       "<p>984 rows × 1 columns</p>\n",
       "</div>"
      ],
      "text/plain": [
       "                Coefficients\n",
       "derivatives_1      -0.048896\n",
       "ipt_1              -0.015126\n",
       "derivatives_13     -0.012656\n",
       "derivatives_14     -0.012223\n",
       "derivatives_12     -0.010847\n",
       "...                      ...\n",
       "derivatives_7       0.013674\n",
       "derivatives_8       0.015789\n",
       "derivatives_5       0.021471\n",
       "derivatives_4       0.039600\n",
       "derivatives_3       0.045264\n",
       "\n",
       "[984 rows x 1 columns]"
      ]
     },
     "execution_count": 90,
     "metadata": {},
     "output_type": "execute_result"
    }
   ],
   "source": [
    "sorted_CpG_coefficients"
   ]
  },
  {
   "cell_type": "code",
   "execution_count": 97,
   "id": "a2518f59-fdcf-4a5e-91ad-c20f43608181",
   "metadata": {},
   "outputs": [],
   "source": [
    "test = sorted_CpG_coefficients.iloc[:, 0]"
   ]
  },
  {
   "cell_type": "code",
   "execution_count": 117,
   "id": "f486b935-c0f2-4a9d-903d-88722e2b32b4",
   "metadata": {},
   "outputs": [
    {
     "data": {
      "text/plain": [
       "684"
      ]
     },
     "execution_count": 117,
     "metadata": {},
     "output_type": "execute_result"
    }
   ],
   "source": [
    "sorted_CpG_coefficients.index.get_loc('integrals_pos_11')"
   ]
  },
  {
   "cell_type": "markdown",
   "id": "a395fe81-1851-472d-bc93-972e631d7d1b",
   "metadata": {},
   "source": [
    "#### log reg model does not entirely agree with xgboost ensemble model, will look into this deeper"
   ]
  },
  {
   "cell_type": "code",
   "execution_count": null,
   "id": "d7f1c571-86cb-45ba-9734-a3ef49007733",
   "metadata": {},
   "outputs": [],
   "source": []
  }
 ],
 "metadata": {
  "kernelspec": {
   "display_name": "Python 3 (ipykernel)",
   "language": "python",
   "name": "python3"
  },
  "language_info": {
   "codemirror_mode": {
    "name": "ipython",
    "version": 3
   },
   "file_extension": ".py",
   "mimetype": "text/x-python",
   "name": "python",
   "nbconvert_exporter": "python",
   "pygments_lexer": "ipython3",
   "version": "3.8.12"
  }
 },
 "nbformat": 4,
 "nbformat_minor": 5
}
