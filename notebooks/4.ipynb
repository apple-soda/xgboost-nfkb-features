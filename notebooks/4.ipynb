{
 "cells": [
  {
   "cell_type": "code",
   "execution_count": 1,
   "id": "93ecf35f-3ff5-4f19-acd1-f91af9377afa",
   "metadata": {},
   "outputs": [],
   "source": [
    "import sys\n",
    "sys.path.append('..')"
   ]
  },
  {
   "cell_type": "code",
   "execution_count": 2,
   "id": "c8b657c0-8f82-4af0-8c3b-d4274ad7a861",
   "metadata": {},
   "outputs": [],
   "source": [
    "from core.dataset import *\n",
    "from core.dprocessing import *\n",
    "import seaborn as sns\n",
    "import numpy as np\n",
    "import pandas as pd\n",
    "import xgboost as xgb\n",
    "from sklearn.model_selection import train_test_split\n",
    "import seaborn as sns\n",
    "from sklearn.metrics import classification_report"
   ]
  },
  {
   "cell_type": "code",
   "execution_count": 3,
   "id": "1fd02c22-4a2a-4871-a528-2f154bb7e69b",
   "metadata": {},
   "outputs": [],
   "source": [
    "load_dir = 'D:/Data/hoffmanlab/featureselection/data/'\n",
    "ligands = ['CpG', 'FLA', 'FSL', 'LPS', 'P3K', 'PIC', 'R84', 'TNF']\n",
    "sheet_type = 'am'"
   ]
  },
  {
   "cell_type": "code",
   "execution_count": 13,
   "id": "4f24d5df-0772-46f5-bca7-637bdcef3e7f",
   "metadata": {},
   "outputs": [],
   "source": [
    "dataset = Data(load_dir, ligands, sheet_type, merge=True, numpy=False)\n",
    "labels = dataset.iloc[:, [984]]"
   ]
  },
  {
   "cell_type": "code",
   "execution_count": 5,
   "id": "7a11c3a3-fb28-4210-b0ce-f0be42f20433",
   "metadata": {},
   "outputs": [],
   "source": [
    "features = ['integrals_pos', 'min_trough2peak', 'integrals', 'envelope', 'oscpower', 'fold_change', 'valley_amps']\n",
    "time_steps = [98, None, 98, 25, None, 98, 15]"
   ]
  },
  {
   "cell_type": "markdown",
   "id": "864ff3b0-fb0d-40b3-a7ae-601ae0abba10",
   "metadata": {},
   "source": [
    "#### Training a model on all time series per feature for top 7 features\n",
    "* integrals_pos\n",
    "* min_trough2peak\n",
    "* integrals\n",
    "* envelope\n",
    "* oscpower\n",
    "* fold_change\n",
    "* valley_amps"
   ]
  },
  {
   "cell_type": "code",
   "execution_count": 5,
   "id": "e4be9d94-1609-4b95-9bd2-469c7504bf73",
   "metadata": {},
   "outputs": [
    {
     "data": {
      "text/plain": [
       "0       0\n",
       "1       0\n",
       "2       0\n",
       "3       0\n",
       "4       0\n",
       "       ..\n",
       "1597    0\n",
       "1598    0\n",
       "1599    0\n",
       "1600    0\n",
       "1601    0\n",
       "Name: integrals_pos_1, Length: 14376, dtype: int64"
      ]
     },
     "execution_count": 5,
     "metadata": {},
     "output_type": "execute_result"
    }
   ],
   "source": [
    "dataset['integrals_pos_1']"
   ]
  },
  {
   "cell_type": "code",
   "execution_count": 6,
   "id": "79e260fa-69b2-4859-a77e-40fb16a5918a",
   "metadata": {},
   "outputs": [],
   "source": [
    "feature_name = 'integrals_pos'"
   ]
  },
  {
   "cell_type": "code",
   "execution_count": 7,
   "id": "dd80ef3f-ca48-47ab-b638-908a887f861e",
   "metadata": {},
   "outputs": [],
   "source": [
    "df = pd.DataFrame()\n",
    "for i in range(1, 99):\n",
    "    column = feature_name + '_' + str(i)\n",
    "    column = dataset[column]\n",
    "    df = pd.concat([df, column], axis=1)"
   ]
  },
  {
   "cell_type": "code",
   "execution_count": 8,
   "id": "d8e940b8-4752-438c-b258-67dd91eb44e4",
   "metadata": {},
   "outputs": [],
   "source": [
    "# pass in list of feature names, pass in number of time steps for that corresponding feature"
   ]
  },
  {
   "cell_type": "code",
   "execution_count": 11,
   "id": "f70a280a-d37f-4935-8efa-05965654c8b3",
   "metadata": {},
   "outputs": [],
   "source": [
    "test2 = process(features, time_steps, dataset)"
   ]
  },
  {
   "cell_type": "code",
   "execution_count": 12,
   "id": "fac335e2-ceb5-4c73-aaff-737731d3023f",
   "metadata": {},
   "outputs": [
    {
     "data": {
      "text/html": [
       "<div>\n",
       "<style scoped>\n",
       "    .dataframe tbody tr th:only-of-type {\n",
       "        vertical-align: middle;\n",
       "    }\n",
       "\n",
       "    .dataframe tbody tr th {\n",
       "        vertical-align: top;\n",
       "    }\n",
       "\n",
       "    .dataframe thead th {\n",
       "        text-align: right;\n",
       "    }\n",
       "</style>\n",
       "<table border=\"1\" class=\"dataframe\">\n",
       "  <thead>\n",
       "    <tr style=\"text-align: right;\">\n",
       "      <th></th>\n",
       "      <th>integrals_pos_1</th>\n",
       "      <th>integrals_pos_2</th>\n",
       "      <th>integrals_pos_3</th>\n",
       "      <th>integrals_pos_4</th>\n",
       "      <th>integrals_pos_5</th>\n",
       "      <th>integrals_pos_6</th>\n",
       "      <th>integrals_pos_7</th>\n",
       "      <th>integrals_pos_8</th>\n",
       "      <th>integrals_pos_9</th>\n",
       "      <th>integrals_pos_10</th>\n",
       "      <th>...</th>\n",
       "      <th>valley_amps_6</th>\n",
       "      <th>valley_amps_7</th>\n",
       "      <th>valley_amps_8</th>\n",
       "      <th>valley_amps_9</th>\n",
       "      <th>valley_amps_10</th>\n",
       "      <th>valley_amps_11</th>\n",
       "      <th>valley_amps_12</th>\n",
       "      <th>valley_amps_13</th>\n",
       "      <th>valley_amps_14</th>\n",
       "      <th>valley_amps_15</th>\n",
       "    </tr>\n",
       "  </thead>\n",
       "  <tbody>\n",
       "    <tr>\n",
       "      <th>0</th>\n",
       "      <td>0</td>\n",
       "      <td>0.015096</td>\n",
       "      <td>0.032543</td>\n",
       "      <td>0.040461</td>\n",
       "      <td>0.041608</td>\n",
       "      <td>0.042510</td>\n",
       "      <td>0.051934</td>\n",
       "      <td>0.083181</td>\n",
       "      <td>0.139928</td>\n",
       "      <td>0.242935</td>\n",
       "      <td>...</td>\n",
       "      <td>5.988297</td>\n",
       "      <td>5.954039</td>\n",
       "      <td>5.959827</td>\n",
       "      <td>NaN</td>\n",
       "      <td>NaN</td>\n",
       "      <td>NaN</td>\n",
       "      <td>NaN</td>\n",
       "      <td>NaN</td>\n",
       "      <td>NaN</td>\n",
       "      <td>NaN</td>\n",
       "    </tr>\n",
       "    <tr>\n",
       "      <th>1</th>\n",
       "      <td>0</td>\n",
       "      <td>0.000000</td>\n",
       "      <td>0.000000</td>\n",
       "      <td>0.000000</td>\n",
       "      <td>0.000000</td>\n",
       "      <td>0.000000</td>\n",
       "      <td>0.000000</td>\n",
       "      <td>0.000000</td>\n",
       "      <td>0.026792</td>\n",
       "      <td>0.105063</td>\n",
       "      <td>...</td>\n",
       "      <td>6.034079</td>\n",
       "      <td>6.104633</td>\n",
       "      <td>6.186130</td>\n",
       "      <td>NaN</td>\n",
       "      <td>NaN</td>\n",
       "      <td>NaN</td>\n",
       "      <td>NaN</td>\n",
       "      <td>NaN</td>\n",
       "      <td>NaN</td>\n",
       "      <td>NaN</td>\n",
       "    </tr>\n",
       "    <tr>\n",
       "      <th>2</th>\n",
       "      <td>0</td>\n",
       "      <td>0.000000</td>\n",
       "      <td>0.006687</td>\n",
       "      <td>0.011071</td>\n",
       "      <td>0.011161</td>\n",
       "      <td>0.013339</td>\n",
       "      <td>0.022381</td>\n",
       "      <td>0.026237</td>\n",
       "      <td>0.056502</td>\n",
       "      <td>0.135171</td>\n",
       "      <td>...</td>\n",
       "      <td>5.529811</td>\n",
       "      <td>5.527464</td>\n",
       "      <td>5.293195</td>\n",
       "      <td>NaN</td>\n",
       "      <td>NaN</td>\n",
       "      <td>NaN</td>\n",
       "      <td>NaN</td>\n",
       "      <td>NaN</td>\n",
       "      <td>NaN</td>\n",
       "      <td>NaN</td>\n",
       "    </tr>\n",
       "    <tr>\n",
       "      <th>3</th>\n",
       "      <td>0</td>\n",
       "      <td>0.000000</td>\n",
       "      <td>0.020693</td>\n",
       "      <td>0.172892</td>\n",
       "      <td>0.391335</td>\n",
       "      <td>0.603795</td>\n",
       "      <td>0.800702</td>\n",
       "      <td>0.971314</td>\n",
       "      <td>1.137790</td>\n",
       "      <td>1.286021</td>\n",
       "      <td>...</td>\n",
       "      <td>5.229372</td>\n",
       "      <td>NaN</td>\n",
       "      <td>NaN</td>\n",
       "      <td>NaN</td>\n",
       "      <td>NaN</td>\n",
       "      <td>NaN</td>\n",
       "      <td>NaN</td>\n",
       "      <td>NaN</td>\n",
       "      <td>NaN</td>\n",
       "      <td>NaN</td>\n",
       "    </tr>\n",
       "    <tr>\n",
       "      <th>4</th>\n",
       "      <td>0</td>\n",
       "      <td>0.009170</td>\n",
       "      <td>0.019513</td>\n",
       "      <td>0.024005</td>\n",
       "      <td>0.031380</td>\n",
       "      <td>0.055451</td>\n",
       "      <td>0.105201</td>\n",
       "      <td>0.194234</td>\n",
       "      <td>0.325869</td>\n",
       "      <td>0.532726</td>\n",
       "      <td>...</td>\n",
       "      <td>5.821342</td>\n",
       "      <td>NaN</td>\n",
       "      <td>NaN</td>\n",
       "      <td>NaN</td>\n",
       "      <td>NaN</td>\n",
       "      <td>NaN</td>\n",
       "      <td>NaN</td>\n",
       "      <td>NaN</td>\n",
       "      <td>NaN</td>\n",
       "      <td>NaN</td>\n",
       "    </tr>\n",
       "    <tr>\n",
       "      <th>...</th>\n",
       "      <td>...</td>\n",
       "      <td>...</td>\n",
       "      <td>...</td>\n",
       "      <td>...</td>\n",
       "      <td>...</td>\n",
       "      <td>...</td>\n",
       "      <td>...</td>\n",
       "      <td>...</td>\n",
       "      <td>...</td>\n",
       "      <td>...</td>\n",
       "      <td>...</td>\n",
       "      <td>...</td>\n",
       "      <td>...</td>\n",
       "      <td>...</td>\n",
       "      <td>...</td>\n",
       "      <td>...</td>\n",
       "      <td>...</td>\n",
       "      <td>...</td>\n",
       "      <td>...</td>\n",
       "      <td>...</td>\n",
       "      <td>...</td>\n",
       "    </tr>\n",
       "    <tr>\n",
       "      <th>1597</th>\n",
       "      <td>0</td>\n",
       "      <td>0.013909</td>\n",
       "      <td>0.013909</td>\n",
       "      <td>0.018214</td>\n",
       "      <td>0.048951</td>\n",
       "      <td>0.048951</td>\n",
       "      <td>0.048951</td>\n",
       "      <td>0.048951</td>\n",
       "      <td>0.048951</td>\n",
       "      <td>0.048951</td>\n",
       "      <td>...</td>\n",
       "      <td>5.790085</td>\n",
       "      <td>5.449458</td>\n",
       "      <td>5.181230</td>\n",
       "      <td>5.183025</td>\n",
       "      <td>NaN</td>\n",
       "      <td>NaN</td>\n",
       "      <td>NaN</td>\n",
       "      <td>NaN</td>\n",
       "      <td>NaN</td>\n",
       "      <td>NaN</td>\n",
       "    </tr>\n",
       "    <tr>\n",
       "      <th>1598</th>\n",
       "      <td>0</td>\n",
       "      <td>0.010901</td>\n",
       "      <td>0.010901</td>\n",
       "      <td>0.010901</td>\n",
       "      <td>0.010901</td>\n",
       "      <td>0.010901</td>\n",
       "      <td>0.060818</td>\n",
       "      <td>0.238731</td>\n",
       "      <td>0.305547</td>\n",
       "      <td>0.331205</td>\n",
       "      <td>...</td>\n",
       "      <td>5.318652</td>\n",
       "      <td>5.182635</td>\n",
       "      <td>5.213391</td>\n",
       "      <td>NaN</td>\n",
       "      <td>NaN</td>\n",
       "      <td>NaN</td>\n",
       "      <td>NaN</td>\n",
       "      <td>NaN</td>\n",
       "      <td>NaN</td>\n",
       "      <td>NaN</td>\n",
       "    </tr>\n",
       "    <tr>\n",
       "      <th>1599</th>\n",
       "      <td>0</td>\n",
       "      <td>0.000000</td>\n",
       "      <td>0.000000</td>\n",
       "      <td>0.029628</td>\n",
       "      <td>0.040879</td>\n",
       "      <td>0.058672</td>\n",
       "      <td>0.076311</td>\n",
       "      <td>0.090650</td>\n",
       "      <td>0.120041</td>\n",
       "      <td>0.143540</td>\n",
       "      <td>...</td>\n",
       "      <td>5.388622</td>\n",
       "      <td>5.089885</td>\n",
       "      <td>5.195547</td>\n",
       "      <td>5.397384</td>\n",
       "      <td>NaN</td>\n",
       "      <td>NaN</td>\n",
       "      <td>NaN</td>\n",
       "      <td>NaN</td>\n",
       "      <td>NaN</td>\n",
       "      <td>NaN</td>\n",
       "    </tr>\n",
       "    <tr>\n",
       "      <th>1600</th>\n",
       "      <td>0</td>\n",
       "      <td>0.000000</td>\n",
       "      <td>0.000000</td>\n",
       "      <td>0.000000</td>\n",
       "      <td>0.000000</td>\n",
       "      <td>0.000000</td>\n",
       "      <td>0.063195</td>\n",
       "      <td>0.189367</td>\n",
       "      <td>0.234028</td>\n",
       "      <td>0.234028</td>\n",
       "      <td>...</td>\n",
       "      <td>5.223900</td>\n",
       "      <td>5.427450</td>\n",
       "      <td>4.889019</td>\n",
       "      <td>NaN</td>\n",
       "      <td>NaN</td>\n",
       "      <td>NaN</td>\n",
       "      <td>NaN</td>\n",
       "      <td>NaN</td>\n",
       "      <td>NaN</td>\n",
       "      <td>NaN</td>\n",
       "    </tr>\n",
       "    <tr>\n",
       "      <th>1601</th>\n",
       "      <td>0</td>\n",
       "      <td>0.022193</td>\n",
       "      <td>0.089544</td>\n",
       "      <td>0.195383</td>\n",
       "      <td>0.320378</td>\n",
       "      <td>0.442296</td>\n",
       "      <td>0.564839</td>\n",
       "      <td>0.700567</td>\n",
       "      <td>0.840904</td>\n",
       "      <td>0.990023</td>\n",
       "      <td>...</td>\n",
       "      <td>4.499530</td>\n",
       "      <td>5.141820</td>\n",
       "      <td>4.808776</td>\n",
       "      <td>5.077728</td>\n",
       "      <td>NaN</td>\n",
       "      <td>NaN</td>\n",
       "      <td>NaN</td>\n",
       "      <td>NaN</td>\n",
       "      <td>NaN</td>\n",
       "      <td>NaN</td>\n",
       "    </tr>\n",
       "  </tbody>\n",
       "</table>\n",
       "<p>14376 rows × 336 columns</p>\n",
       "</div>"
      ],
      "text/plain": [
       "      integrals_pos_1  integrals_pos_2  integrals_pos_3  integrals_pos_4  \\\n",
       "0                   0         0.015096         0.032543         0.040461   \n",
       "1                   0         0.000000         0.000000         0.000000   \n",
       "2                   0         0.000000         0.006687         0.011071   \n",
       "3                   0         0.000000         0.020693         0.172892   \n",
       "4                   0         0.009170         0.019513         0.024005   \n",
       "...               ...              ...              ...              ...   \n",
       "1597                0         0.013909         0.013909         0.018214   \n",
       "1598                0         0.010901         0.010901         0.010901   \n",
       "1599                0         0.000000         0.000000         0.029628   \n",
       "1600                0         0.000000         0.000000         0.000000   \n",
       "1601                0         0.022193         0.089544         0.195383   \n",
       "\n",
       "      integrals_pos_5  integrals_pos_6  integrals_pos_7  integrals_pos_8  \\\n",
       "0            0.041608         0.042510         0.051934         0.083181   \n",
       "1            0.000000         0.000000         0.000000         0.000000   \n",
       "2            0.011161         0.013339         0.022381         0.026237   \n",
       "3            0.391335         0.603795         0.800702         0.971314   \n",
       "4            0.031380         0.055451         0.105201         0.194234   \n",
       "...               ...              ...              ...              ...   \n",
       "1597         0.048951         0.048951         0.048951         0.048951   \n",
       "1598         0.010901         0.010901         0.060818         0.238731   \n",
       "1599         0.040879         0.058672         0.076311         0.090650   \n",
       "1600         0.000000         0.000000         0.063195         0.189367   \n",
       "1601         0.320378         0.442296         0.564839         0.700567   \n",
       "\n",
       "      integrals_pos_9  integrals_pos_10  ...  valley_amps_6  valley_amps_7  \\\n",
       "0            0.139928          0.242935  ...       5.988297       5.954039   \n",
       "1            0.026792          0.105063  ...       6.034079       6.104633   \n",
       "2            0.056502          0.135171  ...       5.529811       5.527464   \n",
       "3            1.137790          1.286021  ...       5.229372            NaN   \n",
       "4            0.325869          0.532726  ...       5.821342            NaN   \n",
       "...               ...               ...  ...            ...            ...   \n",
       "1597         0.048951          0.048951  ...       5.790085       5.449458   \n",
       "1598         0.305547          0.331205  ...       5.318652       5.182635   \n",
       "1599         0.120041          0.143540  ...       5.388622       5.089885   \n",
       "1600         0.234028          0.234028  ...       5.223900       5.427450   \n",
       "1601         0.840904          0.990023  ...       4.499530       5.141820   \n",
       "\n",
       "      valley_amps_8  valley_amps_9  valley_amps_10  valley_amps_11  \\\n",
       "0          5.959827            NaN             NaN             NaN   \n",
       "1          6.186130            NaN             NaN             NaN   \n",
       "2          5.293195            NaN             NaN             NaN   \n",
       "3               NaN            NaN             NaN             NaN   \n",
       "4               NaN            NaN             NaN             NaN   \n",
       "...             ...            ...             ...             ...   \n",
       "1597       5.181230       5.183025             NaN             NaN   \n",
       "1598       5.213391            NaN             NaN             NaN   \n",
       "1599       5.195547       5.397384             NaN             NaN   \n",
       "1600       4.889019            NaN             NaN             NaN   \n",
       "1601       4.808776       5.077728             NaN             NaN   \n",
       "\n",
       "      valley_amps_12  valley_amps_13  valley_amps_14  valley_amps_15  \n",
       "0                NaN             NaN             NaN             NaN  \n",
       "1                NaN             NaN             NaN             NaN  \n",
       "2                NaN             NaN             NaN             NaN  \n",
       "3                NaN             NaN             NaN             NaN  \n",
       "4                NaN             NaN             NaN             NaN  \n",
       "...              ...             ...             ...             ...  \n",
       "1597             NaN             NaN             NaN             NaN  \n",
       "1598             NaN             NaN             NaN             NaN  \n",
       "1599             NaN             NaN             NaN             NaN  \n",
       "1600             NaN             NaN             NaN             NaN  \n",
       "1601             NaN             NaN             NaN             NaN  \n",
       "\n",
       "[14376 rows x 336 columns]"
      ]
     },
     "execution_count": 12,
     "metadata": {},
     "output_type": "execute_result"
    }
   ],
   "source": [
    "test2"
   ]
  },
  {
   "cell_type": "code",
   "execution_count": 20,
   "id": "51190f8d-9f8a-4949-afac-b662c29a0c4e",
   "metadata": {},
   "outputs": [],
   "source": [
    "model = xgb.XGBClassifier()"
   ]
  },
  {
   "cell_type": "code",
   "execution_count": 22,
   "id": "9acff5d3-25b7-4897-9537-d634fcda97c7",
   "metadata": {},
   "outputs": [],
   "source": [
    "labels = dataset.iloc[:, [984]]"
   ]
  },
  {
   "cell_type": "code",
   "execution_count": 23,
   "id": "c3c2be88-3d78-4c5e-9738-d931b380b9d8",
   "metadata": {},
   "outputs": [],
   "source": [
    "data, labels = test2.to_numpy(), labels.to_numpy()"
   ]
  },
  {
   "cell_type": "code",
   "execution_count": 24,
   "id": "889ded56-5289-47d9-967f-6859f0ff755a",
   "metadata": {},
   "outputs": [],
   "source": [
    "labels = labels.reshape((-1, ))"
   ]
  },
  {
   "cell_type": "code",
   "execution_count": 25,
   "id": "98ba45f1-4fd4-4c2a-a523-d1da913eb067",
   "metadata": {},
   "outputs": [],
   "source": [
    "X_train, X_val, y_train, y_val = train_test_split(data, labels, test_size = 0.1, random_state = 42)"
   ]
  },
  {
   "cell_type": "code",
   "execution_count": 26,
   "id": "8d9ed10c-323c-4f62-961f-e839a00d8f25",
   "metadata": {},
   "outputs": [
    {
     "name": "stdout",
     "output_type": "stream",
     "text": [
      "[19:07:28] WARNING: ..\\src\\learner.cc:1115: Starting in XGBoost 1.3.0, the default evaluation metric used with the objective 'multi:softprob' was changed from 'merror' to 'mlogloss'. Explicitly set eval_metric if you'd like to restore the old behavior.\n"
     ]
    },
    {
     "data": {
      "text/plain": [
       "XGBClassifier(base_score=0.5, booster='gbtree', colsample_bylevel=1,\n",
       "              colsample_bynode=1, colsample_bytree=1, enable_categorical=False,\n",
       "              gamma=0, gpu_id=-1, importance_type=None,\n",
       "              interaction_constraints='', learning_rate=0.300000012,\n",
       "              max_delta_step=0, max_depth=6, min_child_weight=1, missing=nan,\n",
       "              monotone_constraints='()', n_estimators=100, n_jobs=16,\n",
       "              num_parallel_tree=1, objective='multi:softprob', predictor='auto',\n",
       "              random_state=0, reg_alpha=0, reg_lambda=1, scale_pos_weight=None,\n",
       "              subsample=1, tree_method='exact', validate_parameters=1,\n",
       "              verbosity=None)"
      ]
     },
     "execution_count": 26,
     "metadata": {},
     "output_type": "execute_result"
    }
   ],
   "source": [
    "model.fit(X_train, y_train)"
   ]
  },
  {
   "cell_type": "code",
   "execution_count": 27,
   "id": "17ead7e7-fb0d-4b18-80f3-bc18ec7870c9",
   "metadata": {},
   "outputs": [],
   "source": [
    "pred = model.predict(X_val)"
   ]
  },
  {
   "cell_type": "code",
   "execution_count": 28,
   "id": "d89a5089-1e6a-43cf-8598-825dc360598e",
   "metadata": {},
   "outputs": [
    {
     "data": {
      "text/plain": [
       "array([6, 6, 2, ..., 2, 0, 4])"
      ]
     },
     "execution_count": 28,
     "metadata": {},
     "output_type": "execute_result"
    }
   ],
   "source": [
    "pred"
   ]
  },
  {
   "cell_type": "code",
   "execution_count": 29,
   "id": "e21c7280-599d-4653-8d3a-6f80a72ee5ec",
   "metadata": {},
   "outputs": [
    {
     "data": {
      "text/plain": [
       "array([1, 6, 2, ..., 6, 0, 0])"
      ]
     },
     "execution_count": 29,
     "metadata": {},
     "output_type": "execute_result"
    }
   ],
   "source": [
    "y_val"
   ]
  },
  {
   "cell_type": "code",
   "execution_count": 30,
   "id": "721f0449-3d10-4f8d-80b5-dfad10018645",
   "metadata": {},
   "outputs": [
    {
     "name": "stdout",
     "output_type": "stream",
     "text": [
      "0.6404728789986092\n"
     ]
    }
   ],
   "source": [
    "x = 0\n",
    "for y_pred, y_true in zip(pred, y_val):\n",
    "    if y_pred == y_true:\n",
    "        x += 1\n",
    "print(x / len(y_val))"
   ]
  },
  {
   "cell_type": "code",
   "execution_count": 31,
   "id": "286c1967-71a7-4dc3-80ac-845d3c323ed9",
   "metadata": {},
   "outputs": [],
   "source": [
    "# almost same accuracy vs trained on all features (985), removed a lot of noise ig"
   ]
  },
  {
   "cell_type": "code",
   "execution_count": 42,
   "id": "553812d0-fe59-4fb4-8c55-3ed2a5855b0f",
   "metadata": {},
   "outputs": [],
   "source": [
    "cr = classification_report(y_val, pred, target_names=ligands)"
   ]
  },
  {
   "cell_type": "code",
   "execution_count": 44,
   "id": "95d989c3-d4a3-4f68-9c52-235fb6857dd4",
   "metadata": {},
   "outputs": [
    {
     "name": "stdout",
     "output_type": "stream",
     "text": [
      "              precision    recall  f1-score   support\n",
      "\n",
      "         CpG       0.49      0.60      0.54       196\n",
      "         FLA       0.49      0.45      0.47       143\n",
      "         FSL       0.59      0.60      0.59       189\n",
      "         LPS       0.58      0.72      0.64       149\n",
      "         P3K       0.64      0.46      0.54       185\n",
      "         PIC       0.82      0.71      0.76       165\n",
      "         R84       0.78      0.83      0.80       249\n",
      "         TNF       0.75      0.67      0.71       162\n",
      "\n",
      "    accuracy                           0.64      1438\n",
      "   macro avg       0.64      0.63      0.63      1438\n",
      "weighted avg       0.65      0.64      0.64      1438\n",
      "\n"
     ]
    }
   ],
   "source": [
    "print(cr)"
   ]
  },
  {
   "cell_type": "markdown",
   "id": "5598d03d-f1da-4d27-b06a-bc8794a84522",
   "metadata": {},
   "source": [
    "### given the entire array of the top features:\n",
    "* parameters:\n",
    "    * distinct features\n",
    "    * upper bound (search in the upper x% of the array) for time steps for THOSE features"
   ]
  },
  {
   "cell_type": "code",
   "execution_count": 6,
   "id": "de4860d5-f57a-48fd-97c5-e07e038c7430",
   "metadata": {},
   "outputs": [],
   "source": [
    "df = pd.read_csv('C:/Users/minha/Research/hoffmanlab/featuresel/data/untuned_model_feature_importance.csv')"
   ]
  },
  {
   "cell_type": "code",
   "execution_count": 7,
   "id": "fb790972-b3b4-49a0-8ae8-f07df0fbadd9",
   "metadata": {},
   "outputs": [],
   "source": [
    "feature_importance = df.values.tolist()"
   ]
  },
  {
   "cell_type": "markdown",
   "id": "df1bce70-5c9b-42a0-a8fe-0c9142a9f636",
   "metadata": {},
   "source": [
    "### trying 25% of top features for now:\n",
    "* loop through all partitions and find the best?"
   ]
  },
  {
   "cell_type": "code",
   "execution_count": 10,
   "id": "707608e9-479f-4fb8-a6cb-84b868378eac",
   "metadata": {},
   "outputs": [],
   "source": [
    "data = partition_features(features, time_steps, feature_importance, 0.25, dataset)"
   ]
  },
  {
   "cell_type": "code",
   "execution_count": 16,
   "id": "72c60f0c-ed71-44e7-a548-5459905d3ee2",
   "metadata": {},
   "outputs": [],
   "source": [
    "data = data.to_numpy()\n",
    "labels = labels.to_numpy()"
   ]
  },
  {
   "cell_type": "code",
   "execution_count": 17,
   "id": "7043dae7-a6a9-4717-a7e4-8728b07866b7",
   "metadata": {},
   "outputs": [],
   "source": [
    "labels = labels.reshape((-1, ))"
   ]
  },
  {
   "cell_type": "code",
   "execution_count": 18,
   "id": "dbefcdea-8357-430d-b0d8-b9da28c9edbe",
   "metadata": {},
   "outputs": [],
   "source": [
    "X_train, X_val, y_train, y_val = train_test_split(data, labels, test_size=0.1, random_state=42)"
   ]
  },
  {
   "cell_type": "code",
   "execution_count": 21,
   "id": "9e6e804c-a859-4537-b013-2f166eeed112",
   "metadata": {},
   "outputs": [
    {
     "name": "stderr",
     "output_type": "stream",
     "text": [
      "C:\\Users\\minha\\miniconda3\\envs\\peep\\lib\\site-packages\\xgboost\\sklearn.py:1224: UserWarning: The use of label encoder in XGBClassifier is deprecated and will be removed in a future release. To remove this warning, do the following: 1) Pass option use_label_encoder=False when constructing XGBClassifier object; and 2) Encode your labels (y) as integers starting with 0, i.e. 0, 1, 2, ..., [num_class - 1].\n",
      "  warnings.warn(label_encoder_deprecation_msg, UserWarning)\n"
     ]
    },
    {
     "name": "stdout",
     "output_type": "stream",
     "text": [
      "[21:11:41] WARNING: ..\\src\\learner.cc:1115: Starting in XGBoost 1.3.0, the default evaluation metric used with the objective 'multi:softprob' was changed from 'merror' to 'mlogloss'. Explicitly set eval_metric if you'd like to restore the old behavior.\n"
     ]
    },
    {
     "data": {
      "text/plain": [
       "XGBClassifier(base_score=0.5, booster='gbtree', colsample_bylevel=1,\n",
       "              colsample_bynode=1, colsample_bytree=1, enable_categorical=False,\n",
       "              gamma=0, gpu_id=-1, importance_type=None,\n",
       "              interaction_constraints='', learning_rate=0.300000012,\n",
       "              max_delta_step=0, max_depth=6, min_child_weight=1, missing=nan,\n",
       "              monotone_constraints='()', n_estimators=100, n_jobs=16,\n",
       "              num_parallel_tree=1, objective='multi:softprob', predictor='auto',\n",
       "              random_state=0, reg_alpha=0, reg_lambda=1, scale_pos_weight=None,\n",
       "              subsample=1, tree_method='exact', validate_parameters=1,\n",
       "              verbosity=None)"
      ]
     },
     "execution_count": 21,
     "metadata": {},
     "output_type": "execute_result"
    }
   ],
   "source": [
    "model.fit(X_train, y_train)"
   ]
  },
  {
   "cell_type": "code",
   "execution_count": 24,
   "id": "7a777633-c3ec-4c45-b4a9-4091063df4c9",
   "metadata": {},
   "outputs": [],
   "source": [
    "pred = model.predict(X_val)"
   ]
  },
  {
   "cell_type": "code",
   "execution_count": 25,
   "id": "d79b8aba-d4f0-4e43-9278-6d07995f514a",
   "metadata": {},
   "outputs": [],
   "source": [
    "cr = classification_report(y_val, pred, target_names=ligands)"
   ]
  },
  {
   "cell_type": "code",
   "execution_count": 28,
   "id": "ca781b4a-fe1a-45da-bb53-9e571de53ae5",
   "metadata": {},
   "outputs": [
    {
     "name": "stdout",
     "output_type": "stream",
     "text": [
      "              precision    recall  f1-score   support\n",
      "\n",
      "         CpG       0.46      0.54      0.49       196\n",
      "         FLA       0.52      0.50      0.51       143\n",
      "         FSL       0.57      0.58      0.58       189\n",
      "         LPS       0.58      0.74      0.65       149\n",
      "         P3K       0.66      0.51      0.57       185\n",
      "         PIC       0.80      0.69      0.74       165\n",
      "         R84       0.76      0.82      0.79       249\n",
      "         TNF       0.76      0.64      0.70       162\n",
      "\n",
      "    accuracy                           0.63      1438\n",
      "   macro avg       0.64      0.63      0.63      1438\n",
      "weighted avg       0.64      0.63      0.64      1438\n",
      "\n"
     ]
    }
   ],
   "source": [
    "print(cr)"
   ]
  },
  {
   "cell_type": "markdown",
   "id": "198c527d-0be3-458a-9bbe-26acfe1c8a5e",
   "metadata": {},
   "source": [
    "### features trained on top 25% of timesteps for top 7 features yields 63% accuracy, 1% lower than model trained on 985 features"
   ]
  },
  {
   "cell_type": "markdown",
   "id": "c17c6384-1b78-47ba-8cad-372cb6a8b9e9",
   "metadata": {},
   "source": [
    "### make function to loop thru multiple bounds (partitions), find most optimal split (# of time steps for each feature)"
   ]
  },
  {
   "cell_type": "code",
   "execution_count": null,
   "id": "e06ee700-caba-4da1-83ec-86917fc2566d",
   "metadata": {},
   "outputs": [],
   "source": []
  }
 ],
 "metadata": {
  "kernelspec": {
   "display_name": "Python 3 (ipykernel)",
   "language": "python",
   "name": "python3"
  },
  "language_info": {
   "codemirror_mode": {
    "name": "ipython",
    "version": 3
   },
   "file_extension": ".py",
   "mimetype": "text/x-python",
   "name": "python",
   "nbconvert_exporter": "python",
   "pygments_lexer": "ipython3",
   "version": "3.8.12"
  }
 },
 "nbformat": 4,
 "nbformat_minor": 5
}
