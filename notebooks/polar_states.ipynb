{
 "cells": [
  {
   "cell_type": "code",
   "execution_count": 1,
   "id": "6758e84c-94b1-41bc-86b0-2f8ebe9a434b",
   "metadata": {},
   "outputs": [],
   "source": [
    "import sys\n",
    "sys.path.append('..')"
   ]
  },
  {
   "cell_type": "code",
   "execution_count": 42,
   "id": "fa081806-2558-4eba-b230-03d99583b49e",
   "metadata": {},
   "outputs": [],
   "source": [
    "import xgboost as xgb\n",
    "import numpy as np\n",
    "import pandas as pd\n",
    "import seaborn as sns\n",
    "import matplotlib.pyplot as plt\n",
    "import sklearn\n",
    "from core.dataset import *\n",
    "from core.utils import *"
   ]
  },
  {
   "cell_type": "code",
   "execution_count": 3,
   "id": "3703200f-e2f5-45f2-987f-8f5cb18c9a7e",
   "metadata": {},
   "outputs": [],
   "source": [
    "path = 'D:/Data/hoffmanlab/featureselection/data/'"
   ]
  },
  {
   "cell_type": "markdown",
   "id": "31f3a0a6-8c6a-4c5e-a299-f3f9e1684dcb",
   "metadata": {},
   "source": [
    "## Polarization state classification on just CpG"
   ]
  },
  {
   "cell_type": "code",
   "execution_count": 7,
   "id": "614bd679-a517-4a0b-8443-ddbe9389d559",
   "metadata": {},
   "outputs": [],
   "source": [
    "ligands = ['CpG_am']\n",
    "polarizations = ['', 'i0', 'i3', 'i4', 'ib', 'ig']"
   ]
  },
  {
   "cell_type": "code",
   "execution_count": 8,
   "id": "312bb46f-8cc8-4d3d-a82d-b94257c13fc6",
   "metadata": {},
   "outputs": [],
   "source": [
    "data = PolarData(path, ligands, polarizations, merge=True)"
   ]
  },
  {
   "cell_type": "code",
   "execution_count": 20,
   "id": "1884cff2-e266-4820-82cb-6ae2612086be",
   "metadata": {},
   "outputs": [],
   "source": [
    "model = xgb.XGBClassifier(use_label_encoder=False, tree_method='gpu_hist')"
   ]
  },
  {
   "cell_type": "code",
   "execution_count": 21,
   "id": "fbb9960f-d1f9-452a-adfe-b5f11caf9b78",
   "metadata": {},
   "outputs": [],
   "source": [
    "X, labels = data.iloc[:, [i for i in range(984)]].to_numpy(), data.iloc[:, [984]].to_numpy().reshape(-1, )"
   ]
  },
  {
   "cell_type": "code",
   "execution_count": 22,
   "id": "883354ba-befe-4950-a860-e9137874abf2",
   "metadata": {},
   "outputs": [],
   "source": [
    "X_train, X_val, y_train, y_val = sklearn.model_selection.train_test_split(X, labels, test_size=0.1)"
   ]
  },
  {
   "cell_type": "code",
   "execution_count": 23,
   "id": "27ddc5c1-6580-4467-b206-f69216e9b78d",
   "metadata": {},
   "outputs": [
    {
     "name": "stdout",
     "output_type": "stream",
     "text": [
      "[21:40:03] WARNING: C:/Users/Administrator/workspace/xgboost-win64_release_1.5.1/src/learner.cc:1115: Starting in XGBoost 1.3.0, the default evaluation metric used with the objective 'multi:softprob' was changed from 'merror' to 'mlogloss'. Explicitly set eval_metric if you'd like to restore the old behavior.\n"
     ]
    },
    {
     "data": {
      "text/plain": [
       "XGBClassifier(base_score=0.5, booster='gbtree', colsample_bylevel=1,\n",
       "              colsample_bynode=1, colsample_bytree=1, enable_categorical=False,\n",
       "              gamma=0, gpu_id=0, importance_type=None,\n",
       "              interaction_constraints='', learning_rate=0.300000012,\n",
       "              max_delta_step=0, max_depth=6, min_child_weight=1, missing=nan,\n",
       "              monotone_constraints='()', n_estimators=100, n_jobs=16,\n",
       "              num_parallel_tree=1, objective='multi:softprob', predictor='auto',\n",
       "              random_state=0, reg_alpha=0, reg_lambda=1, scale_pos_weight=None,\n",
       "              subsample=1, tree_method='gpu_hist', use_label_encoder=False,\n",
       "              validate_parameters=1, verbosity=None)"
      ]
     },
     "execution_count": 23,
     "metadata": {},
     "output_type": "execute_result"
    }
   ],
   "source": [
    "model.fit(X_train, y_train)"
   ]
  },
  {
   "cell_type": "code",
   "execution_count": 24,
   "id": "bdb2ed6b-431d-48d2-bc26-70209637bd79",
   "metadata": {},
   "outputs": [],
   "source": [
    "pred = model.predict(X_val)"
   ]
  },
  {
   "cell_type": "code",
   "execution_count": 25,
   "id": "790e4343-860f-4fe9-b79b-2dde4af5784e",
   "metadata": {},
   "outputs": [],
   "source": [
    "cr = sklearn.metrics.classification_report(pred, y_val, target_names=polarizations) # blank is the unstimulated"
   ]
  },
  {
   "cell_type": "code",
   "execution_count": 26,
   "id": "2b25ac8b-8e95-46fc-b85c-4a869866a013",
   "metadata": {},
   "outputs": [
    {
     "name": "stdout",
     "output_type": "stream",
     "text": [
      "              precision    recall  f1-score   support\n",
      "\n",
      "                   0.63      0.52      0.57       231\n",
      "          i0       0.44      0.52      0.48        99\n",
      "          i3       0.23      0.30      0.26        69\n",
      "          i4       0.47      0.59      0.52        73\n",
      "          ib       0.56      0.54      0.55       164\n",
      "          ig       0.66      0.62      0.64       160\n",
      "\n",
      "    accuracy                           0.53       796\n",
      "   macro avg       0.50      0.51      0.50       796\n",
      "weighted avg       0.55      0.53      0.54       796\n",
      "\n"
     ]
    }
   ],
   "source": [
    "print(cr)"
   ]
  },
  {
   "cell_type": "markdown",
   "id": "9051e503-36c2-43b8-bdd2-21566b7d6025",
   "metadata": {},
   "source": [
    "## Holistic polarization state classification"
   ]
  },
  {
   "cell_type": "code",
   "execution_count": 29,
   "id": "a9585104-0adc-44f2-bdb9-4ee15167c3a3",
   "metadata": {},
   "outputs": [],
   "source": [
    "ligands = ['CpG_am', 'FLA_am', 'FSL_am', 'LPS_am', 'P3K_am', 'PIC_am', 'R84_am', 'TNF_am']\n",
    "polarizations = ['', 'i0', 'i3', 'i4', 'ib', 'ig']"
   ]
  },
  {
   "cell_type": "code",
   "execution_count": 30,
   "id": "728a0e22-f06e-48b2-8e3e-19e9ac16841b",
   "metadata": {},
   "outputs": [],
   "source": [
    "data = PolarData(path, ligands, polarizations, merge=True)"
   ]
  },
  {
   "cell_type": "code",
   "execution_count": 33,
   "id": "af85e1c0-8ef3-4267-a4c1-79f29085a688",
   "metadata": {},
   "outputs": [],
   "source": [
    "data = data.iloc[:, [i for i in range(985)]]"
   ]
  },
  {
   "cell_type": "code",
   "execution_count": 35,
   "id": "f029d6b4-dc97-4806-ba09-df66c0f05498",
   "metadata": {},
   "outputs": [],
   "source": [
    "X, labels = data.iloc[:, [i for i in range(984)]].to_numpy(), data.iloc[:, [984]].to_numpy().reshape(-1, )"
   ]
  },
  {
   "cell_type": "code",
   "execution_count": 36,
   "id": "57a93f70-e324-4783-adf2-244143a1ad8b",
   "metadata": {},
   "outputs": [],
   "source": [
    "X_train, X_val, y_train, y_val = sklearn.model_selection.train_test_split(X, labels, test_size=0.1)"
   ]
  },
  {
   "cell_type": "code",
   "execution_count": 37,
   "id": "0c951970-443e-49d5-b9f6-a5ddf5dbc43d",
   "metadata": {},
   "outputs": [],
   "source": [
    "model = xgb.XGBClassifier(use_label_encoder=False, tree_method='gpu_hist')"
   ]
  },
  {
   "cell_type": "code",
   "execution_count": 38,
   "id": "bade9838-7239-4434-953d-a967916fb704",
   "metadata": {},
   "outputs": [
    {
     "name": "stdout",
     "output_type": "stream",
     "text": [
      "[22:16:35] WARNING: C:/Users/Administrator/workspace/xgboost-win64_release_1.5.1/src/learner.cc:1115: Starting in XGBoost 1.3.0, the default evaluation metric used with the objective 'multi:softprob' was changed from 'merror' to 'mlogloss'. Explicitly set eval_metric if you'd like to restore the old behavior.\n"
     ]
    },
    {
     "data": {
      "text/plain": [
       "XGBClassifier(base_score=0.5, booster='gbtree', colsample_bylevel=1,\n",
       "              colsample_bynode=1, colsample_bytree=1, enable_categorical=False,\n",
       "              gamma=0, gpu_id=0, importance_type=None,\n",
       "              interaction_constraints='', learning_rate=0.300000012,\n",
       "              max_delta_step=0, max_depth=6, min_child_weight=1, missing=nan,\n",
       "              monotone_constraints='()', n_estimators=100, n_jobs=16,\n",
       "              num_parallel_tree=1, objective='multi:softprob', predictor='auto',\n",
       "              random_state=0, reg_alpha=0, reg_lambda=1, scale_pos_weight=None,\n",
       "              subsample=1, tree_method='gpu_hist', use_label_encoder=False,\n",
       "              validate_parameters=1, verbosity=None)"
      ]
     },
     "execution_count": 38,
     "metadata": {},
     "output_type": "execute_result"
    }
   ],
   "source": [
    "model.fit(X_train, y_train)"
   ]
  },
  {
   "cell_type": "code",
   "execution_count": 39,
   "id": "e1282ddc-637f-41f8-96a3-6117787aa927",
   "metadata": {},
   "outputs": [],
   "source": [
    "pred = model.predict(X_val)"
   ]
  },
  {
   "cell_type": "code",
   "execution_count": 40,
   "id": "260168b2-86bc-4923-ba97-f9cfbc26e7f5",
   "metadata": {},
   "outputs": [],
   "source": [
    "cr = sklearn.metrics.classification_report(pred, y_val, target_names=polarizations)"
   ]
  },
  {
   "cell_type": "code",
   "execution_count": 41,
   "id": "a61d76da-6046-4cba-af5c-80dee41e345c",
   "metadata": {},
   "outputs": [
    {
     "name": "stdout",
     "output_type": "stream",
     "text": [
      "              precision    recall  f1-score   support\n",
      "\n",
      "                   0.50      0.40      0.45      1683\n",
      "          i0       0.35      0.46      0.40       892\n",
      "          i3       0.36      0.36      0.36       994\n",
      "          i4       0.46      0.45      0.46       884\n",
      "          ib       0.47      0.46      0.47      1046\n",
      "          ig       0.50      0.52      0.51      1307\n",
      "\n",
      "    accuracy                           0.44      6806\n",
      "   macro avg       0.44      0.44      0.44      6806\n",
      "weighted avg       0.45      0.44      0.44      6806\n",
      "\n"
     ]
    }
   ],
   "source": [
    "print(cr)"
   ]
  }
 ],
 "metadata": {
  "kernelspec": {
   "display_name": "Python 3 (ipykernel)",
   "language": "python",
   "name": "python3"
  },
  "language_info": {
   "codemirror_mode": {
    "name": "ipython",
    "version": 3
   },
   "file_extension": ".py",
   "mimetype": "text/x-python",
   "name": "python",
   "nbconvert_exporter": "python",
   "pygments_lexer": "ipython3",
   "version": "3.8.12"
  }
 },
 "nbformat": 4,
 "nbformat_minor": 5
}
