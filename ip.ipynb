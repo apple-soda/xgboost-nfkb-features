{
 "cells": [
  {
   "cell_type": "code",
   "execution_count": 1,
   "id": "e84e4dd5-e75f-4475-9635-6ac68ea0c875",
   "metadata": {},
   "outputs": [],
   "source": [
    "import numpy as np\n",
    "import pandas as pd"
   ]
  },
  {
   "cell_type": "code",
   "execution_count": 2,
   "id": "5bf2a6e5-d598-490e-9b81-2ba9f935e73a",
   "metadata": {},
   "outputs": [],
   "source": [
    "def col_to_index(col):\n",
    "    return sum((ord(c) - 64) * 26**i for i, c in enumerate(reversed(col))) - 1"
   ]
  },
  {
   "cell_type": "code",
   "execution_count": 15,
   "id": "5b7c5224-7912-4c87-978f-bc06715a39f1",
   "metadata": {},
   "outputs": [],
   "source": [
    "# CpG, FLA, FSL, LPS, P3K, PIC, R84, TNF\n",
    "# 0, 1, 2, 3, 4, 5, 6, 7"
   ]
  },
  {
   "cell_type": "code",
   "execution_count": 3,
   "id": "1b633742-0694-4040-9ab2-88126618a0a5",
   "metadata": {},
   "outputs": [],
   "source": [
    "load_dir = 'D:/Data/hoffmanlab/featureselection/data/'"
   ]
  },
  {
   "cell_type": "code",
   "execution_count": 30,
   "id": "f1717a15-78fa-4443-970b-1fd4ea57817c",
   "metadata": {},
   "outputs": [],
   "source": [
    "CpG = pd.read_csv(load_dir + 'CpG_sc.csv').to_numpy()"
   ]
  },
  {
   "cell_type": "code",
   "execution_count": 31,
   "id": "1a6da678-95e0-496a-a7f3-cdc3ec99b3f9",
   "metadata": {},
   "outputs": [],
   "source": [
    "FLA = pd.read_csv(load_dir + 'FLA_sc.csv').to_numpy()"
   ]
  },
  {
   "cell_type": "code",
   "execution_count": 32,
   "id": "3458137a-0917-4756-85db-069a59c776aa",
   "metadata": {},
   "outputs": [],
   "source": [
    "FSL = pd.read_csv(load_dir + 'FSL_sc.csv').to_numpy()"
   ]
  },
  {
   "cell_type": "code",
   "execution_count": 33,
   "id": "bf81fcad-0108-4113-af06-224ea336d4a2",
   "metadata": {},
   "outputs": [],
   "source": [
    "LPS = pd.read_csv(load_dir + 'LPS_sc.csv').to_numpy()"
   ]
  },
  {
   "cell_type": "code",
   "execution_count": 34,
   "id": "0eff1b6a-b171-4599-9211-45e5d2d319b6",
   "metadata": {},
   "outputs": [],
   "source": [
    "P3K = pd.read_csv(load_dir + 'P3K_sc.csv').to_numpy()"
   ]
  },
  {
   "cell_type": "code",
   "execution_count": 35,
   "id": "1942211f-f9ba-4fb7-b6d9-351bc5f4470c",
   "metadata": {},
   "outputs": [],
   "source": [
    "PIC = pd.read_csv(load_dir + 'PIC_sc.csv').to_numpy()"
   ]
  },
  {
   "cell_type": "code",
   "execution_count": 36,
   "id": "bc144157-ebb0-402d-b47f-2b8cc7a7665b",
   "metadata": {},
   "outputs": [],
   "source": [
    "R84 = pd.read_csv(load_dir + 'R84_sc.csv').to_numpy()"
   ]
  },
  {
   "cell_type": "code",
   "execution_count": 37,
   "id": "d7200410-62a9-495b-9636-6ee47301c7ec",
   "metadata": {},
   "outputs": [],
   "source": [
    "TNF = pd.read_csv(load_dir + 'TNF_sc.csv').to_numpy()"
   ]
  },
  {
   "cell_type": "code",
   "execution_count": 40,
   "id": "fb8fcf22-39e9-4562-be7d-826ee90b474d",
   "metadata": {},
   "outputs": [
    {
     "data": {
      "text/plain": [
       "(1988, 6)"
      ]
     },
     "execution_count": 40,
     "metadata": {},
     "output_type": "execute_result"
    }
   ],
   "source": [
    "CpG.shape"
   ]
  },
  {
   "cell_type": "code",
   "execution_count": 41,
   "id": "5ba8b4c3-d2ee-48c7-92fb-9243205c36b7",
   "metadata": {},
   "outputs": [],
   "source": [
    "label0 = np.full((1988, 1), 0)"
   ]
  },
  {
   "cell_type": "code",
   "execution_count": 43,
   "id": "2c180a99-b452-42aa-aa33-b59eee8a46d7",
   "metadata": {},
   "outputs": [],
   "source": [
    "LCpG = np.hstack([CpG, label0])"
   ]
  },
  {
   "cell_type": "code",
   "execution_count": 50,
   "id": "19a7c431-3f3a-45b3-9044-08177531d32f",
   "metadata": {},
   "outputs": [],
   "source": [
    "label1 = np.full((1532, 1), 1)"
   ]
  },
  {
   "cell_type": "code",
   "execution_count": 49,
   "id": "406b10f0-bbe7-49d5-a72d-33e8e28718f0",
   "metadata": {},
   "outputs": [
    {
     "data": {
      "text/plain": [
       "(1532, 6)"
      ]
     },
     "execution_count": 49,
     "metadata": {},
     "output_type": "execute_result"
    }
   ],
   "source": [
    "FLA.shape"
   ]
  },
  {
   "cell_type": "code",
   "execution_count": 51,
   "id": "4ccb7d8b-9b01-416c-bfac-6841859292e0",
   "metadata": {},
   "outputs": [],
   "source": [
    "LFLA = np.hstack([FLA, label1])"
   ]
  },
  {
   "cell_type": "code",
   "execution_count": 53,
   "id": "71d1b076-223d-4b89-8a91-f379d24c5273",
   "metadata": {},
   "outputs": [
    {
     "data": {
      "text/plain": [
       "(1912, 6)"
      ]
     },
     "execution_count": 53,
     "metadata": {},
     "output_type": "execute_result"
    }
   ],
   "source": [
    "FSL.shape"
   ]
  },
  {
   "cell_type": "code",
   "execution_count": 54,
   "id": "036f7c25-68c6-46dc-9a20-5512e91244c1",
   "metadata": {},
   "outputs": [],
   "source": [
    "label2 = np.full((1912, 1), 2)"
   ]
  },
  {
   "cell_type": "code",
   "execution_count": 55,
   "id": "15dc4e6d-54ee-4d0c-a9f1-0c8ac3a56c1e",
   "metadata": {},
   "outputs": [],
   "source": [
    "LFSL = np.hstack([FSL, label2])"
   ]
  },
  {
   "cell_type": "code",
   "execution_count": 56,
   "id": "1f7423f0-7f80-45f1-af12-335674513205",
   "metadata": {},
   "outputs": [
    {
     "data": {
      "text/plain": [
       "(1764, 6)"
      ]
     },
     "execution_count": 56,
     "metadata": {},
     "output_type": "execute_result"
    }
   ],
   "source": [
    "LPS.shape"
   ]
  },
  {
   "cell_type": "code",
   "execution_count": 57,
   "id": "05647fbd-6c26-4206-9752-5115ef15a4f5",
   "metadata": {},
   "outputs": [],
   "source": [
    "label3 = np.full((1764, 1), 3)"
   ]
  },
  {
   "cell_type": "code",
   "execution_count": 58,
   "id": "35e4e1b8-9be1-413c-8a0e-140ff6cf2a0e",
   "metadata": {},
   "outputs": [],
   "source": [
    "LLPS = np.hstack([LPS, label3])"
   ]
  },
  {
   "cell_type": "code",
   "execution_count": 59,
   "id": "ce889feb-5208-40d3-ba9c-845afa377487",
   "metadata": {},
   "outputs": [
    {
     "data": {
      "text/plain": [
       "(1494, 6)"
      ]
     },
     "execution_count": 59,
     "metadata": {},
     "output_type": "execute_result"
    }
   ],
   "source": [
    "P3K.shape"
   ]
  },
  {
   "cell_type": "code",
   "execution_count": 60,
   "id": "3f9a8ae6-1c21-4aee-a706-25469261104c",
   "metadata": {},
   "outputs": [],
   "source": [
    "label4 = np.full((1494, 1), 4)"
   ]
  },
  {
   "cell_type": "code",
   "execution_count": 61,
   "id": "3dc2d4ab-1c8b-4ed0-857e-b8eb644ef910",
   "metadata": {},
   "outputs": [],
   "source": [
    "LP3K = np.hstack([P3K, label4])"
   ]
  },
  {
   "cell_type": "code",
   "execution_count": 62,
   "id": "a1914ac5-d379-4b15-b0f9-aade70a7036a",
   "metadata": {},
   "outputs": [
    {
     "data": {
      "text/plain": [
       "(1394, 6)"
      ]
     },
     "execution_count": 62,
     "metadata": {},
     "output_type": "execute_result"
    }
   ],
   "source": [
    "PIC.shape"
   ]
  },
  {
   "cell_type": "code",
   "execution_count": 63,
   "id": "ee2c92d7-b672-493c-b4f3-67e2e651c566",
   "metadata": {},
   "outputs": [],
   "source": [
    "label5 = np.full((1394, 1), 5)"
   ]
  },
  {
   "cell_type": "code",
   "execution_count": 64,
   "id": "4ccfce4b-3773-435c-a615-91cbf21fd8bc",
   "metadata": {},
   "outputs": [],
   "source": [
    "LPIC = np.hstack([PIC, label5])"
   ]
  },
  {
   "cell_type": "code",
   "execution_count": 65,
   "id": "1af6c4f2-f16d-40b6-9197-cbc0147ffc92",
   "metadata": {},
   "outputs": [
    {
     "data": {
      "text/plain": [
       "(2690, 6)"
      ]
     },
     "execution_count": 65,
     "metadata": {},
     "output_type": "execute_result"
    }
   ],
   "source": [
    "R84.shape"
   ]
  },
  {
   "cell_type": "code",
   "execution_count": 66,
   "id": "1f4e9b1b-b4c1-48c7-ad59-254d33e55d00",
   "metadata": {},
   "outputs": [],
   "source": [
    "label6 = np.full((2690, 1), 6)"
   ]
  },
  {
   "cell_type": "code",
   "execution_count": 67,
   "id": "a4517278-46d8-4e2f-9c19-e8b8d5dc0026",
   "metadata": {},
   "outputs": [],
   "source": [
    "LR84 = np.hstack([R84, label6])"
   ]
  },
  {
   "cell_type": "code",
   "execution_count": 68,
   "id": "2d0eb4a2-da9d-4297-a328-82184eb2e6ba",
   "metadata": {},
   "outputs": [
    {
     "data": {
      "text/plain": [
       "(1602, 6)"
      ]
     },
     "execution_count": 68,
     "metadata": {},
     "output_type": "execute_result"
    }
   ],
   "source": [
    "TNF.shape"
   ]
  },
  {
   "cell_type": "code",
   "execution_count": 69,
   "id": "9933e6e3-b9af-48ca-88d1-4760ae9f8796",
   "metadata": {},
   "outputs": [],
   "source": [
    "label7 = np.full((1602, 1), 7)"
   ]
  },
  {
   "cell_type": "code",
   "execution_count": 70,
   "id": "a3c85f17-11f2-47a3-a02a-a08e0a621843",
   "metadata": {},
   "outputs": [],
   "source": [
    "LTNF = np.hstack([TNF, label7])"
   ]
  },
  {
   "cell_type": "code",
   "execution_count": 72,
   "id": "9738b977-eebf-42a9-ac87-a1dc96e10e7e",
   "metadata": {},
   "outputs": [],
   "source": [
    "# concat them all\n",
    "# CpG, FLA, FSL, LPS, P3K, PIC, R84, TNF\n",
    "# 0, 1, 2, 3, 4, 5, 6, 7"
   ]
  },
  {
   "cell_type": "code",
   "execution_count": 73,
   "id": "85d0a418-c9f4-4936-8ccd-ef139fe71e9b",
   "metadata": {},
   "outputs": [],
   "source": [
    "dataset = np.vstack([LCpG, LFLA, LFSL, LLPS, LP3K, LPIC, LR84, LTNF])"
   ]
  },
  {
   "cell_type": "code",
   "execution_count": 75,
   "id": "ba59d3e4-56d6-4d38-afe5-5829a59695a8",
   "metadata": {},
   "outputs": [
    {
     "data": {
      "text/plain": [
       "(14376, 7)"
      ]
     },
     "execution_count": 75,
     "metadata": {},
     "output_type": "execute_result"
    }
   ],
   "source": [
    "dataset.shape"
   ]
  },
  {
   "cell_type": "code",
   "execution_count": 112,
   "id": "65863f94-cee2-43c6-9e2d-56f47785175b",
   "metadata": {},
   "outputs": [],
   "source": [
    "X = dataset[:, [0,1,2,3,4,5]]\n",
    "y = dataset[:, [6]]"
   ]
  },
  {
   "cell_type": "code",
   "execution_count": 97,
   "id": "9c7ab0c1-ec48-4e9c-aa29-041275edcc95",
   "metadata": {},
   "outputs": [
    {
     "name": "stdout",
     "output_type": "stream",
     "text": [
      "(14376, 6) (14376, 1)\n"
     ]
    }
   ],
   "source": [
    "print(X.shape, y.shape)"
   ]
  },
  {
   "cell_type": "code",
   "execution_count": 77,
   "id": "89d57549-fdf9-4a5a-b3d4-0a829e30579a",
   "metadata": {},
   "outputs": [],
   "source": [
    "from sklearn.model_selection import train_test_split"
   ]
  },
  {
   "cell_type": "code",
   "execution_count": 115,
   "id": "8e2148b9-11e3-4117-8aae-f48a2221dee0",
   "metadata": {},
   "outputs": [],
   "source": [
    "X, x_val, Y, y_val = train_test_split(X, y, test_size=0.1, random_state=42)"
   ]
  },
  {
   "cell_type": "code",
   "execution_count": 104,
   "id": "14fccf4a-2335-4ca4-b1cc-3b05dca29707",
   "metadata": {},
   "outputs": [],
   "source": [
    "import xgboost as xgb"
   ]
  },
  {
   "cell_type": "code",
   "execution_count": 105,
   "id": "32098975-53bc-49ac-9048-809b0a82a83b",
   "metadata": {},
   "outputs": [],
   "source": [
    "data_dmatrix = xgb.DMatrix(data=X,label=y)"
   ]
  },
  {
   "cell_type": "code",
   "execution_count": 107,
   "id": "559e6697-e0c1-4a92-ab14-107d1cebce51",
   "metadata": {},
   "outputs": [],
   "source": [
    "xg_reg = xgb.XGBClassifier()"
   ]
  },
  {
   "cell_type": "code",
   "execution_count": 111,
   "id": "ee9d6bef-4ea8-4f81-bb1c-508a92ea7a99",
   "metadata": {},
   "outputs": [
    {
     "data": {
      "text/plain": [
       "(14376, 7)"
      ]
     },
     "execution_count": 111,
     "metadata": {},
     "output_type": "execute_result"
    }
   ],
   "source": [
    "dataset.shape"
   ]
  },
  {
   "cell_type": "code",
   "execution_count": 118,
   "id": "4b000029-c49a-4a65-aab5-daa1cd62d095",
   "metadata": {},
   "outputs": [
    {
     "data": {
      "text/plain": [
       "(12938, 1)"
      ]
     },
     "execution_count": 118,
     "metadata": {},
     "output_type": "execute_result"
    }
   ],
   "source": [
    "Y.shape"
   ]
  },
  {
   "cell_type": "code",
   "execution_count": 119,
   "id": "831b0145-a053-4232-b738-6838dbd7e59f",
   "metadata": {},
   "outputs": [
    {
     "name": "stdout",
     "output_type": "stream",
     "text": [
      "[15:40:07] WARNING: D:\\bld\\xgboost-split_1645118015404\\work\\src\\learner.cc:1115: Starting in XGBoost 1.3.0, the default evaluation metric used with the objective 'multi:softprob' was changed from 'merror' to 'mlogloss'. Explicitly set eval_metric if you'd like to restore the old behavior.\n"
     ]
    },
    {
     "data": {
      "text/plain": [
       "XGBClassifier(base_score=0.5, booster='gbtree', colsample_bylevel=1,\n",
       "              colsample_bynode=1, colsample_bytree=1, enable_categorical=False,\n",
       "              gamma=0, gpu_id=-1, importance_type=None,\n",
       "              interaction_constraints='', learning_rate=0.300000012,\n",
       "              max_delta_step=0, max_depth=6, min_child_weight=1, missing=nan,\n",
       "              monotone_constraints='()', n_estimators=100, n_jobs=16,\n",
       "              num_parallel_tree=1, objective='multi:softprob', predictor='auto',\n",
       "              random_state=0, reg_alpha=0, reg_lambda=1, scale_pos_weight=None,\n",
       "              subsample=1, tree_method='exact', validate_parameters=1,\n",
       "              verbosity=None)"
      ]
     },
     "execution_count": 119,
     "metadata": {},
     "output_type": "execute_result"
    }
   ],
   "source": [
    "xg_reg.fit(X, Y)"
   ]
  },
  {
   "cell_type": "code",
   "execution_count": 132,
   "id": "046c14be-3628-4e83-a0b9-3c755d323578",
   "metadata": {},
   "outputs": [],
   "source": [
    "pls = xg_reg.predict(x_val)"
   ]
  },
  {
   "cell_type": "code",
   "execution_count": 134,
   "id": "bf18c2c7-339d-4af8-a688-db6dfc5b2235",
   "metadata": {},
   "outputs": [],
   "source": [
    "acc = 0\n",
    "for x, y in zip(pls, y_val):\n",
    "    if x == y:\n",
    "        acc += 1"
   ]
  },
  {
   "cell_type": "code",
   "execution_count": 135,
   "id": "95d3c2e1-0777-4f33-8953-528af119bdd4",
   "metadata": {},
   "outputs": [
    {
     "data": {
      "text/plain": [
       "0.42141863699582754"
      ]
     },
     "execution_count": 135,
     "metadata": {},
     "output_type": "execute_result"
    }
   ],
   "source": [
    "acc/len(y_val) # terrible"
   ]
  },
  {
   "cell_type": "code",
   "execution_count": 136,
   "id": "7bab5716-1f44-4b2d-954e-9d3d38d44a04",
   "metadata": {},
   "outputs": [],
   "source": [
    "a = pd.DataFrame(pls)\n",
    "b = pd.DataFrame(y_val)"
   ]
  },
  {
   "cell_type": "code",
   "execution_count": 137,
   "id": "9f50aa3b-7293-416c-9efa-94bbb7a0ff2b",
   "metadata": {},
   "outputs": [
    {
     "data": {
      "text/html": [
       "<div>\n",
       "<style scoped>\n",
       "    .dataframe tbody tr th:only-of-type {\n",
       "        vertical-align: middle;\n",
       "    }\n",
       "\n",
       "    .dataframe tbody tr th {\n",
       "        vertical-align: top;\n",
       "    }\n",
       "\n",
       "    .dataframe thead th {\n",
       "        text-align: right;\n",
       "    }\n",
       "</style>\n",
       "<table border=\"1\" class=\"dataframe\">\n",
       "  <thead>\n",
       "    <tr style=\"text-align: right;\">\n",
       "      <th></th>\n",
       "      <th>0</th>\n",
       "    </tr>\n",
       "  </thead>\n",
       "  <tbody>\n",
       "    <tr>\n",
       "      <th>0</th>\n",
       "      <td>5.0</td>\n",
       "    </tr>\n",
       "    <tr>\n",
       "      <th>1</th>\n",
       "      <td>6.0</td>\n",
       "    </tr>\n",
       "    <tr>\n",
       "      <th>2</th>\n",
       "      <td>6.0</td>\n",
       "    </tr>\n",
       "    <tr>\n",
       "      <th>3</th>\n",
       "      <td>5.0</td>\n",
       "    </tr>\n",
       "    <tr>\n",
       "      <th>4</th>\n",
       "      <td>0.0</td>\n",
       "    </tr>\n",
       "    <tr>\n",
       "      <th>...</th>\n",
       "      <td>...</td>\n",
       "    </tr>\n",
       "    <tr>\n",
       "      <th>1433</th>\n",
       "      <td>3.0</td>\n",
       "    </tr>\n",
       "    <tr>\n",
       "      <th>1434</th>\n",
       "      <td>6.0</td>\n",
       "    </tr>\n",
       "    <tr>\n",
       "      <th>1435</th>\n",
       "      <td>4.0</td>\n",
       "    </tr>\n",
       "    <tr>\n",
       "      <th>1436</th>\n",
       "      <td>1.0</td>\n",
       "    </tr>\n",
       "    <tr>\n",
       "      <th>1437</th>\n",
       "      <td>6.0</td>\n",
       "    </tr>\n",
       "  </tbody>\n",
       "</table>\n",
       "<p>1438 rows × 1 columns</p>\n",
       "</div>"
      ],
      "text/plain": [
       "        0\n",
       "0     5.0\n",
       "1     6.0\n",
       "2     6.0\n",
       "3     5.0\n",
       "4     0.0\n",
       "...   ...\n",
       "1433  3.0\n",
       "1434  6.0\n",
       "1435  4.0\n",
       "1436  1.0\n",
       "1437  6.0\n",
       "\n",
       "[1438 rows x 1 columns]"
      ]
     },
     "execution_count": 137,
     "metadata": {},
     "output_type": "execute_result"
    }
   ],
   "source": [
    "a"
   ]
  },
  {
   "cell_type": "code",
   "execution_count": 138,
   "id": "b55b5bd7-d009-42e7-ad92-ec0ff4626334",
   "metadata": {},
   "outputs": [
    {
     "data": {
      "text/html": [
       "<div>\n",
       "<style scoped>\n",
       "    .dataframe tbody tr th:only-of-type {\n",
       "        vertical-align: middle;\n",
       "    }\n",
       "\n",
       "    .dataframe tbody tr th {\n",
       "        vertical-align: top;\n",
       "    }\n",
       "\n",
       "    .dataframe thead th {\n",
       "        text-align: right;\n",
       "    }\n",
       "</style>\n",
       "<table border=\"1\" class=\"dataframe\">\n",
       "  <thead>\n",
       "    <tr style=\"text-align: right;\">\n",
       "      <th></th>\n",
       "      <th>0</th>\n",
       "    </tr>\n",
       "  </thead>\n",
       "  <tbody>\n",
       "    <tr>\n",
       "      <th>0</th>\n",
       "      <td>1.0</td>\n",
       "    </tr>\n",
       "    <tr>\n",
       "      <th>1</th>\n",
       "      <td>6.0</td>\n",
       "    </tr>\n",
       "    <tr>\n",
       "      <th>2</th>\n",
       "      <td>2.0</td>\n",
       "    </tr>\n",
       "    <tr>\n",
       "      <th>3</th>\n",
       "      <td>7.0</td>\n",
       "    </tr>\n",
       "    <tr>\n",
       "      <th>4</th>\n",
       "      <td>7.0</td>\n",
       "    </tr>\n",
       "    <tr>\n",
       "      <th>...</th>\n",
       "      <td>...</td>\n",
       "    </tr>\n",
       "    <tr>\n",
       "      <th>1433</th>\n",
       "      <td>0.0</td>\n",
       "    </tr>\n",
       "    <tr>\n",
       "      <th>1434</th>\n",
       "      <td>2.0</td>\n",
       "    </tr>\n",
       "    <tr>\n",
       "      <th>1435</th>\n",
       "      <td>6.0</td>\n",
       "    </tr>\n",
       "    <tr>\n",
       "      <th>1436</th>\n",
       "      <td>0.0</td>\n",
       "    </tr>\n",
       "    <tr>\n",
       "      <th>1437</th>\n",
       "      <td>0.0</td>\n",
       "    </tr>\n",
       "  </tbody>\n",
       "</table>\n",
       "<p>1438 rows × 1 columns</p>\n",
       "</div>"
      ],
      "text/plain": [
       "        0\n",
       "0     1.0\n",
       "1     6.0\n",
       "2     2.0\n",
       "3     7.0\n",
       "4     7.0\n",
       "...   ...\n",
       "1433  0.0\n",
       "1434  2.0\n",
       "1435  6.0\n",
       "1436  0.0\n",
       "1437  0.0\n",
       "\n",
       "[1438 rows x 1 columns]"
      ]
     },
     "execution_count": 138,
     "metadata": {},
     "output_type": "execute_result"
    }
   ],
   "source": [
    "b"
   ]
  },
  {
   "cell_type": "code",
   "execution_count": null,
   "id": "aa707de1-8a82-40a3-87e4-2816cc77a7d5",
   "metadata": {},
   "outputs": [],
   "source": []
  }
 ],
 "metadata": {
  "kernelspec": {
   "display_name": "Python 3 (ipykernel)",
   "language": "python",
   "name": "python3"
  },
  "language_info": {
   "codemirror_mode": {
    "name": "ipython",
    "version": 3
   },
   "file_extension": ".py",
   "mimetype": "text/x-python",
   "name": "python",
   "nbconvert_exporter": "python",
   "pygments_lexer": "ipython3",
   "version": "3.8.12"
  }
 },
 "nbformat": 4,
 "nbformat_minor": 5
}
